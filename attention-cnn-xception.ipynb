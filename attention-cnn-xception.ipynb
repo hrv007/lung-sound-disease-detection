{
 "cells": [
  {
   "cell_type": "code",
   "execution_count": 39,
   "metadata": {
    "execution": {
     "iopub.execute_input": "2023-09-07T07:45:36.915799Z",
     "iopub.status.busy": "2023-09-07T07:45:36.915143Z",
     "iopub.status.idle": "2023-09-07T07:45:47.472273Z",
     "shell.execute_reply": "2023-09-07T07:45:47.471020Z",
     "shell.execute_reply.started": "2023-09-07T07:45:36.915757Z"
    }
   },
   "outputs": [],
   "source": [
    "import numpy as np\n",
    "import pandas as pd\n",
    "import tensorflow as tf\n",
    "from tensorflow import keras\n",
    "import matplotlib.pyplot as plt\n",
    "from sklearn.model_selection import train_test_split\n",
    "import cv2\n",
    "from sklearn.metrics import accuracy_score, precision_score, recall_score, f1_score, confusion_matrix"
   ]
  },
  {
   "cell_type": "code",
   "execution_count": 40,
   "metadata": {
    "execution": {
     "iopub.execute_input": "2023-09-07T07:45:47.475931Z",
     "iopub.status.busy": "2023-09-07T07:45:47.474540Z",
     "iopub.status.idle": "2023-09-07T07:45:47.512055Z",
     "shell.execute_reply": "2023-09-07T07:45:47.510709Z",
     "shell.execute_reply.started": "2023-09-07T07:45:47.475877Z"
    }
   },
   "outputs": [
    {
     "data": {
      "text/html": [
       "<div>\n",
       "<style scoped>\n",
       "    .dataframe tbody tr th:only-of-type {\n",
       "        vertical-align: middle;\n",
       "    }\n",
       "\n",
       "    .dataframe tbody tr th {\n",
       "        vertical-align: top;\n",
       "    }\n",
       "\n",
       "    .dataframe thead th {\n",
       "        text-align: right;\n",
       "    }\n",
       "</style>\n",
       "<table border=\"1\" class=\"dataframe\">\n",
       "  <thead>\n",
       "    <tr style=\"text-align: right;\">\n",
       "      <th></th>\n",
       "      <th>101</th>\n",
       "      <th>URTI</th>\n",
       "    </tr>\n",
       "  </thead>\n",
       "  <tbody>\n",
       "    <tr>\n",
       "      <th>0</th>\n",
       "      <td>102</td>\n",
       "      <td>Healthy</td>\n",
       "    </tr>\n",
       "    <tr>\n",
       "      <th>1</th>\n",
       "      <td>103</td>\n",
       "      <td>Asthma</td>\n",
       "    </tr>\n",
       "    <tr>\n",
       "      <th>2</th>\n",
       "      <td>104</td>\n",
       "      <td>COPD</td>\n",
       "    </tr>\n",
       "    <tr>\n",
       "      <th>3</th>\n",
       "      <td>105</td>\n",
       "      <td>URTI</td>\n",
       "    </tr>\n",
       "    <tr>\n",
       "      <th>4</th>\n",
       "      <td>106</td>\n",
       "      <td>COPD</td>\n",
       "    </tr>\n",
       "  </tbody>\n",
       "</table>\n",
       "</div>"
      ],
      "text/plain": [
       "   101     URTI\n",
       "0  102  Healthy\n",
       "1  103   Asthma\n",
       "2  104     COPD\n",
       "3  105     URTI\n",
       "4  106     COPD"
      ]
     },
     "execution_count": 40,
     "metadata": {},
     "output_type": "execute_result"
    }
   ],
   "source": [
    "df = pd.read_csv(\"ICBHI 2017/Respiratory_Sound_Database/Respiratory_Sound_Database/patient_diagnosis.csv\")\n",
    "df.head()"
   ]
  },
  {
   "cell_type": "code",
   "execution_count": 41,
   "metadata": {
    "execution": {
     "iopub.execute_input": "2023-09-07T07:45:47.514395Z",
     "iopub.status.busy": "2023-09-07T07:45:47.513729Z",
     "iopub.status.idle": "2023-09-07T07:45:47.524955Z",
     "shell.execute_reply": "2023-09-07T07:45:47.523681Z",
     "shell.execute_reply.started": "2023-09-07T07:45:47.514348Z"
    }
   },
   "outputs": [
    {
     "data": {
      "text/plain": [
       "array(['Healthy', 'Asthma', 'COPD', 'URTI', 'LRTI', 'Bronchiectasis',\n",
       "       'Pneumonia', 'Bronchiolitis'], dtype=object)"
      ]
     },
     "execution_count": 41,
     "metadata": {},
     "output_type": "execute_result"
    }
   ],
   "source": [
    "df['URTI'].unique()"
   ]
  },
  {
   "cell_type": "code",
   "execution_count": 42,
   "metadata": {
    "execution": {
     "iopub.execute_input": "2023-09-07T07:45:47.529393Z",
     "iopub.status.busy": "2023-09-07T07:45:47.528649Z",
     "iopub.status.idle": "2023-09-07T07:45:47.540965Z",
     "shell.execute_reply": "2023-09-07T07:45:47.539640Z",
     "shell.execute_reply.started": "2023-09-07T07:45:47.529342Z"
    }
   },
   "outputs": [],
   "source": [
    "sr_no = {'101':'URTI'}\n",
    "for i, j in zip(df['101'].unique(), df['URTI']):\n",
    "    sr_no[str(i)] = j"
   ]
  },
  {
   "cell_type": "code",
   "execution_count": 43,
   "metadata": {
    "execution": {
     "iopub.execute_input": "2023-09-07T07:45:47.542924Z",
     "iopub.status.busy": "2023-09-07T07:45:47.542477Z",
     "iopub.status.idle": "2023-09-07T07:45:47.555119Z",
     "shell.execute_reply": "2023-09-07T07:45:47.553730Z",
     "shell.execute_reply.started": "2023-09-07T07:45:47.542890Z"
    }
   },
   "outputs": [
    {
     "data": {
      "text/plain": [
       "dict_keys(['101', '102', '103', '104', '105', '106', '107', '108', '109', '110', '111', '112', '113', '114', '115', '116', '117', '118', '119', '120', '121', '122', '123', '124', '125', '126', '127', '128', '129', '130', '131', '132', '133', '134', '135', '136', '137', '138', '139', '140', '141', '142', '143', '144', '145', '146', '147', '148', '149', '150', '151', '152', '153', '154', '155', '156', '157', '158', '159', '160', '161', '162', '163', '164', '165', '166', '167', '168', '169', '170', '171', '172', '173', '174', '175', '176', '177', '178', '179', '180', '181', '182', '183', '184', '185', '186', '187', '188', '189', '190', '191', '192', '193', '194', '195', '196', '197', '198', '199', '200', '201', '202', '203', '204', '205', '206', '207', '208', '209', '210', '211', '212', '213', '214', '215', '216', '217', '218', '219', '220', '221', '222', '223', '224', '225', '226'])"
      ]
     },
     "execution_count": 43,
     "metadata": {},
     "output_type": "execute_result"
    }
   ],
   "source": [
    "sr_no.keys()"
   ]
  },
  {
   "cell_type": "code",
   "execution_count": 44,
   "metadata": {
    "execution": {
     "iopub.execute_input": "2023-09-07T07:45:47.559967Z",
     "iopub.status.busy": "2023-09-07T07:45:47.556871Z",
     "iopub.status.idle": "2023-09-07T07:45:47.683469Z",
     "shell.execute_reply": "2023-09-07T07:45:47.682550Z",
     "shell.execute_reply.started": "2023-09-07T07:45:47.559909Z"
    }
   },
   "outputs": [],
   "source": [
    "import os\n",
    "sound_files = os.listdir('Mel Spectrogram/Original')"
   ]
  },
  {
   "cell_type": "code",
   "execution_count": 45,
   "metadata": {
    "execution": {
     "iopub.execute_input": "2023-09-07T07:45:47.685141Z",
     "iopub.status.busy": "2023-09-07T07:45:47.684689Z",
     "iopub.status.idle": "2023-09-07T07:45:47.691552Z",
     "shell.execute_reply": "2023-09-07T07:45:47.690177Z",
     "shell.execute_reply.started": "2023-09-07T07:45:47.685102Z"
    }
   },
   "outputs": [],
   "source": [
    "req_file_names = []\n",
    "\n",
    "for i in sound_files:\n",
    "      req_file_names.append([i])"
   ]
  },
  {
   "cell_type": "code",
   "execution_count": 46,
   "metadata": {
    "execution": {
     "iopub.execute_input": "2023-09-07T07:45:47.693952Z",
     "iopub.status.busy": "2023-09-07T07:45:47.693199Z",
     "iopub.status.idle": "2023-09-07T07:45:47.706415Z",
     "shell.execute_reply": "2023-09-07T07:45:47.705445Z",
     "shell.execute_reply.started": "2023-09-07T07:45:47.693906Z"
    }
   },
   "outputs": [],
   "source": [
    "labels = []\n",
    "for i in range(len(req_file_names)):\n",
    "    req_file_names[i].append(sr_no[req_file_names[i][0][:3]])\n",
    "    labels.append(sr_no[req_file_names[i][0][:3]])"
   ]
  },
  {
   "cell_type": "code",
   "execution_count": 47,
   "metadata": {
    "execution": {
     "iopub.execute_input": "2023-09-07T07:45:47.708947Z",
     "iopub.status.busy": "2023-09-07T07:45:47.707801Z",
     "iopub.status.idle": "2023-09-07T07:45:47.720459Z",
     "shell.execute_reply": "2023-09-07T07:45:47.719222Z",
     "shell.execute_reply.started": "2023-09-07T07:45:47.708898Z"
    }
   },
   "outputs": [],
   "source": [
    "labels *= 3"
   ]
  },
  {
   "cell_type": "code",
   "execution_count": 48,
   "metadata": {
    "execution": {
     "iopub.execute_input": "2023-09-07T07:45:47.725938Z",
     "iopub.status.busy": "2023-09-07T07:45:47.725391Z",
     "iopub.status.idle": "2023-09-07T07:46:45.542757Z",
     "shell.execute_reply": "2023-09-07T07:46:45.541454Z",
     "shell.execute_reply.started": "2023-09-07T07:45:47.725897Z"
    }
   },
   "outputs": [],
   "source": [
    "x = []\n",
    "\n",
    "for i in req_file_names:\n",
    "    img = cv2.imread('Mel Spectrogram/Time Stretch/'+i[0])\n",
    "    img = cv2.resize(img, (350, 350))\n",
    "    x.append(img)\n",
    "\n",
    "for i in req_file_names:\n",
    "    img = cv2.imread('Mel Spectrogram/Pitch Shift/'+i[0])\n",
    "    img = cv2.resize(img, (350, 350))\n",
    "    x.append(img)\n",
    "    \n",
    "for i in req_file_names:\n",
    "    img = cv2.imread('Mel Spectrogram/Audio Shift/'+i[0])\n",
    "    img = cv2.resize(img, (350, 350))\n",
    "    x.append(img)\n",
    "\n",
    "# x = np.array(x)\n",
    "# print(x.shape)"
   ]
  },
  {
   "cell_type": "code",
   "execution_count": 49,
   "metadata": {
    "execution": {
     "iopub.execute_input": "2023-09-07T07:46:45.544821Z",
     "iopub.status.busy": "2023-09-07T07:46:45.544432Z",
     "iopub.status.idle": "2023-09-07T07:46:45.552246Z",
     "shell.execute_reply": "2023-09-07T07:46:45.551126Z",
     "shell.execute_reply.started": "2023-09-07T07:46:45.544784Z"
    }
   },
   "outputs": [],
   "source": [
    "x_new = []\n",
    "y = []\n",
    "\n",
    "for i in range(len(labels)):\n",
    "    if labels[i]=='Asthma' or labels[i]=='Bronchiolitis':\n",
    "        continue\n",
    "    x_new.append(x[i])\n",
    "    y.append(labels[i])"
   ]
  },
  {
   "cell_type": "code",
   "execution_count": 50,
   "metadata": {
    "execution": {
     "iopub.execute_input": "2023-09-07T07:46:45.553920Z",
     "iopub.status.busy": "2023-09-07T07:46:45.553563Z",
     "iopub.status.idle": "2023-09-07T07:46:45.982305Z",
     "shell.execute_reply": "2023-09-07T07:46:45.981062Z",
     "shell.execute_reply.started": "2023-09-07T07:46:45.553890Z"
    }
   },
   "outputs": [
    {
     "name": "stdout",
     "output_type": "stream",
     "text": [
      "(2718, 350, 350, 3)\n"
     ]
    }
   ],
   "source": [
    "x = np.array(x_new)\n",
    "print(x.shape)"
   ]
  },
  {
   "cell_type": "code",
   "execution_count": 51,
   "metadata": {
    "execution": {
     "iopub.execute_input": "2023-09-07T07:46:45.983929Z",
     "iopub.status.busy": "2023-09-07T07:46:45.983554Z",
     "iopub.status.idle": "2023-09-07T07:46:45.988683Z",
     "shell.execute_reply": "2023-09-07T07:46:45.987413Z",
     "shell.execute_reply.started": "2023-09-07T07:46:45.983900Z"
    }
   },
   "outputs": [],
   "source": [
    "req_file_names *= 3"
   ]
  },
  {
   "cell_type": "code",
   "execution_count": 52,
   "metadata": {
    "execution": {
     "iopub.execute_input": "2023-09-07T07:46:45.990954Z",
     "iopub.status.busy": "2023-09-07T07:46:45.990427Z",
     "iopub.status.idle": "2023-09-07T07:46:46.004619Z",
     "shell.execute_reply": "2023-09-07T07:46:46.003516Z",
     "shell.execute_reply.started": "2023-09-07T07:46:45.990922Z"
    }
   },
   "outputs": [
    {
     "data": {
      "text/plain": [
       "(2718,)"
      ]
     },
     "execution_count": 52,
     "metadata": {},
     "output_type": "execute_result"
    }
   ],
   "source": [
    "y = np.array(y)\n",
    "y.shape"
   ]
  },
  {
   "cell_type": "code",
   "execution_count": 53,
   "metadata": {
    "execution": {
     "iopub.execute_input": "2023-09-07T07:46:46.007206Z",
     "iopub.status.busy": "2023-09-07T07:46:46.006352Z",
     "iopub.status.idle": "2023-09-07T07:46:46.023032Z",
     "shell.execute_reply": "2023-09-07T07:46:46.021784Z",
     "shell.execute_reply.started": "2023-09-07T07:46:46.007159Z"
    }
   },
   "outputs": [],
   "source": [
    "one_hot_y = np.array(pd.get_dummies(y))"
   ]
  },
  {
   "cell_type": "code",
   "execution_count": 54,
   "metadata": {
    "execution": {
     "iopub.execute_input": "2023-09-07T07:46:46.025239Z",
     "iopub.status.busy": "2023-09-07T07:46:46.024575Z",
     "iopub.status.idle": "2023-09-07T07:46:46.442884Z",
     "shell.execute_reply": "2023-09-07T07:46:46.441741Z",
     "shell.execute_reply.started": "2023-09-07T07:46:46.025203Z"
    }
   },
   "outputs": [
    {
     "name": "stdout",
     "output_type": "stream",
     "text": [
      "(2174, 350, 350, 3) (2174, 6) (544, 350, 350, 3)\n"
     ]
    }
   ],
   "source": [
    "x_train, x_test, y_train, y_test = train_test_split(x, one_hot_y, test_size=0.2, random_state=39, stratify=y)\n",
    "print(x_train.shape, y_train.shape, x_test.shape)"
   ]
  },
  {
   "cell_type": "code",
   "execution_count": 55,
   "metadata": {
    "execution": {
     "iopub.execute_input": "2023-09-07T07:46:46.444507Z",
     "iopub.status.busy": "2023-09-07T07:46:46.444188Z",
     "iopub.status.idle": "2023-09-07T07:46:53.335450Z",
     "shell.execute_reply": "2023-09-07T07:46:53.334237Z",
     "shell.execute_reply.started": "2023-09-07T07:46:46.444469Z"
    }
   },
   "outputs": [],
   "source": [
    "xception_wo_top = keras.applications.xception.Xception(include_top=False, weights='imagenet', input_shape=(350,350,3))"
   ]
  },
  {
   "cell_type": "code",
   "execution_count": 56,
   "metadata": {
    "execution": {
     "iopub.execute_input": "2023-09-07T07:46:53.337861Z",
     "iopub.status.busy": "2023-09-07T07:46:53.337142Z",
     "iopub.status.idle": "2023-09-07T07:59:39.433792Z",
     "shell.execute_reply": "2023-09-07T07:59:39.432448Z",
     "shell.execute_reply.started": "2023-09-07T07:46:53.337823Z"
    }
   },
   "outputs": [],
   "source": [
    "xception_xtrain = xception_wo_top.predict(x_train)\n",
    "xception_xtest = xception_wo_top.predict(x_test)"
   ]
  },
  {
   "cell_type": "code",
   "execution_count": 57,
   "metadata": {
    "execution": {
     "iopub.execute_input": "2023-09-07T07:59:39.435813Z",
     "iopub.status.busy": "2023-09-07T07:59:39.435417Z",
     "iopub.status.idle": "2023-09-07T07:59:39.511852Z",
     "shell.execute_reply": "2023-09-07T07:59:39.510569Z",
     "shell.execute_reply.started": "2023-09-07T07:59:39.435781Z"
    }
   },
   "outputs": [],
   "source": [
    "del x\n",
    "del x_new\n",
    "del x_train\n",
    "del x_test\n",
    "del xception_wo_top"
   ]
  },
  {
   "cell_type": "code",
   "execution_count": 58,
   "metadata": {
    "execution": {
     "iopub.execute_input": "2023-09-07T07:59:39.513743Z",
     "iopub.status.busy": "2023-09-07T07:59:39.513322Z",
     "iopub.status.idle": "2023-09-07T07:59:39.820218Z",
     "shell.execute_reply": "2023-09-07T07:59:39.817471Z",
     "shell.execute_reply.started": "2023-09-07T07:59:39.513708Z"
    }
   },
   "outputs": [
    {
     "name": "stdout",
     "output_type": "stream",
     "text": [
      "Model: \"model_1\"\n",
      "__________________________________________________________________________________________________\n",
      " Layer (type)                   Output Shape         Param #     Connected to                     \n",
      "==================================================================================================\n",
      " input_4 (InputLayer)           [(None, 11, 11, 204  0           []                               \n",
      "                                8)]                                                               \n",
      "                                                                                                  \n",
      " attention_1 (Attention)        (None, 11, 11, 2048  0           ['input_4[0][0]',                \n",
      "                                )                                 'input_4[0][0]']                \n",
      "                                                                                                  \n",
      " flatten_1 (Flatten)            (None, 247808)       0           ['attention_1[0][0]']            \n",
      "                                                                                                  \n",
      " dense_3 (Dense)                (None, 128)          31719552    ['flatten_1[0][0]']              \n",
      "                                                                                                  \n",
      " dropout_1 (Dropout)            (None, 128)          0           ['dense_3[0][0]']                \n",
      "                                                                                                  \n",
      " batch_normalization_9 (BatchNo  (None, 128)         512         ['dropout_1[0][0]']              \n",
      " rmalization)                                                                                     \n",
      "                                                                                                  \n",
      " dense_4 (Dense)                (None, 64)           8256        ['batch_normalization_9[0][0]']  \n",
      "                                                                                                  \n",
      " dense_5 (Dense)                (None, 6)            390         ['dense_4[0][0]']                \n",
      "                                                                                                  \n",
      "==================================================================================================\n",
      "Total params: 31,728,710\n",
      "Trainable params: 31,728,454\n",
      "Non-trainable params: 256\n",
      "__________________________________________________________________________________________________\n"
     ]
    }
   ],
   "source": [
    "input_xception = keras.layers.Input(shape=xception_xtrain.shape[1:])\n",
    "\n",
    "# xception_layer = xception_wo_top(input_xception)\n",
    "\n",
    "# random = np.random.random(xception_layer.shape[1:])\n",
    "\n",
    "attention = keras.layers.Attention()([input_xception, input_xception])\n",
    "flatten = keras.layers.Flatten()(attention)\n",
    "\n",
    "dense1 = keras.layers.Dense(128, activation='relu')(flatten)\n",
    "do1 = keras.layers.Dropout(0.3)(dense1)\n",
    "bn1 = keras.layers.BatchNormalization()(do1)\n",
    "dense2 = keras.layers.Dense(64, activation='relu')(bn1)\n",
    "output = keras.layers.Dense(6, activation='softmax')(dense2)\n",
    "\n",
    "xception_model = keras.Model(inputs=input_xception, outputs=output)\n",
    "xception_model.summary()"
   ]
  },
  {
   "cell_type": "code",
   "execution_count": 59,
   "metadata": {
    "execution": {
     "iopub.execute_input": "2023-09-07T07:59:39.822810Z",
     "iopub.status.busy": "2023-09-07T07:59:39.821904Z",
     "iopub.status.idle": "2023-09-07T07:59:39.846519Z",
     "shell.execute_reply": "2023-09-07T07:59:39.845180Z",
     "shell.execute_reply.started": "2023-09-07T07:59:39.822774Z"
    }
   },
   "outputs": [],
   "source": [
    "checkpoint_xception = keras.callbacks.ModelCheckpoint('Results/Xception_Models/Xception_Model-{epoch:02d}.h5', save_best_only=True)\n",
    "\n",
    "xception_model.compile(optimizer=keras.optimizers.Adam(3e-6), loss='categorical_crossentropy', metrics=['accuracy'])"
   ]
  },
  {
   "cell_type": "code",
   "execution_count": 60,
   "metadata": {
    "execution": {
     "iopub.execute_input": "2023-09-07T07:59:39.849186Z",
     "iopub.status.busy": "2023-09-07T07:59:39.848771Z",
     "iopub.status.idle": "2023-09-07T09:06:13.462767Z",
     "shell.execute_reply": "2023-09-07T09:06:13.459695Z",
     "shell.execute_reply.started": "2023-09-07T07:59:39.849151Z"
    }
   },
   "outputs": [
    {
     "name": "stdout",
     "output_type": "stream",
     "text": [
      "Epoch 1/250\n",
      "68/68 [==============================] - 52s 637ms/step - loss: 1.3911 - accuracy: 0.4756 - val_loss: 0.7295 - val_accuracy: 0.8088\n",
      "Epoch 2/250\n",
      "68/68 [==============================] - 43s 646ms/step - loss: 0.9635 - accuracy: 0.7171 - val_loss: 0.6475 - val_accuracy: 0.8401\n",
      "Epoch 3/250\n",
      "68/68 [==============================] - 22s 329ms/step - loss: 0.8190 - accuracy: 0.7879 - val_loss: 0.6242 - val_accuracy: 0.8511\n",
      "Epoch 4/250\n",
      "68/68 [==============================] - 21s 313ms/step - loss: 0.7166 - accuracy: 0.8280 - val_loss: 0.5678 - val_accuracy: 0.8621\n",
      "Epoch 5/250\n",
      "68/68 [==============================] - 41s 616ms/step - loss: 0.6589 - accuracy: 0.8546 - val_loss: 0.4975 - val_accuracy: 0.8750\n",
      "Epoch 6/250\n",
      "68/68 [==============================] - 35s 521ms/step - loss: 0.6165 - accuracy: 0.8625 - val_loss: 0.4877 - val_accuracy: 0.8695\n",
      "Epoch 7/250\n",
      "68/68 [==============================] - 14s 208ms/step - loss: 0.5825 - accuracy: 0.8776 - val_loss: 0.4897 - val_accuracy: 0.8750\n",
      "Epoch 8/250\n",
      "68/68 [==============================] - 23s 334ms/step - loss: 0.5707 - accuracy: 0.8809 - val_loss: 0.4507 - val_accuracy: 0.8768\n",
      "Epoch 9/250\n",
      "68/68 [==============================] - 14s 209ms/step - loss: 0.5453 - accuracy: 0.8845 - val_loss: 0.4574 - val_accuracy: 0.8787\n",
      "Epoch 10/250\n",
      "68/68 [==============================] - 14s 213ms/step - loss: 0.5361 - accuracy: 0.8882 - val_loss: 0.4583 - val_accuracy: 0.8824\n",
      "Epoch 11/250\n",
      "68/68 [==============================] - 21s 308ms/step - loss: 0.5129 - accuracy: 0.8901 - val_loss: 0.4372 - val_accuracy: 0.8805\n",
      "Epoch 12/250\n",
      "68/68 [==============================] - 25s 373ms/step - loss: 0.4983 - accuracy: 0.8974 - val_loss: 0.4298 - val_accuracy: 0.8824\n",
      "Epoch 13/250\n",
      "68/68 [==============================] - 26s 389ms/step - loss: 0.4810 - accuracy: 0.8970 - val_loss: 0.4270 - val_accuracy: 0.8897\n",
      "Epoch 14/250\n",
      "68/68 [==============================] - 22s 331ms/step - loss: 0.4699 - accuracy: 0.9103 - val_loss: 0.4130 - val_accuracy: 0.8897\n",
      "Epoch 15/250\n",
      "68/68 [==============================] - 14s 210ms/step - loss: 0.4535 - accuracy: 0.9154 - val_loss: 0.4212 - val_accuracy: 0.8934\n",
      "Epoch 16/250\n",
      "68/68 [==============================] - 18s 268ms/step - loss: 0.4363 - accuracy: 0.9190 - val_loss: 0.4218 - val_accuracy: 0.8971\n",
      "Epoch 17/250\n",
      "68/68 [==============================] - 26s 382ms/step - loss: 0.4367 - accuracy: 0.9246 - val_loss: 0.3975 - val_accuracy: 0.8952\n",
      "Epoch 18/250\n",
      "68/68 [==============================] - 14s 212ms/step - loss: 0.4224 - accuracy: 0.9264 - val_loss: 0.4002 - val_accuracy: 0.8971\n",
      "Epoch 19/250\n",
      "68/68 [==============================] - 20s 288ms/step - loss: 0.4067 - accuracy: 0.9356 - val_loss: 0.3769 - val_accuracy: 0.8952\n",
      "Epoch 20/250\n",
      "68/68 [==============================] - 40s 588ms/step - loss: 0.3828 - accuracy: 0.9402 - val_loss: 0.3683 - val_accuracy: 0.9007\n",
      "Epoch 21/250\n",
      "68/68 [==============================] - 14s 212ms/step - loss: 0.3866 - accuracy: 0.9342 - val_loss: 0.3785 - val_accuracy: 0.9007\n",
      "Epoch 22/250\n",
      "68/68 [==============================] - 15s 215ms/step - loss: 0.3711 - accuracy: 0.9347 - val_loss: 0.3714 - val_accuracy: 0.9007\n",
      "Epoch 23/250\n",
      "68/68 [==============================] - 21s 311ms/step - loss: 0.3602 - accuracy: 0.9476 - val_loss: 0.3533 - val_accuracy: 0.9099\n",
      "Epoch 24/250\n",
      "68/68 [==============================] - 14s 210ms/step - loss: 0.3568 - accuracy: 0.9457 - val_loss: 0.3637 - val_accuracy: 0.9026\n",
      "Epoch 25/250\n",
      "68/68 [==============================] - 14s 211ms/step - loss: 0.3442 - accuracy: 0.9512 - val_loss: 0.3561 - val_accuracy: 0.9081\n",
      "Epoch 26/250\n",
      "68/68 [==============================] - 30s 448ms/step - loss: 0.3354 - accuracy: 0.9535 - val_loss: 0.3385 - val_accuracy: 0.9099\n",
      "Epoch 27/250\n",
      "68/68 [==============================] - 14s 212ms/step - loss: 0.3232 - accuracy: 0.9572 - val_loss: 0.3507 - val_accuracy: 0.9081\n",
      "Epoch 28/250\n",
      "68/68 [==============================] - 21s 314ms/step - loss: 0.3176 - accuracy: 0.9572 - val_loss: 0.3355 - val_accuracy: 0.9081\n",
      "Epoch 29/250\n",
      "68/68 [==============================] - 14s 212ms/step - loss: 0.3163 - accuracy: 0.9614 - val_loss: 0.3508 - val_accuracy: 0.9154\n",
      "Epoch 30/250\n",
      "68/68 [==============================] - 21s 312ms/step - loss: 0.3070 - accuracy: 0.9604 - val_loss: 0.3277 - val_accuracy: 0.9191\n",
      "Epoch 31/250\n",
      "68/68 [==============================] - 24s 358ms/step - loss: 0.3003 - accuracy: 0.9669 - val_loss: 0.3066 - val_accuracy: 0.9118\n",
      "Epoch 32/250\n",
      "68/68 [==============================] - 14s 212ms/step - loss: 0.3004 - accuracy: 0.9696 - val_loss: 0.3171 - val_accuracy: 0.9154\n",
      "Epoch 33/250\n",
      "68/68 [==============================] - 15s 215ms/step - loss: 0.2933 - accuracy: 0.9660 - val_loss: 0.3151 - val_accuracy: 0.9173\n",
      "Epoch 34/250\n",
      "68/68 [==============================] - 14s 213ms/step - loss: 0.2849 - accuracy: 0.9701 - val_loss: 0.3148 - val_accuracy: 0.9210\n",
      "Epoch 35/250\n",
      "68/68 [==============================] - 15s 217ms/step - loss: 0.2770 - accuracy: 0.9701 - val_loss: 0.3175 - val_accuracy: 0.9173\n",
      "Epoch 36/250\n",
      "68/68 [==============================] - 21s 307ms/step - loss: 0.2744 - accuracy: 0.9742 - val_loss: 0.3049 - val_accuracy: 0.9191\n",
      "Epoch 37/250\n",
      "68/68 [==============================] - 63s 935ms/step - loss: 0.2659 - accuracy: 0.9784 - val_loss: 0.3000 - val_accuracy: 0.9246\n",
      "Epoch 38/250\n",
      "68/68 [==============================] - 41s 608ms/step - loss: 0.2623 - accuracy: 0.9761 - val_loss: 0.2975 - val_accuracy: 0.9265\n",
      "Epoch 39/250\n",
      "68/68 [==============================] - 21s 315ms/step - loss: 0.2511 - accuracy: 0.9761 - val_loss: 0.2928 - val_accuracy: 0.9246\n",
      "Epoch 40/250\n",
      "68/68 [==============================] - 29s 437ms/step - loss: 0.2541 - accuracy: 0.9811 - val_loss: 0.2824 - val_accuracy: 0.9246\n",
      "Epoch 41/250\n",
      "68/68 [==============================] - 14s 212ms/step - loss: 0.2509 - accuracy: 0.9793 - val_loss: 0.2959 - val_accuracy: 0.9283\n",
      "Epoch 42/250\n",
      "68/68 [==============================] - 14s 211ms/step - loss: 0.2429 - accuracy: 0.9848 - val_loss: 0.3001 - val_accuracy: 0.9228\n",
      "Epoch 43/250\n",
      "68/68 [==============================] - 14s 211ms/step - loss: 0.2325 - accuracy: 0.9821 - val_loss: 0.2844 - val_accuracy: 0.9228\n",
      "Epoch 44/250\n",
      "68/68 [==============================] - 20s 294ms/step - loss: 0.2274 - accuracy: 0.9862 - val_loss: 0.2730 - val_accuracy: 0.9283\n",
      "Epoch 45/250\n",
      "68/68 [==============================] - 30s 442ms/step - loss: 0.2196 - accuracy: 0.9867 - val_loss: 0.2657 - val_accuracy: 0.9301\n",
      "Epoch 46/250\n",
      "68/68 [==============================] - 14s 211ms/step - loss: 0.2185 - accuracy: 0.9867 - val_loss: 0.2662 - val_accuracy: 0.9301\n",
      "Epoch 47/250\n",
      "68/68 [==============================] - 19s 276ms/step - loss: 0.2119 - accuracy: 0.9885 - val_loss: 0.2594 - val_accuracy: 0.9301\n",
      "Epoch 48/250\n",
      "68/68 [==============================] - 59s 876ms/step - loss: 0.2105 - accuracy: 0.9830 - val_loss: 0.2507 - val_accuracy: 0.9338\n",
      "Epoch 49/250\n",
      "68/68 [==============================] - 14s 211ms/step - loss: 0.2024 - accuracy: 0.9876 - val_loss: 0.2594 - val_accuracy: 0.9338\n",
      "Epoch 50/250\n",
      "68/68 [==============================] - 14s 211ms/step - loss: 0.1994 - accuracy: 0.9867 - val_loss: 0.2554 - val_accuracy: 0.9393\n",
      "Epoch 51/250\n",
      "68/68 [==============================] - 14s 213ms/step - loss: 0.2018 - accuracy: 0.9890 - val_loss: 0.2613 - val_accuracy: 0.9320\n",
      "Epoch 52/250\n",
      "68/68 [==============================] - 42s 626ms/step - loss: 0.1944 - accuracy: 0.9917 - val_loss: 0.2445 - val_accuracy: 0.9320\n",
      "Epoch 53/250\n",
      "68/68 [==============================] - 15s 226ms/step - loss: 0.1904 - accuracy: 0.9880 - val_loss: 0.2602 - val_accuracy: 0.9301\n",
      "Epoch 54/250\n",
      "68/68 [==============================] - 15s 214ms/step - loss: 0.1854 - accuracy: 0.9899 - val_loss: 0.2467 - val_accuracy: 0.9412\n",
      "Epoch 55/250\n",
      "68/68 [==============================] - 15s 216ms/step - loss: 0.1793 - accuracy: 0.9913 - val_loss: 0.2478 - val_accuracy: 0.9338\n",
      "Epoch 56/250\n",
      "68/68 [==============================] - 14s 213ms/step - loss: 0.1781 - accuracy: 0.9913 - val_loss: 0.2546 - val_accuracy: 0.9393\n",
      "Epoch 57/250\n",
      "68/68 [==============================] - 49s 732ms/step - loss: 0.1696 - accuracy: 0.9917 - val_loss: 0.2343 - val_accuracy: 0.9467\n",
      "Epoch 58/250\n",
      "68/68 [==============================] - 14s 210ms/step - loss: 0.1723 - accuracy: 0.9940 - val_loss: 0.2525 - val_accuracy: 0.9412\n",
      "Epoch 59/250\n",
      "68/68 [==============================] - 14s 210ms/step - loss: 0.1776 - accuracy: 0.9913 - val_loss: 0.2450 - val_accuracy: 0.9338\n",
      "Epoch 60/250\n",
      "68/68 [==============================] - 15s 217ms/step - loss: 0.1766 - accuracy: 0.9913 - val_loss: 0.2360 - val_accuracy: 0.9485\n",
      "Epoch 61/250\n",
      "68/68 [==============================] - 14s 213ms/step - loss: 0.1674 - accuracy: 0.9913 - val_loss: 0.2418 - val_accuracy: 0.9393\n",
      "Epoch 62/250\n",
      "68/68 [==============================] - 15s 226ms/step - loss: 0.1720 - accuracy: 0.9880 - val_loss: 0.2504 - val_accuracy: 0.9375\n",
      "Epoch 63/250\n",
      "68/68 [==============================] - 58s 858ms/step - loss: 0.1574 - accuracy: 0.9940 - val_loss: 0.2290 - val_accuracy: 0.9430\n",
      "Epoch 64/250\n",
      "68/68 [==============================] - 50s 738ms/step - loss: 0.1613 - accuracy: 0.9913 - val_loss: 0.2218 - val_accuracy: 0.9393\n",
      "Epoch 65/250\n",
      "68/68 [==============================] - 21s 306ms/step - loss: 0.1603 - accuracy: 0.9885 - val_loss: 0.2125 - val_accuracy: 0.9467\n",
      "Epoch 66/250\n",
      "68/68 [==============================] - 14s 212ms/step - loss: 0.1503 - accuracy: 0.9931 - val_loss: 0.2228 - val_accuracy: 0.9449\n",
      "Epoch 67/250\n",
      "68/68 [==============================] - 14s 213ms/step - loss: 0.1467 - accuracy: 0.9949 - val_loss: 0.2198 - val_accuracy: 0.9430\n",
      "Epoch 68/250\n",
      "68/68 [==============================] - 15s 214ms/step - loss: 0.1454 - accuracy: 0.9936 - val_loss: 0.2213 - val_accuracy: 0.9430\n",
      "Epoch 69/250\n",
      "68/68 [==============================] - 15s 214ms/step - loss: 0.1460 - accuracy: 0.9931 - val_loss: 0.2177 - val_accuracy: 0.9430\n",
      "Epoch 70/250\n",
      "68/68 [==============================] - 14s 213ms/step - loss: 0.1426 - accuracy: 0.9949 - val_loss: 0.2150 - val_accuracy: 0.9375\n",
      "Epoch 71/250\n",
      "68/68 [==============================] - 21s 311ms/step - loss: 0.1436 - accuracy: 0.9926 - val_loss: 0.2072 - val_accuracy: 0.9449\n",
      "Epoch 72/250\n",
      "68/68 [==============================] - 14s 213ms/step - loss: 0.1295 - accuracy: 0.9977 - val_loss: 0.2143 - val_accuracy: 0.9375\n",
      "Epoch 73/250\n",
      "68/68 [==============================] - 15s 221ms/step - loss: 0.1363 - accuracy: 0.9954 - val_loss: 0.2074 - val_accuracy: 0.9430\n",
      "Epoch 74/250\n",
      "68/68 [==============================] - 24s 352ms/step - loss: 0.1294 - accuracy: 0.9949 - val_loss: 0.2069 - val_accuracy: 0.9467\n",
      "Epoch 75/250\n",
      "68/68 [==============================] - 22s 322ms/step - loss: 0.1286 - accuracy: 0.9945 - val_loss: 0.2039 - val_accuracy: 0.9485\n",
      "Epoch 76/250\n",
      "68/68 [==============================] - 14s 213ms/step - loss: 0.1192 - accuracy: 0.9968 - val_loss: 0.2069 - val_accuracy: 0.9504\n",
      "Epoch 77/250\n",
      "68/68 [==============================] - 15s 214ms/step - loss: 0.1238 - accuracy: 0.9977 - val_loss: 0.2055 - val_accuracy: 0.9467\n",
      "Epoch 78/250\n",
      "68/68 [==============================] - 25s 364ms/step - loss: 0.1235 - accuracy: 0.9977 - val_loss: 0.1987 - val_accuracy: 0.9559\n",
      "Epoch 79/250\n",
      "68/68 [==============================] - 15s 213ms/step - loss: 0.1203 - accuracy: 0.9982 - val_loss: 0.2106 - val_accuracy: 0.9504\n",
      "Epoch 80/250\n",
      "68/68 [==============================] - 15s 221ms/step - loss: 0.1163 - accuracy: 0.9963 - val_loss: 0.1988 - val_accuracy: 0.9467\n",
      "Epoch 81/250\n",
      "68/68 [==============================] - 40s 591ms/step - loss: 0.1186 - accuracy: 0.9959 - val_loss: 0.1889 - val_accuracy: 0.9522\n",
      "Epoch 82/250\n",
      "68/68 [==============================] - 15s 219ms/step - loss: 0.1178 - accuracy: 0.9982 - val_loss: 0.2071 - val_accuracy: 0.9485\n",
      "Epoch 83/250\n",
      "68/68 [==============================] - 15s 221ms/step - loss: 0.1195 - accuracy: 0.9959 - val_loss: 0.1980 - val_accuracy: 0.9504\n",
      "Epoch 84/250\n",
      "68/68 [==============================] - 20s 295ms/step - loss: 0.1229 - accuracy: 0.9954 - val_loss: 0.1878 - val_accuracy: 0.9504\n",
      "Epoch 85/250\n",
      "68/68 [==============================] - 15s 228ms/step - loss: 0.1186 - accuracy: 0.9986 - val_loss: 0.1996 - val_accuracy: 0.9522\n",
      "Epoch 86/250\n",
      "68/68 [==============================] - 15s 216ms/step - loss: 0.1131 - accuracy: 0.9977 - val_loss: 0.1972 - val_accuracy: 0.9522\n",
      "Epoch 87/250\n",
      "68/68 [==============================] - 15s 219ms/step - loss: 0.1110 - accuracy: 0.9986 - val_loss: 0.1897 - val_accuracy: 0.9559\n",
      "Epoch 88/250\n",
      "68/68 [==============================] - 22s 325ms/step - loss: 0.1117 - accuracy: 0.9959 - val_loss: 0.1837 - val_accuracy: 0.9577\n",
      "Epoch 89/250\n",
      "68/68 [==============================] - 15s 214ms/step - loss: 0.1121 - accuracy: 0.9982 - val_loss: 0.1990 - val_accuracy: 0.9485\n",
      "Epoch 90/250\n",
      "68/68 [==============================] - 15s 215ms/step - loss: 0.1109 - accuracy: 0.9986 - val_loss: 0.1925 - val_accuracy: 0.9559\n",
      "Epoch 91/250\n",
      "68/68 [==============================] - 15s 220ms/step - loss: 0.1076 - accuracy: 0.9986 - val_loss: 0.1883 - val_accuracy: 0.9596\n",
      "Epoch 92/250\n",
      "68/68 [==============================] - 15s 220ms/step - loss: 0.0983 - accuracy: 0.9995 - val_loss: 0.1877 - val_accuracy: 0.9559\n",
      "Epoch 93/250\n",
      "68/68 [==============================] - 15s 217ms/step - loss: 0.1002 - accuracy: 0.9986 - val_loss: 0.1900 - val_accuracy: 0.9559\n",
      "Epoch 94/250\n",
      "68/68 [==============================] - 22s 331ms/step - loss: 0.1006 - accuracy: 0.9963 - val_loss: 0.1835 - val_accuracy: 0.9540\n",
      "Epoch 95/250\n",
      "68/68 [==============================] - 26s 380ms/step - loss: 0.0929 - accuracy: 0.9972 - val_loss: 0.1812 - val_accuracy: 0.9504\n",
      "Epoch 96/250\n",
      "68/68 [==============================] - 15s 214ms/step - loss: 0.0949 - accuracy: 0.9982 - val_loss: 0.1845 - val_accuracy: 0.9540\n",
      "Epoch 97/250\n",
      "68/68 [==============================] - 41s 611ms/step - loss: 0.0907 - accuracy: 0.9986 - val_loss: 0.1792 - val_accuracy: 0.9522\n",
      "Epoch 98/250\n",
      "68/68 [==============================] - 36s 536ms/step - loss: 0.0922 - accuracy: 0.9982 - val_loss: 0.1760 - val_accuracy: 0.9540\n",
      "Epoch 99/250\n",
      "68/68 [==============================] - 15s 219ms/step - loss: 0.0877 - accuracy: 0.9995 - val_loss: 0.1767 - val_accuracy: 0.9577\n",
      "Epoch 100/250\n",
      "68/68 [==============================] - 16s 230ms/step - loss: 0.0877 - accuracy: 0.9991 - val_loss: 0.1783 - val_accuracy: 0.9559\n",
      "Epoch 101/250\n",
      "68/68 [==============================] - 14s 211ms/step - loss: 0.0917 - accuracy: 0.9982 - val_loss: 0.1780 - val_accuracy: 0.9577\n",
      "Epoch 102/250\n",
      "68/68 [==============================] - 22s 326ms/step - loss: 0.0852 - accuracy: 0.9982 - val_loss: 0.1712 - val_accuracy: 0.9559\n",
      "Epoch 103/250\n",
      "68/68 [==============================] - 20s 298ms/step - loss: 0.0795 - accuracy: 0.9995 - val_loss: 0.1651 - val_accuracy: 0.9559\n",
      "Epoch 104/250\n",
      "68/68 [==============================] - 15s 215ms/step - loss: 0.0801 - accuracy: 0.9986 - val_loss: 0.1765 - val_accuracy: 0.9559\n",
      "Epoch 105/250\n",
      "68/68 [==============================] - 15s 217ms/step - loss: 0.0817 - accuracy: 1.0000 - val_loss: 0.1770 - val_accuracy: 0.9522\n",
      "Epoch 106/250\n",
      "68/68 [==============================] - 34s 504ms/step - loss: 0.0797 - accuracy: 0.9977 - val_loss: 0.1629 - val_accuracy: 0.9522\n",
      "Epoch 107/250\n",
      "68/68 [==============================] - 15s 219ms/step - loss: 0.0775 - accuracy: 0.9986 - val_loss: 0.1733 - val_accuracy: 0.9577\n",
      "Epoch 108/250\n",
      "68/68 [==============================] - 15s 218ms/step - loss: 0.0737 - accuracy: 1.0000 - val_loss: 0.1697 - val_accuracy: 0.9504\n",
      "Epoch 109/250\n",
      "68/68 [==============================] - 15s 217ms/step - loss: 0.0730 - accuracy: 0.9995 - val_loss: 0.1694 - val_accuracy: 0.9540\n",
      "Epoch 110/250\n",
      "68/68 [==============================] - 15s 217ms/step - loss: 0.0721 - accuracy: 0.9991 - val_loss: 0.1690 - val_accuracy: 0.9559\n",
      "Epoch 111/250\n",
      "68/68 [==============================] - 67s 994ms/step - loss: 0.0754 - accuracy: 0.9982 - val_loss: 0.1615 - val_accuracy: 0.9614\n",
      "Epoch 112/250\n",
      "68/68 [==============================] - 14s 212ms/step - loss: 0.0692 - accuracy: 0.9995 - val_loss: 0.1681 - val_accuracy: 0.9596\n",
      "Epoch 113/250\n"
     ]
    },
    {
     "name": "stdout",
     "output_type": "stream",
     "text": [
      "68/68 [==============================] - 41s 614ms/step - loss: 0.0704 - accuracy: 0.9986 - val_loss: 0.1612 - val_accuracy: 0.9540\n",
      "Epoch 114/250\n",
      "68/68 [==============================] - 14s 211ms/step - loss: 0.0700 - accuracy: 0.9977 - val_loss: 0.1655 - val_accuracy: 0.9522\n",
      "Epoch 115/250\n",
      "68/68 [==============================] - 38s 561ms/step - loss: 0.0688 - accuracy: 1.0000 - val_loss: 0.1608 - val_accuracy: 0.9540\n",
      "Epoch 116/250\n",
      "68/68 [==============================] - 38s 559ms/step - loss: 0.0681 - accuracy: 0.9977 - val_loss: 0.1606 - val_accuracy: 0.9577\n",
      "Epoch 117/250\n",
      "68/68 [==============================] - 17s 250ms/step - loss: 0.0639 - accuracy: 1.0000 - val_loss: 0.1635 - val_accuracy: 0.9540\n",
      "Epoch 118/250\n",
      "68/68 [==============================] - 214s 3s/step - loss: 0.0661 - accuracy: 0.9995 - val_loss: 0.1562 - val_accuracy: 0.9614\n",
      "Epoch 119/250\n",
      "68/68 [==============================] - 15s 216ms/step - loss: 0.0625 - accuracy: 0.9995 - val_loss: 0.1669 - val_accuracy: 0.9559\n",
      "Epoch 120/250\n",
      "68/68 [==============================] - 14s 210ms/step - loss: 0.0650 - accuracy: 0.9982 - val_loss: 0.1617 - val_accuracy: 0.9540\n",
      "Epoch 121/250\n",
      "68/68 [==============================] - 14s 211ms/step - loss: 0.0674 - accuracy: 0.9991 - val_loss: 0.1645 - val_accuracy: 0.9522\n",
      "Epoch 122/250\n",
      "68/68 [==============================] - 15s 214ms/step - loss: 0.0669 - accuracy: 0.9986 - val_loss: 0.1725 - val_accuracy: 0.9467\n",
      "Epoch 123/250\n",
      "68/68 [==============================] - 15s 214ms/step - loss: 0.0632 - accuracy: 0.9991 - val_loss: 0.1656 - val_accuracy: 0.9577\n",
      "Epoch 124/250\n",
      "68/68 [==============================] - 15s 219ms/step - loss: 0.0664 - accuracy: 0.9991 - val_loss: 0.1648 - val_accuracy: 0.9577\n",
      "Epoch 125/250\n",
      "68/68 [==============================] - 15s 216ms/step - loss: 0.0643 - accuracy: 0.9982 - val_loss: 0.1630 - val_accuracy: 0.9596\n",
      "Epoch 126/250\n",
      "68/68 [==============================] - 15s 216ms/step - loss: 0.0590 - accuracy: 0.9991 - val_loss: 0.1654 - val_accuracy: 0.9632\n",
      "Epoch 127/250\n",
      "68/68 [==============================] - 35s 522ms/step - loss: 0.0586 - accuracy: 0.9995 - val_loss: 0.1532 - val_accuracy: 0.9632\n",
      "Epoch 128/250\n",
      "68/68 [==============================] - 15s 214ms/step - loss: 0.0612 - accuracy: 0.9986 - val_loss: 0.1639 - val_accuracy: 0.9522\n",
      "Epoch 129/250\n",
      "68/68 [==============================] - 14s 213ms/step - loss: 0.0559 - accuracy: 0.9991 - val_loss: 0.1598 - val_accuracy: 0.9596\n",
      "Epoch 130/250\n",
      "68/68 [==============================] - 14s 213ms/step - loss: 0.0547 - accuracy: 0.9995 - val_loss: 0.1609 - val_accuracy: 0.9614\n",
      "Epoch 131/250\n",
      "68/68 [==============================] - 14s 213ms/step - loss: 0.0565 - accuracy: 0.9995 - val_loss: 0.1546 - val_accuracy: 0.9540\n",
      "Epoch 132/250\n",
      "68/68 [==============================] - 14s 213ms/step - loss: 0.0543 - accuracy: 1.0000 - val_loss: 0.1643 - val_accuracy: 0.9559\n",
      "Epoch 133/250\n",
      "68/68 [==============================] - 15s 225ms/step - loss: 0.0512 - accuracy: 1.0000 - val_loss: 0.1598 - val_accuracy: 0.9596\n",
      "Epoch 134/250\n",
      "68/68 [==============================] - 15s 215ms/step - loss: 0.0515 - accuracy: 1.0000 - val_loss: 0.1567 - val_accuracy: 0.9577\n",
      "Epoch 135/250\n",
      "68/68 [==============================] - 15s 218ms/step - loss: 0.0515 - accuracy: 0.9995 - val_loss: 0.1594 - val_accuracy: 0.9522\n",
      "Epoch 136/250\n",
      "68/68 [==============================] - 15s 216ms/step - loss: 0.0513 - accuracy: 1.0000 - val_loss: 0.1542 - val_accuracy: 0.9577\n",
      "Epoch 137/250\n",
      "68/68 [==============================] - 35s 521ms/step - loss: 0.0475 - accuracy: 0.9995 - val_loss: 0.1493 - val_accuracy: 0.9559\n",
      "Epoch 138/250\n",
      "68/68 [==============================] - 15s 215ms/step - loss: 0.0494 - accuracy: 1.0000 - val_loss: 0.1538 - val_accuracy: 0.9614\n",
      "Epoch 139/250\n",
      "68/68 [==============================] - 15s 216ms/step - loss: 0.0474 - accuracy: 1.0000 - val_loss: 0.1567 - val_accuracy: 0.9614\n",
      "Epoch 140/250\n",
      "68/68 [==============================] - 15s 214ms/step - loss: 0.0468 - accuracy: 0.9995 - val_loss: 0.1546 - val_accuracy: 0.9614\n",
      "Epoch 141/250\n",
      "68/68 [==============================] - 15s 218ms/step - loss: 0.0460 - accuracy: 0.9995 - val_loss: 0.1515 - val_accuracy: 0.9632\n",
      "Epoch 142/250\n",
      "68/68 [==============================] - 16s 239ms/step - loss: 0.0457 - accuracy: 0.9991 - val_loss: 0.1513 - val_accuracy: 0.9577\n",
      "Epoch 143/250\n",
      "68/68 [==============================] - 15s 219ms/step - loss: 0.0489 - accuracy: 0.9986 - val_loss: 0.1514 - val_accuracy: 0.9614\n",
      "Epoch 144/250\n",
      "68/68 [==============================] - 15s 214ms/step - loss: 0.0483 - accuracy: 0.9982 - val_loss: 0.1540 - val_accuracy: 0.9540\n",
      "Epoch 145/250\n",
      "68/68 [==============================] - 39s 573ms/step - loss: 0.0432 - accuracy: 0.9995 - val_loss: 0.1464 - val_accuracy: 0.9614\n",
      "Epoch 146/250\n",
      "68/68 [==============================] - 15s 215ms/step - loss: 0.0460 - accuracy: 1.0000 - val_loss: 0.1516 - val_accuracy: 0.9577\n",
      "Epoch 147/250\n",
      "68/68 [==============================] - 14s 211ms/step - loss: 0.0417 - accuracy: 0.9995 - val_loss: 0.1468 - val_accuracy: 0.9577\n",
      "Epoch 148/250\n",
      "68/68 [==============================] - 15s 226ms/step - loss: 0.0430 - accuracy: 1.0000 - val_loss: 0.1468 - val_accuracy: 0.9651\n",
      "Epoch 149/250\n",
      "68/68 [==============================] - 15s 223ms/step - loss: 0.0411 - accuracy: 0.9995 - val_loss: 0.1531 - val_accuracy: 0.9614\n",
      "Epoch 150/250\n",
      "68/68 [==============================] - 14s 213ms/step - loss: 0.0392 - accuracy: 1.0000 - val_loss: 0.1507 - val_accuracy: 0.9577\n",
      "Epoch 151/250\n",
      "68/68 [==============================] - 17s 246ms/step - loss: 0.0387 - accuracy: 1.0000 - val_loss: 0.1518 - val_accuracy: 0.9632\n",
      "Epoch 152/250\n",
      "68/68 [==============================] - 15s 214ms/step - loss: 0.0383 - accuracy: 1.0000 - val_loss: 0.1532 - val_accuracy: 0.9614\n",
      "Epoch 153/250\n",
      "68/68 [==============================] - 64s 959ms/step - loss: 0.0379 - accuracy: 0.9995 - val_loss: 0.1434 - val_accuracy: 0.9596\n",
      "Epoch 154/250\n",
      "68/68 [==============================] - 14s 209ms/step - loss: 0.0379 - accuracy: 0.9995 - val_loss: 0.1482 - val_accuracy: 0.9614\n",
      "Epoch 155/250\n",
      "68/68 [==============================] - 14s 210ms/step - loss: 0.0390 - accuracy: 0.9995 - val_loss: 0.1506 - val_accuracy: 0.9596\n",
      "Epoch 156/250\n",
      "68/68 [==============================] - 15s 215ms/step - loss: 0.0384 - accuracy: 1.0000 - val_loss: 0.1476 - val_accuracy: 0.9577\n",
      "Epoch 157/250\n",
      "68/68 [==============================] - 15s 225ms/step - loss: 0.0371 - accuracy: 1.0000 - val_loss: 0.1484 - val_accuracy: 0.9559\n",
      "Epoch 158/250\n",
      "68/68 [==============================] - 46s 686ms/step - loss: 0.0368 - accuracy: 1.0000 - val_loss: 0.1421 - val_accuracy: 0.9651\n",
      "Epoch 159/250\n",
      "68/68 [==============================] - 14s 210ms/step - loss: 0.0369 - accuracy: 1.0000 - val_loss: 0.1459 - val_accuracy: 0.9669\n",
      "Epoch 160/250\n",
      "68/68 [==============================] - 14s 211ms/step - loss: 0.0353 - accuracy: 1.0000 - val_loss: 0.1470 - val_accuracy: 0.9632\n",
      "Epoch 161/250\n",
      "68/68 [==============================] - 14s 212ms/step - loss: 0.0348 - accuracy: 0.9995 - val_loss: 0.1441 - val_accuracy: 0.9632\n",
      "Epoch 162/250\n",
      "68/68 [==============================] - 61s 909ms/step - loss: 0.0341 - accuracy: 1.0000 - val_loss: 0.1399 - val_accuracy: 0.9651\n",
      "Epoch 163/250\n",
      "68/68 [==============================] - 80s 1s/step - loss: 0.0327 - accuracy: 1.0000 - val_loss: 0.1399 - val_accuracy: 0.9651\n",
      "Epoch 164/250\n",
      "68/68 [==============================] - 80s 1s/step - loss: 0.0333 - accuracy: 0.9995 - val_loss: 0.1370 - val_accuracy: 0.9651\n",
      "Epoch 165/250\n",
      "68/68 [==============================] - 65s 965ms/step - loss: 0.0310 - accuracy: 1.0000 - val_loss: 0.1357 - val_accuracy: 0.9614\n",
      "Epoch 166/250\n",
      "68/68 [==============================] - 14s 209ms/step - loss: 0.0318 - accuracy: 0.9995 - val_loss: 0.1437 - val_accuracy: 0.9632\n",
      "Epoch 167/250\n",
      "68/68 [==============================] - 14s 209ms/step - loss: 0.0326 - accuracy: 0.9995 - val_loss: 0.1434 - val_accuracy: 0.9632\n",
      "Epoch 168/250\n",
      "68/68 [==============================] - 14s 210ms/step - loss: 0.0315 - accuracy: 0.9995 - val_loss: 0.1437 - val_accuracy: 0.9577\n",
      "Epoch 169/250\n",
      "68/68 [==============================] - 14s 208ms/step - loss: 0.0302 - accuracy: 0.9995 - val_loss: 0.1442 - val_accuracy: 0.9632\n",
      "Epoch 170/250\n",
      "68/68 [==============================] - 14s 210ms/step - loss: 0.0309 - accuracy: 0.9995 - val_loss: 0.1482 - val_accuracy: 0.9632\n",
      "Epoch 171/250\n",
      "68/68 [==============================] - 14s 210ms/step - loss: 0.0322 - accuracy: 0.9995 - val_loss: 0.1369 - val_accuracy: 0.9651\n",
      "Epoch 172/250\n",
      "68/68 [==============================] - 14s 210ms/step - loss: 0.0333 - accuracy: 1.0000 - val_loss: 0.1464 - val_accuracy: 0.9632\n",
      "Epoch 173/250\n",
      "68/68 [==============================] - 80s 1s/step - loss: 0.0279 - accuracy: 1.0000 - val_loss: 0.1309 - val_accuracy: 0.9651\n",
      "Epoch 174/250\n",
      "68/68 [==============================] - 14s 208ms/step - loss: 0.0290 - accuracy: 1.0000 - val_loss: 0.1384 - val_accuracy: 0.9614\n",
      "Epoch 175/250\n",
      "68/68 [==============================] - 15s 220ms/step - loss: 0.0284 - accuracy: 1.0000 - val_loss: 0.1404 - val_accuracy: 0.9651\n",
      "Epoch 176/250\n",
      "68/68 [==============================] - 14s 210ms/step - loss: 0.0280 - accuracy: 1.0000 - val_loss: 0.1362 - val_accuracy: 0.9614\n",
      "Epoch 177/250\n",
      "68/68 [==============================] - 83s 1s/step - loss: 0.0280 - accuracy: 1.0000 - val_loss: 0.1279 - val_accuracy: 0.9688\n",
      "Epoch 178/250\n",
      "68/68 [==============================] - 14s 207ms/step - loss: 0.0269 - accuracy: 0.9995 - val_loss: 0.1371 - val_accuracy: 0.9669\n",
      "Epoch 179/250\n",
      "68/68 [==============================] - 14s 209ms/step - loss: 0.0281 - accuracy: 1.0000 - val_loss: 0.1383 - val_accuracy: 0.9596\n",
      "Epoch 180/250\n",
      "68/68 [==============================] - 15s 214ms/step - loss: 0.0290 - accuracy: 1.0000 - val_loss: 0.1438 - val_accuracy: 0.9614\n",
      "Epoch 181/250\n",
      "68/68 [==============================] - 14s 211ms/step - loss: 0.0276 - accuracy: 0.9995 - val_loss: 0.1341 - val_accuracy: 0.9651\n",
      "Epoch 182/250\n",
      "68/68 [==============================] - 14s 211ms/step - loss: 0.0274 - accuracy: 1.0000 - val_loss: 0.1359 - val_accuracy: 0.9651\n",
      "Epoch 183/250\n",
      "68/68 [==============================] - 14s 212ms/step - loss: 0.0254 - accuracy: 1.0000 - val_loss: 0.1354 - val_accuracy: 0.9651\n",
      "Epoch 184/250\n",
      "68/68 [==============================] - 15s 215ms/step - loss: 0.0253 - accuracy: 0.9995 - val_loss: 0.1299 - val_accuracy: 0.9614\n",
      "Epoch 185/250\n",
      "68/68 [==============================] - 15s 217ms/step - loss: 0.0288 - accuracy: 1.0000 - val_loss: 0.1329 - val_accuracy: 0.9614\n",
      "Epoch 186/250\n",
      "68/68 [==============================] - 15s 216ms/step - loss: 0.0262 - accuracy: 1.0000 - val_loss: 0.1315 - val_accuracy: 0.9651\n",
      "Epoch 187/250\n",
      "68/68 [==============================] - 15s 214ms/step - loss: 0.0255 - accuracy: 0.9995 - val_loss: 0.1326 - val_accuracy: 0.9614\n",
      "Epoch 188/250\n",
      "68/68 [==============================] - 110s 2s/step - loss: 0.0237 - accuracy: 1.0000 - val_loss: 0.1249 - val_accuracy: 0.9632\n",
      "Epoch 189/250\n",
      "68/68 [==============================] - 14s 213ms/step - loss: 0.0250 - accuracy: 0.9995 - val_loss: 0.1303 - val_accuracy: 0.9651\n",
      "Epoch 190/250\n",
      "68/68 [==============================] - 14s 212ms/step - loss: 0.0237 - accuracy: 1.0000 - val_loss: 0.1286 - val_accuracy: 0.9688\n",
      "Epoch 191/250\n",
      "68/68 [==============================] - 15s 214ms/step - loss: 0.0226 - accuracy: 1.0000 - val_loss: 0.1359 - val_accuracy: 0.9632\n",
      "Epoch 192/250\n",
      "68/68 [==============================] - 15s 215ms/step - loss: 0.0225 - accuracy: 1.0000 - val_loss: 0.1274 - val_accuracy: 0.9632\n",
      "Epoch 193/250\n",
      "68/68 [==============================] - 14s 213ms/step - loss: 0.0245 - accuracy: 1.0000 - val_loss: 0.1270 - val_accuracy: 0.9651\n",
      "Epoch 194/250\n",
      "68/68 [==============================] - 15s 216ms/step - loss: 0.0227 - accuracy: 1.0000 - val_loss: 0.1340 - val_accuracy: 0.9669\n",
      "Epoch 195/250\n",
      "68/68 [==============================] - 15s 216ms/step - loss: 0.0222 - accuracy: 1.0000 - val_loss: 0.1302 - val_accuracy: 0.9651\n",
      "Epoch 196/250\n",
      "68/68 [==============================] - 108s 2s/step - loss: 0.0205 - accuracy: 1.0000 - val_loss: 0.1233 - val_accuracy: 0.9669\n",
      "Epoch 197/250\n",
      "68/68 [==============================] - 16s 242ms/step - loss: 0.0218 - accuracy: 1.0000 - val_loss: 0.1273 - val_accuracy: 0.9596\n",
      "Epoch 198/250\n",
      "68/68 [==============================] - 16s 231ms/step - loss: 0.0218 - accuracy: 1.0000 - val_loss: 0.1305 - val_accuracy: 0.9669\n",
      "Epoch 199/250\n",
      "68/68 [==============================] - 15s 227ms/step - loss: 0.0219 - accuracy: 1.0000 - val_loss: 0.1257 - val_accuracy: 0.9651\n",
      "Epoch 200/250\n",
      "68/68 [==============================] - 15s 227ms/step - loss: 0.0226 - accuracy: 1.0000 - val_loss: 0.1290 - val_accuracy: 0.9577\n",
      "Epoch 201/250\n",
      "68/68 [==============================] - 16s 230ms/step - loss: 0.0223 - accuracy: 0.9995 - val_loss: 0.1238 - val_accuracy: 0.9651\n",
      "Epoch 202/250\n",
      "68/68 [==============================] - 15s 228ms/step - loss: 0.0194 - accuracy: 1.0000 - val_loss: 0.1378 - val_accuracy: 0.9614\n",
      "Epoch 203/250\n",
      "68/68 [==============================] - 16s 235ms/step - loss: 0.0189 - accuracy: 1.0000 - val_loss: 0.1246 - val_accuracy: 0.9632\n",
      "Epoch 204/250\n",
      "68/68 [==============================] - 16s 236ms/step - loss: 0.0214 - accuracy: 0.9995 - val_loss: 0.1325 - val_accuracy: 0.9632\n",
      "Epoch 205/250\n",
      "68/68 [==============================] - 99s 1s/step - loss: 0.0201 - accuracy: 1.0000 - val_loss: 0.1213 - val_accuracy: 0.9669\n",
      "Epoch 206/250\n",
      "68/68 [==============================] - 15s 213ms/step - loss: 0.0191 - accuracy: 1.0000 - val_loss: 0.1275 - val_accuracy: 0.9651\n",
      "Epoch 207/250\n",
      "68/68 [==============================] - 15s 218ms/step - loss: 0.0193 - accuracy: 0.9995 - val_loss: 0.1311 - val_accuracy: 0.9632\n",
      "Epoch 208/250\n",
      "68/68 [==============================] - 15s 216ms/step - loss: 0.0185 - accuracy: 1.0000 - val_loss: 0.1286 - val_accuracy: 0.9632\n",
      "Epoch 209/250\n",
      "68/68 [==============================] - 15s 219ms/step - loss: 0.0179 - accuracy: 1.0000 - val_loss: 0.1254 - val_accuracy: 0.9632\n",
      "Epoch 210/250\n",
      "68/68 [==============================] - 15s 215ms/step - loss: 0.0163 - accuracy: 1.0000 - val_loss: 0.1217 - val_accuracy: 0.9669\n",
      "Epoch 211/250\n",
      "68/68 [==============================] - 14s 214ms/step - loss: 0.0173 - accuracy: 0.9995 - val_loss: 0.1397 - val_accuracy: 0.9559\n",
      "Epoch 212/250\n",
      "68/68 [==============================] - 15s 215ms/step - loss: 0.0168 - accuracy: 1.0000 - val_loss: 0.1293 - val_accuracy: 0.9614\n",
      "Epoch 213/250\n",
      "68/68 [==============================] - 14s 213ms/step - loss: 0.0175 - accuracy: 1.0000 - val_loss: 0.1298 - val_accuracy: 0.9651\n",
      "Epoch 214/250\n",
      "68/68 [==============================] - 15s 218ms/step - loss: 0.0174 - accuracy: 1.0000 - val_loss: 0.1373 - val_accuracy: 0.9596\n",
      "Epoch 215/250\n",
      "68/68 [==============================] - 15s 216ms/step - loss: 0.0166 - accuracy: 1.0000 - val_loss: 0.1252 - val_accuracy: 0.9596\n",
      "Epoch 216/250\n",
      "68/68 [==============================] - 15s 215ms/step - loss: 0.0165 - accuracy: 1.0000 - val_loss: 0.1234 - val_accuracy: 0.9632\n",
      "Epoch 217/250\n",
      "68/68 [==============================] - 97s 1s/step - loss: 0.0165 - accuracy: 1.0000 - val_loss: 0.1201 - val_accuracy: 0.9614\n",
      "Epoch 218/250\n",
      "68/68 [==============================] - 15s 218ms/step - loss: 0.0160 - accuracy: 1.0000 - val_loss: 0.1230 - val_accuracy: 0.9614\n",
      "Epoch 219/250\n",
      "68/68 [==============================] - 15s 215ms/step - loss: 0.0156 - accuracy: 1.0000 - val_loss: 0.1295 - val_accuracy: 0.9596\n",
      "Epoch 220/250\n",
      "68/68 [==============================] - 103s 2s/step - loss: 0.0160 - accuracy: 1.0000 - val_loss: 0.1184 - val_accuracy: 0.9651\n",
      "Epoch 221/250\n",
      "68/68 [==============================] - 14s 211ms/step - loss: 0.0164 - accuracy: 0.9995 - val_loss: 0.1284 - val_accuracy: 0.9651\n",
      "Epoch 222/250\n",
      "68/68 [==============================] - 14s 212ms/step - loss: 0.0154 - accuracy: 1.0000 - val_loss: 0.1280 - val_accuracy: 0.9632\n",
      "Epoch 223/250\n",
      "68/68 [==============================] - 14s 213ms/step - loss: 0.0149 - accuracy: 1.0000 - val_loss: 0.1331 - val_accuracy: 0.9596\n",
      "Epoch 224/250\n",
      "68/68 [==============================] - 15s 215ms/step - loss: 0.0137 - accuracy: 1.0000 - val_loss: 0.1245 - val_accuracy: 0.9614\n",
      "Epoch 225/250\n"
     ]
    },
    {
     "name": "stdout",
     "output_type": "stream",
     "text": [
      "68/68 [==============================] - 15s 214ms/step - loss: 0.0145 - accuracy: 1.0000 - val_loss: 0.1238 - val_accuracy: 0.9632\n",
      "Epoch 226/250\n",
      "68/68 [==============================] - 14s 213ms/step - loss: 0.0136 - accuracy: 1.0000 - val_loss: 0.1260 - val_accuracy: 0.9632\n",
      "Epoch 227/250\n",
      "68/68 [==============================] - 14s 213ms/step - loss: 0.0168 - accuracy: 0.9995 - val_loss: 0.1242 - val_accuracy: 0.9614\n",
      "Epoch 228/250\n",
      "68/68 [==============================] - 15s 216ms/step - loss: 0.0170 - accuracy: 1.0000 - val_loss: 0.1322 - val_accuracy: 0.9596\n",
      "Epoch 229/250\n",
      "68/68 [==============================] - 15s 215ms/step - loss: 0.0195 - accuracy: 1.0000 - val_loss: 0.1307 - val_accuracy: 0.9596\n",
      "Epoch 230/250\n",
      "68/68 [==============================] - 14s 212ms/step - loss: 0.0179 - accuracy: 1.0000 - val_loss: 0.1365 - val_accuracy: 0.9577\n",
      "Epoch 231/250\n",
      "68/68 [==============================] - 14s 213ms/step - loss: 0.0167 - accuracy: 1.0000 - val_loss: 0.1288 - val_accuracy: 0.9614\n",
      "Epoch 232/250\n",
      "68/68 [==============================] - 14s 213ms/step - loss: 0.0171 - accuracy: 1.0000 - val_loss: 0.1299 - val_accuracy: 0.9632\n",
      "Epoch 233/250\n",
      "68/68 [==============================] - 44s 653ms/step - loss: 0.0152 - accuracy: 0.9995 - val_loss: 0.1180 - val_accuracy: 0.9669\n",
      "Epoch 234/250\n",
      "68/68 [==============================] - 37s 547ms/step - loss: 0.0142 - accuracy: 0.9991 - val_loss: 0.1096 - val_accuracy: 0.9688\n",
      "Epoch 235/250\n",
      "68/68 [==============================] - 15s 228ms/step - loss: 0.0147 - accuracy: 1.0000 - val_loss: 0.1352 - val_accuracy: 0.9614\n",
      "Epoch 236/250\n",
      "68/68 [==============================] - 15s 214ms/step - loss: 0.0148 - accuracy: 0.9995 - val_loss: 0.1251 - val_accuracy: 0.9614\n",
      "Epoch 237/250\n",
      "68/68 [==============================] - 14s 213ms/step - loss: 0.0166 - accuracy: 1.0000 - val_loss: 0.1161 - val_accuracy: 0.9669\n",
      "Epoch 238/250\n",
      "68/68 [==============================] - 14s 211ms/step - loss: 0.0165 - accuracy: 1.0000 - val_loss: 0.1304 - val_accuracy: 0.9614\n",
      "Epoch 239/250\n",
      "68/68 [==============================] - 15s 215ms/step - loss: 0.0163 - accuracy: 1.0000 - val_loss: 0.1251 - val_accuracy: 0.9632\n",
      "Epoch 240/250\n",
      "68/68 [==============================] - 15s 217ms/step - loss: 0.0139 - accuracy: 1.0000 - val_loss: 0.1259 - val_accuracy: 0.9596\n",
      "Epoch 241/250\n",
      "68/68 [==============================] - 15s 218ms/step - loss: 0.0125 - accuracy: 1.0000 - val_loss: 0.1295 - val_accuracy: 0.9596\n",
      "Epoch 242/250\n",
      "68/68 [==============================] - 15s 215ms/step - loss: 0.0129 - accuracy: 1.0000 - val_loss: 0.1293 - val_accuracy: 0.9614\n",
      "Epoch 243/250\n",
      "68/68 [==============================] - 15s 217ms/step - loss: 0.0135 - accuracy: 1.0000 - val_loss: 0.1235 - val_accuracy: 0.9669\n",
      "Epoch 244/250\n",
      "68/68 [==============================] - 15s 216ms/step - loss: 0.0136 - accuracy: 1.0000 - val_loss: 0.1234 - val_accuracy: 0.9632\n",
      "Epoch 245/250\n",
      "68/68 [==============================] - 15s 214ms/step - loss: 0.0136 - accuracy: 0.9995 - val_loss: 0.1318 - val_accuracy: 0.9596\n",
      "Epoch 246/250\n",
      "68/68 [==============================] - 15s 218ms/step - loss: 0.0140 - accuracy: 1.0000 - val_loss: 0.1240 - val_accuracy: 0.9669\n",
      "Epoch 247/250\n",
      "68/68 [==============================] - 15s 217ms/step - loss: 0.0148 - accuracy: 0.9995 - val_loss: 0.1261 - val_accuracy: 0.9614\n",
      "Epoch 248/250\n",
      "68/68 [==============================] - 15s 217ms/step - loss: 0.0159 - accuracy: 0.9995 - val_loss: 0.1229 - val_accuracy: 0.9577\n",
      "Epoch 249/250\n",
      "68/68 [==============================] - 15s 217ms/step - loss: 0.0161 - accuracy: 1.0000 - val_loss: 0.1289 - val_accuracy: 0.9614\n",
      "Epoch 250/250\n",
      "68/68 [==============================] - 15s 215ms/step - loss: 0.0143 - accuracy: 0.9995 - val_loss: 0.1226 - val_accuracy: 0.9577\n"
     ]
    }
   ],
   "source": [
    "history_xception = xception_model.fit(xception_xtrain, y_train, batch_size=32, epochs=250, validation_data=(xception_xtest, y_test), callbacks=[checkpoint_xception])"
   ]
  },
  {
   "cell_type": "code",
   "execution_count": 61,
   "metadata": {
    "execution": {
     "iopub.status.busy": "2023-09-07T09:06:13.465411Z",
     "iopub.status.idle": "2023-09-07T09:06:13.466002Z",
     "shell.execute_reply": "2023-09-07T09:06:13.465781Z",
     "shell.execute_reply.started": "2023-09-07T09:06:13.465735Z"
    }
   },
   "outputs": [],
   "source": [
    "df = pd.DataFrame(history_xception.history)\n",
    "df.to_csv('Results/Xception_history.csv')"
   ]
  },
  {
   "cell_type": "code",
   "execution_count": 62,
   "metadata": {
    "execution": {
     "iopub.status.busy": "2023-09-01T04:46:38.083270Z",
     "iopub.status.idle": "2023-09-01T04:46:38.083753Z",
     "shell.execute_reply": "2023-09-01T04:46:38.083519Z",
     "shell.execute_reply.started": "2023-09-01T04:46:38.083497Z"
    }
   },
   "outputs": [
    {
     "data": {
      "image/png": "[encoded data removed]",
      "text/plain": [
       "<Figure size 576x360 with 1 Axes>"
      ]
     },
     "metadata": {
      "needs_background": "light"
     },
     "output_type": "display_data"
    }
   ],
   "source": [
    "pd.DataFrame(history_xception.history).plot(figsize = (8, 5))\n",
    "plt.grid(True)\n",
    "plt.gca().set_ylim(0, 1)\n",
    "plt.savefig(\"Results/Xception_Attention_Graph.png\")\n",
    "plt.show()"
   ]
  },
  {
   "cell_type": "code",
   "execution_count": 69,
   "metadata": {
    "execution": {
     "iopub.status.busy": "2023-09-01T04:46:38.079043Z",
     "iopub.status.idle": "2023-09-01T04:46:38.079503Z",
     "shell.execute_reply": "2023-09-01T04:46:38.079290Z",
     "shell.execute_reply.started": "2023-09-01T04:46:38.079269Z"
    }
   },
   "outputs": [],
   "source": [
    "xception_model = keras.models.load_model(\"Results/Xception_Models/Xception_Model-88.h5\")"
   ]
  },
  {
   "cell_type": "code",
   "execution_count": 70,
   "metadata": {
    "execution": {
     "iopub.status.busy": "2023-09-01T04:46:38.081169Z",
     "iopub.status.idle": "2023-09-01T04:46:38.081644Z",
     "shell.execute_reply": "2023-09-01T04:46:38.081416Z",
     "shell.execute_reply.started": "2023-09-01T04:46:38.081394Z"
    }
   },
   "outputs": [
    {
     "name": "stdout",
     "output_type": "stream",
     "text": [
      "[[  9   1   0   0   0   0]\n",
      " [  0 472   1   0   3   0]\n",
      " [  1   6  12   0   1   1]\n",
      " [  0   0   0   1   0   0]\n",
      " [  0   5   0   0  17   0]\n",
      " [  0   1   3   0   0  10]]\n"
     ]
    },
    {
     "data": {
      "text/plain": [
       "(0.9577205882352942,\n",
       " 0.9550147677393357,\n",
       " 0.9577205882352942,\n",
       " 0.9555084099952114)"
      ]
     },
     "execution_count": 70,
     "metadata": {},
     "output_type": "execute_result"
    }
   ],
   "source": [
    "y_pred = xception_model.predict(xception_xtest)\n",
    "\n",
    "pred = []\n",
    "for i in y_pred:\n",
    "    pred.append(np.argmax(i))\n",
    "pred = np.array(pred)\n",
    "\n",
    "real = []\n",
    "for i in y_test:\n",
    "    real.append(np.argmax(i))\n",
    "real = np.array(real)\n",
    "    \n",
    "print(confusion_matrix(real, pred))\n",
    "accuracy_score(real, pred), precision_score(real, pred, average='weighted'), recall_score(real, pred, average='weighted'), f1_score(real, pred, average='weighted')"
   ]
  },
  {
   "cell_type": "code",
   "execution_count": 71,
   "metadata": {},
   "outputs": [
    {
     "name": "stdout",
     "output_type": "stream",
     "text": [
      "[[  38    0    0    0    0    0]\n",
      " [   0 1903    0    0    0    0]\n",
      " [   0    0   84    0    0    0]\n",
      " [   0    0    0    5    0    0]\n",
      " [   0    0    0    0   89    0]\n",
      " [   0    0    0    0    0   55]]\n"
     ]
    },
    {
     "data": {
      "text/plain": [
       "(1.0, 1.0, 1.0, 1.0)"
      ]
     },
     "execution_count": 71,
     "metadata": {},
     "output_type": "execute_result"
    }
   ],
   "source": [
    "y_pred = xception_model.predict(xception_xtrain)\n",
    "\n",
    "pred = []\n",
    "for i in y_pred:\n",
    "    pred.append(np.argmax(i))\n",
    "pred = np.array(pred)\n",
    "\n",
    "real = []\n",
    "for i in y_train:\n",
    "    real.append(np.argmax(i))\n",
    "real = np.array(real)\n",
    "    \n",
    "print(confusion_matrix(real, pred))\n",
    "accuracy_score(real, pred), precision_score(real, pred, average='weighted'), recall_score(real, pred, average='weighted'), f1_score(real, pred, average='weighted')"
   ]
  },
  {
   "cell_type": "code",
   "execution_count": null,
   "metadata": {},
   "outputs": [],
   "source": []
  }
 ],
 "metadata": {
  "kernelspec": {
   "display_name": "Python 3 (ipykernel)",
   "language": "python",
   "name": "python3"
  },
  "language_info": {
   "codemirror_mode": {
    "name": "ipython",
    "version": 3
   },
   "file_extension": ".py",
   "mimetype": "text/x-python",
   "name": "python",
   "nbconvert_exporter": "python",
   "pygments_lexer": "ipython3",
   "version": "3.9.7"
  }
 },
 "nbformat": 4,
 "nbformat_minor": 4
}
