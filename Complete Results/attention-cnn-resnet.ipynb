{
 "cells": [
  {
   "cell_type": "code",
   "execution_count": 1,
   "metadata": {
    "execution": {
     "iopub.execute_input": "2023-09-17T18:16:40.099463Z",
     "iopub.status.busy": "2023-09-17T18:16:40.099114Z",
     "iopub.status.idle": "2023-09-17T18:16:48.152541Z",
     "shell.execute_reply": "2023-09-17T18:16:48.151597Z",
     "shell.execute_reply.started": "2023-09-17T18:16:40.099433Z"
    }
   },
   "outputs": [
    {
     "name": "stderr",
     "output_type": "stream",
     "text": [
      "/opt/conda/lib/python3.10/site-packages/scipy/__init__.py:146: UserWarning: A NumPy version >=1.16.5 and <1.23.0 is required for this version of SciPy (detected version 1.23.5\n",
      "  warnings.warn(f\"A NumPy version >={np_minversion} and <{np_maxversion}\"\n"
     ]
    }
   ],
   "source": [
    "import numpy as np\n",
    "import pandas as pd\n",
    "import tensorflow as tf\n",
    "from tensorflow import keras\n",
    "import matplotlib.pyplot as plt\n",
    "from sklearn.model_selection import train_test_split\n",
    "import cv2\n",
    "from sklearn.metrics import accuracy_score, precision_score, recall_score, f1_score, confusion_matrix"
   ]
  },
  {
   "cell_type": "code",
   "execution_count": 2,
   "metadata": {
    "execution": {
     "iopub.execute_input": "2023-09-17T18:16:48.154985Z",
     "iopub.status.busy": "2023-09-17T18:16:48.154417Z",
     "iopub.status.idle": "2023-09-17T18:16:48.180466Z",
     "shell.execute_reply": "2023-09-17T18:16:48.179474Z",
     "shell.execute_reply.started": "2023-09-17T18:16:48.154957Z"
    }
   },
   "outputs": [
    {
     "data": {
      "text/html": [
       "<div>\n",
       "<style scoped>\n",
       "    .dataframe tbody tr th:only-of-type {\n",
       "        vertical-align: middle;\n",
       "    }\n",
       "\n",
       "    .dataframe tbody tr th {\n",
       "        vertical-align: top;\n",
       "    }\n",
       "\n",
       "    .dataframe thead th {\n",
       "        text-align: right;\n",
       "    }\n",
       "</style>\n",
       "<table border=\"1\" class=\"dataframe\">\n",
       "  <thead>\n",
       "    <tr style=\"text-align: right;\">\n",
       "      <th></th>\n",
       "      <th>101</th>\n",
       "      <th>URTI</th>\n",
       "    </tr>\n",
       "  </thead>\n",
       "  <tbody>\n",
       "    <tr>\n",
       "      <th>0</th>\n",
       "      <td>102</td>\n",
       "      <td>Healthy</td>\n",
       "    </tr>\n",
       "    <tr>\n",
       "      <th>1</th>\n",
       "      <td>103</td>\n",
       "      <td>Asthma</td>\n",
       "    </tr>\n",
       "    <tr>\n",
       "      <th>2</th>\n",
       "      <td>104</td>\n",
       "      <td>COPD</td>\n",
       "    </tr>\n",
       "    <tr>\n",
       "      <th>3</th>\n",
       "      <td>105</td>\n",
       "      <td>URTI</td>\n",
       "    </tr>\n",
       "    <tr>\n",
       "      <th>4</th>\n",
       "      <td>106</td>\n",
       "      <td>COPD</td>\n",
       "    </tr>\n",
       "  </tbody>\n",
       "</table>\n",
       "</div>"
      ],
      "text/plain": [
       "   101     URTI\n",
       "0  102  Healthy\n",
       "1  103   Asthma\n",
       "2  104     COPD\n",
       "3  105     URTI\n",
       "4  106     COPD"
      ]
     },
     "execution_count": 2,
     "metadata": {},
     "output_type": "execute_result"
    }
   ],
   "source": [
    "df = pd.read_csv(\"/kaggle/input/lungsound-attention-data/patient_diagnosis.csv\")\n",
    "df.head()"
   ]
  },
  {
   "cell_type": "code",
   "execution_count": 3,
   "metadata": {
    "execution": {
     "iopub.execute_input": "2023-09-17T18:16:48.182366Z",
     "iopub.status.busy": "2023-09-17T18:16:48.182022Z",
     "iopub.status.idle": "2023-09-17T18:16:48.192110Z",
     "shell.execute_reply": "2023-09-17T18:16:48.191062Z",
     "shell.execute_reply.started": "2023-09-17T18:16:48.182335Z"
    }
   },
   "outputs": [
    {
     "data": {
      "text/plain": [
       "array(['Healthy', 'Asthma', 'COPD', 'URTI', 'LRTI', 'Bronchiectasis',\n",
       "       'Pneumonia', 'Bronchiolitis'], dtype=object)"
      ]
     },
     "execution_count": 3,
     "metadata": {},
     "output_type": "execute_result"
    }
   ],
   "source": [
    "df['URTI'].unique()"
   ]
  },
  {
   "cell_type": "code",
   "execution_count": 4,
   "metadata": {
    "execution": {
     "iopub.execute_input": "2023-09-17T18:16:48.195676Z",
     "iopub.status.busy": "2023-09-17T18:16:48.195254Z",
     "iopub.status.idle": "2023-09-17T18:16:48.204254Z",
     "shell.execute_reply": "2023-09-17T18:16:48.202335Z",
     "shell.execute_reply.started": "2023-09-17T18:16:48.195644Z"
    }
   },
   "outputs": [],
   "source": [
    "sr_no = {'101':'URTI'}\n",
    "for i, j in zip(df['101'].unique(), df['URTI']):\n",
    "    sr_no[str(i)] = j"
   ]
  },
  {
   "cell_type": "code",
   "execution_count": 5,
   "metadata": {
    "execution": {
     "iopub.execute_input": "2023-09-17T18:16:48.207334Z",
     "iopub.status.busy": "2023-09-17T18:16:48.206630Z",
     "iopub.status.idle": "2023-09-17T18:16:48.214388Z",
     "shell.execute_reply": "2023-09-17T18:16:48.213224Z",
     "shell.execute_reply.started": "2023-09-17T18:16:48.207303Z"
    }
   },
   "outputs": [
    {
     "data": {
      "text/plain": [
       "dict_keys(['101', '102', '103', '104', '105', '106', '107', '108', '109', '110', '111', '112', '113', '114', '115', '116', '117', '118', '119', '120', '121', '122', '123', '124', '125', '126', '127', '128', '129', '130', '131', '132', '133', '134', '135', '136', '137', '138', '139', '140', '141', '142', '143', '144', '145', '146', '147', '148', '149', '150', '151', '152', '153', '154', '155', '156', '157', '158', '159', '160', '161', '162', '163', '164', '165', '166', '167', '168', '169', '170', '171', '172', '173', '174', '175', '176', '177', '178', '179', '180', '181', '182', '183', '184', '185', '186', '187', '188', '189', '190', '191', '192', '193', '194', '195', '196', '197', '198', '199', '200', '201', '202', '203', '204', '205', '206', '207', '208', '209', '210', '211', '212', '213', '214', '215', '216', '217', '218', '219', '220', '221', '222', '223', '224', '225', '226'])"
      ]
     },
     "execution_count": 5,
     "metadata": {},
     "output_type": "execute_result"
    }
   ],
   "source": [
    "sr_no.keys()"
   ]
  },
  {
   "cell_type": "code",
   "execution_count": 6,
   "metadata": {
    "execution": {
     "iopub.execute_input": "2023-09-17T18:16:48.216309Z",
     "iopub.status.busy": "2023-09-17T18:16:48.215851Z",
     "iopub.status.idle": "2023-09-17T18:16:48.439131Z",
     "shell.execute_reply": "2023-09-17T18:16:48.438181Z",
     "shell.execute_reply.started": "2023-09-17T18:16:48.216278Z"
    }
   },
   "outputs": [],
   "source": [
    "import os\n",
    "sound_files = os.listdir('/kaggle/input/lungsound-attention-data/Mel Spectrogram/Mel Spectrogram/Original')"
   ]
  },
  {
   "cell_type": "code",
   "execution_count": 7,
   "metadata": {
    "execution": {
     "iopub.execute_input": "2023-09-17T18:16:48.442255Z",
     "iopub.status.busy": "2023-09-17T18:16:48.441586Z",
     "iopub.status.idle": "2023-09-17T18:16:48.447961Z",
     "shell.execute_reply": "2023-09-17T18:16:48.446734Z",
     "shell.execute_reply.started": "2023-09-17T18:16:48.442218Z"
    }
   },
   "outputs": [],
   "source": [
    "req_file_names = []\n",
    "\n",
    "for i in sound_files:\n",
    "      req_file_names.append([i])"
   ]
  },
  {
   "cell_type": "code",
   "execution_count": 8,
   "metadata": {
    "execution": {
     "iopub.execute_input": "2023-09-17T18:16:48.450229Z",
     "iopub.status.busy": "2023-09-17T18:16:48.449494Z",
     "iopub.status.idle": "2023-09-17T18:16:48.458774Z",
     "shell.execute_reply": "2023-09-17T18:16:48.457813Z",
     "shell.execute_reply.started": "2023-09-17T18:16:48.450197Z"
    }
   },
   "outputs": [],
   "source": [
    "labels = []\n",
    "for i in range(len(req_file_names)):\n",
    "    req_file_names[i].append(sr_no[req_file_names[i][0][:3]])\n",
    "    labels.append(sr_no[req_file_names[i][0][:3]])"
   ]
  },
  {
   "cell_type": "code",
   "execution_count": 9,
   "metadata": {
    "execution": {
     "iopub.execute_input": "2023-09-17T18:16:48.460698Z",
     "iopub.status.busy": "2023-09-17T18:16:48.459969Z",
     "iopub.status.idle": "2023-09-17T18:16:48.468788Z",
     "shell.execute_reply": "2023-09-17T18:16:48.467709Z",
     "shell.execute_reply.started": "2023-09-17T18:16:48.460666Z"
    }
   },
   "outputs": [],
   "source": [
    "labels *= 3"
   ]
  },
  {
   "cell_type": "code",
   "execution_count": 10,
   "metadata": {
    "execution": {
     "iopub.execute_input": "2023-09-17T18:16:48.473791Z",
     "iopub.status.busy": "2023-09-17T18:16:48.473252Z",
     "iopub.status.idle": "2023-09-17T18:17:43.053227Z",
     "shell.execute_reply": "2023-09-17T18:17:43.052108Z",
     "shell.execute_reply.started": "2023-09-17T18:16:48.473766Z"
    }
   },
   "outputs": [],
   "source": [
    "x = []\n",
    "\n",
    "for i in req_file_names:\n",
    "    img = cv2.imread('/kaggle/input/lungsound-attention-data/Mel Spectrogram/Mel Spectrogram/Time Stretch/'+i[0])\n",
    "    img = cv2.resize(img, (350, 350))\n",
    "    x.append(img)\n",
    "\n",
    "for i in req_file_names:\n",
    "    img = cv2.imread('/kaggle/input/lungsound-attention-data/Mel Spectrogram/Mel Spectrogram/Pitch Shift/'+i[0])\n",
    "    img = cv2.resize(img, (350, 350))\n",
    "    x.append(img)\n",
    "    \n",
    "for i in req_file_names:\n",
    "    img = cv2.imread('/kaggle/input/lungsound-attention-data/Mel Spectrogram/Mel Spectrogram/Audio Shift/'+i[0])\n",
    "    img = cv2.resize(img, (350, 350))\n",
    "    x.append(img)\n",
    "\n",
    "# x = np.array(x)\n",
    "# print(x.shape)"
   ]
  },
  {
   "cell_type": "code",
   "execution_count": 11,
   "metadata": {
    "execution": {
     "iopub.execute_input": "2023-09-17T18:17:43.057165Z",
     "iopub.status.busy": "2023-09-17T18:17:43.056427Z",
     "iopub.status.idle": "2023-09-17T18:17:43.064809Z",
     "shell.execute_reply": "2023-09-17T18:17:43.063843Z",
     "shell.execute_reply.started": "2023-09-17T18:17:43.057138Z"
    }
   },
   "outputs": [],
   "source": [
    "x_new = []\n",
    "y = []\n",
    "\n",
    "for i in range(len(labels)):\n",
    "    if labels[i]=='Asthma' or labels[i]=='Bronchiolitis':\n",
    "        continue\n",
    "    x_new.append(x[i])\n",
    "    y.append(labels[i])"
   ]
  },
  {
   "cell_type": "code",
   "execution_count": 12,
   "metadata": {
    "execution": {
     "iopub.execute_input": "2023-09-17T18:17:43.067071Z",
     "iopub.status.busy": "2023-09-17T18:17:43.066047Z",
     "iopub.status.idle": "2023-09-17T18:17:43.375254Z",
     "shell.execute_reply": "2023-09-17T18:17:43.373232Z",
     "shell.execute_reply.started": "2023-09-17T18:17:43.067039Z"
    }
   },
   "outputs": [
    {
     "name": "stdout",
     "output_type": "stream",
     "text": [
      "(2718, 350, 350, 3)\n"
     ]
    }
   ],
   "source": [
    "x = np.array(x_new)\n",
    "print(x.shape)"
   ]
  },
  {
   "cell_type": "code",
   "execution_count": 13,
   "metadata": {
    "execution": {
     "iopub.execute_input": "2023-09-17T18:17:43.377177Z",
     "iopub.status.busy": "2023-09-17T18:17:43.376832Z",
     "iopub.status.idle": "2023-09-17T18:17:43.381702Z",
     "shell.execute_reply": "2023-09-17T18:17:43.380703Z",
     "shell.execute_reply.started": "2023-09-17T18:17:43.377144Z"
    }
   },
   "outputs": [],
   "source": [
    "req_file_names *= 3"
   ]
  },
  {
   "cell_type": "code",
   "execution_count": 14,
   "metadata": {
    "execution": {
     "iopub.execute_input": "2023-09-17T18:17:43.383830Z",
     "iopub.status.busy": "2023-09-17T18:17:43.383157Z",
     "iopub.status.idle": "2023-09-17T18:17:43.395942Z",
     "shell.execute_reply": "2023-09-17T18:17:43.394841Z",
     "shell.execute_reply.started": "2023-09-17T18:17:43.383796Z"
    }
   },
   "outputs": [
    {
     "data": {
      "text/plain": [
       "(2718,)"
      ]
     },
     "execution_count": 14,
     "metadata": {},
     "output_type": "execute_result"
    }
   ],
   "source": [
    "y = np.array(y)\n",
    "y.shape"
   ]
  },
  {
   "cell_type": "code",
   "execution_count": 15,
   "metadata": {
    "execution": {
     "iopub.execute_input": "2023-09-17T18:17:43.398416Z",
     "iopub.status.busy": "2023-09-17T18:17:43.397310Z",
     "iopub.status.idle": "2023-09-17T18:17:43.409211Z",
     "shell.execute_reply": "2023-09-17T18:17:43.408269Z",
     "shell.execute_reply.started": "2023-09-17T18:17:43.398390Z"
    }
   },
   "outputs": [],
   "source": [
    "one_hot_y = np.array(pd.get_dummies(y))"
   ]
  },
  {
   "cell_type": "code",
   "execution_count": 16,
   "metadata": {
    "execution": {
     "iopub.execute_input": "2023-09-17T18:17:43.411807Z",
     "iopub.status.busy": "2023-09-17T18:17:43.411415Z",
     "iopub.status.idle": "2023-09-17T18:17:43.749849Z",
     "shell.execute_reply": "2023-09-17T18:17:43.748842Z",
     "shell.execute_reply.started": "2023-09-17T18:17:43.411777Z"
    }
   },
   "outputs": [
    {
     "name": "stdout",
     "output_type": "stream",
     "text": [
      "(2174, 350, 350, 3) (2174, 6) (544, 350, 350, 3)\n"
     ]
    }
   ],
   "source": [
    "x_train, x_test, y_train, y_test = train_test_split(x, one_hot_y, test_size=0.2, random_state=39, stratify=y)\n",
    "print(x_train.shape, y_train.shape, x_test.shape)"
   ]
  },
  {
   "cell_type": "code",
   "execution_count": 17,
   "metadata": {
    "execution": {
     "iopub.execute_input": "2023-09-17T18:17:43.751890Z",
     "iopub.status.busy": "2023-09-17T18:17:43.751518Z",
     "iopub.status.idle": "2023-09-17T18:17:52.800144Z",
     "shell.execute_reply": "2023-09-17T18:17:52.799123Z",
     "shell.execute_reply.started": "2023-09-17T18:17:43.751857Z"
    }
   },
   "outputs": [
    {
     "name": "stdout",
     "output_type": "stream",
     "text": [
      "Downloading data from https://storage.googleapis.com/tensorflow/keras-applications/resnet/resnet50_weights_tf_dim_ordering_tf_kernels_notop.h5\n",
      "94765736/94765736 [==============================] - 4s 0us/step\n"
     ]
    }
   ],
   "source": [
    "resnet_wo_top = keras.applications.resnet50.ResNet50(include_top=False, weights='imagenet', input_shape=(350,350,3))"
   ]
  },
  {
   "cell_type": "code",
   "execution_count": 18,
   "metadata": {
    "execution": {
     "iopub.execute_input": "2023-09-17T18:17:52.801762Z",
     "iopub.status.busy": "2023-09-17T18:17:52.801407Z",
     "iopub.status.idle": "2023-09-17T18:17:53.610380Z",
     "shell.execute_reply": "2023-09-17T18:17:53.609425Z",
     "shell.execute_reply.started": "2023-09-17T18:17:52.801731Z"
    }
   },
   "outputs": [
    {
     "name": "stdout",
     "output_type": "stream",
     "text": [
      "Model: \"model\"\n",
      "__________________________________________________________________________________________________\n",
      " Layer (type)                   Output Shape         Param #     Connected to                     \n",
      "==================================================================================================\n",
      " input_2 (InputLayer)           [(None, 350, 350, 3  0           []                               \n",
      "                                )]                                                                \n",
      "                                                                                                  \n",
      " resnet50 (Functional)          (None, 11, 11, 2048  23587712    ['input_2[0][0]']                \n",
      "                                )                                                                 \n",
      "                                                                                                  \n",
      " attention (Attention)          (None, 11, 11, 2048  0           ['resnet50[0][0]',               \n",
      "                                )                                 'resnet50[0][0]']               \n",
      "                                                                                                  \n",
      " flatten (Flatten)              (None, 247808)       0           ['attention[0][0]']              \n",
      "                                                                                                  \n",
      " dense (Dense)                  (None, 128)          31719552    ['flatten[0][0]']                \n",
      "                                                                                                  \n",
      " dropout (Dropout)              (None, 128)          0           ['dense[0][0]']                  \n",
      "                                                                                                  \n",
      " batch_normalization (BatchNorm  (None, 128)         512         ['dropout[0][0]']                \n",
      " alization)                                                                                       \n",
      "                                                                                                  \n",
      " dense_1 (Dense)                (None, 64)           8256        ['batch_normalization[0][0]']    \n",
      "                                                                                                  \n",
      " dense_2 (Dense)                (None, 6)            390         ['dense_1[0][0]']                \n",
      "                                                                                                  \n",
      "==================================================================================================\n",
      "Total params: 55,316,422\n",
      "Trainable params: 55,263,046\n",
      "Non-trainable params: 53,376\n",
      "__________________________________________________________________________________________________\n"
     ]
    }
   ],
   "source": [
    "input_resnet = keras.layers.Input(shape=x_train.shape[1:])\n",
    "\n",
    "resnet_layer = resnet_wo_top(input_resnet)\n",
    "\n",
    "# random = np.random.random(eresnet_layer.shape[1:])\n",
    "\n",
    "attention = keras.layers.Attention()([resnet_layer, resnet_layer])\n",
    "flatten = keras.layers.Flatten()(attention)\n",
    "\n",
    "dense1 = keras.layers.Dense(128, activation='relu')(flatten)\n",
    "do1 = keras.layers.Dropout(0.3)(dense1)\n",
    "bn1 = keras.layers.BatchNormalization()(do1)\n",
    "dense2 = keras.layers.Dense(64, activation='relu')(bn1)\n",
    "output = keras.layers.Dense(6, activation='softmax')(dense2)\n",
    "\n",
    "resnet_model = keras.Model(inputs=input_resnet, outputs=output)\n",
    "resnet_model.summary()"
   ]
  },
  {
   "cell_type": "code",
   "execution_count": 19,
   "metadata": {
    "execution": {
     "iopub.execute_input": "2023-09-17T18:17:53.612400Z",
     "iopub.status.busy": "2023-09-17T18:17:53.611856Z",
     "iopub.status.idle": "2023-09-17T18:17:53.636058Z",
     "shell.execute_reply": "2023-09-17T18:17:53.635182Z",
     "shell.execute_reply.started": "2023-09-17T18:17:53.612367Z"
    }
   },
   "outputs": [],
   "source": [
    "checkpoint_resnet = keras.callbacks.ModelCheckpoint('/kaggle/working/ResNet_Model-{epoch:02d}.h5', save_best_only=True, initial_value_threshold=0.9980)\n",
    "\n",
    "resnet_model.compile(optimizer=keras.optimizers.Adam(3e-6), loss='categorical_crossentropy', metrics=['accuracy'])"
   ]
  },
  {
   "cell_type": "code",
   "execution_count": 20,
   "metadata": {
    "execution": {
     "iopub.execute_input": "2023-09-17T18:17:53.638833Z",
     "iopub.status.busy": "2023-09-17T18:17:53.638262Z",
     "iopub.status.idle": "2023-09-17T19:05:23.828735Z",
     "shell.execute_reply": "2023-09-17T19:05:23.827704Z",
     "shell.execute_reply.started": "2023-09-17T18:17:53.638796Z"
    }
   },
   "outputs": [
    {
     "name": "stdout",
     "output_type": "stream",
     "text": [
      "Epoch 1/100\n",
      "68/68 [==============================] - 82s 491ms/step - loss: 2.1182 - accuracy: 0.1840 - val_loss: 3.2303 - val_accuracy: 0.0239\n",
      "Epoch 2/100\n",
      "68/68 [==============================] - 28s 408ms/step - loss: 1.4677 - accuracy: 0.4531 - val_loss: 1.9571 - val_accuracy: 0.1838\n",
      "Epoch 3/100\n",
      "68/68 [==============================] - 28s 416ms/step - loss: 1.1254 - accuracy: 0.6421 - val_loss: 1.1068 - val_accuracy: 0.6268\n",
      "Epoch 4/100\n",
      "68/68 [==============================] - 28s 417ms/step - loss: 0.9443 - accuracy: 0.7392 - val_loss: 0.7475 - val_accuracy: 0.8088\n",
      "Epoch 5/100\n",
      "68/68 [==============================] - 28s 408ms/step - loss: 0.8177 - accuracy: 0.7971 - val_loss: 0.5631 - val_accuracy: 0.8768\n",
      "Epoch 6/100\n",
      "68/68 [==============================] - 28s 407ms/step - loss: 0.7331 - accuracy: 0.8381 - val_loss: 0.5216 - val_accuracy: 0.8971\n",
      "Epoch 7/100\n",
      "68/68 [==============================] - 28s 408ms/step - loss: 0.6758 - accuracy: 0.8537 - val_loss: 0.4519 - val_accuracy: 0.9154\n",
      "Epoch 8/100\n",
      "68/68 [==============================] - 28s 416ms/step - loss: 0.6260 - accuracy: 0.8795 - val_loss: 0.4146 - val_accuracy: 0.9265\n",
      "Epoch 9/100\n",
      "68/68 [==============================] - 28s 417ms/step - loss: 0.5936 - accuracy: 0.8974 - val_loss: 0.3955 - val_accuracy: 0.9357\n",
      "Epoch 10/100\n",
      "68/68 [==============================] - 28s 408ms/step - loss: 0.5434 - accuracy: 0.9131 - val_loss: 0.3671 - val_accuracy: 0.9357\n",
      "Epoch 11/100\n",
      "68/68 [==============================] - 28s 408ms/step - loss: 0.5103 - accuracy: 0.9195 - val_loss: 0.3732 - val_accuracy: 0.9283\n",
      "Epoch 12/100\n",
      "68/68 [==============================] - 28s 408ms/step - loss: 0.4824 - accuracy: 0.9411 - val_loss: 0.3570 - val_accuracy: 0.9430\n",
      "Epoch 13/100\n",
      "68/68 [==============================] - 28s 416ms/step - loss: 0.4604 - accuracy: 0.9503 - val_loss: 0.3377 - val_accuracy: 0.9504\n",
      "Epoch 14/100\n",
      "68/68 [==============================] - 28s 407ms/step - loss: 0.4293 - accuracy: 0.9476 - val_loss: 0.3133 - val_accuracy: 0.9596\n",
      "Epoch 15/100\n",
      "68/68 [==============================] - 28s 408ms/step - loss: 0.4295 - accuracy: 0.9512 - val_loss: 0.3187 - val_accuracy: 0.9669\n",
      "Epoch 16/100\n",
      "68/68 [==============================] - 28s 408ms/step - loss: 0.3942 - accuracy: 0.9669 - val_loss: 0.3130 - val_accuracy: 0.9577\n",
      "Epoch 17/100\n",
      "68/68 [==============================] - 28s 417ms/step - loss: 0.3907 - accuracy: 0.9614 - val_loss: 0.2872 - val_accuracy: 0.9688\n",
      "Epoch 18/100\n",
      "68/68 [==============================] - 28s 407ms/step - loss: 0.3672 - accuracy: 0.9738 - val_loss: 0.2815 - val_accuracy: 0.9651\n",
      "Epoch 19/100\n",
      "68/68 [==============================] - 28s 408ms/step - loss: 0.3468 - accuracy: 0.9816 - val_loss: 0.2903 - val_accuracy: 0.9632\n",
      "Epoch 20/100\n",
      "68/68 [==============================] - 28s 417ms/step - loss: 0.3344 - accuracy: 0.9802 - val_loss: 0.2838 - val_accuracy: 0.9651\n",
      "Epoch 21/100\n",
      "68/68 [==============================] - 28s 417ms/step - loss: 0.3340 - accuracy: 0.9798 - val_loss: 0.2830 - val_accuracy: 0.9706\n",
      "Epoch 22/100\n",
      "68/68 [==============================] - 28s 416ms/step - loss: 0.3222 - accuracy: 0.9765 - val_loss: 0.2507 - val_accuracy: 0.9706\n",
      "Epoch 23/100\n",
      "68/68 [==============================] - 28s 416ms/step - loss: 0.3048 - accuracy: 0.9830 - val_loss: 0.2384 - val_accuracy: 0.9779\n",
      "Epoch 24/100\n",
      "68/68 [==============================] - 28s 408ms/step - loss: 0.2953 - accuracy: 0.9853 - val_loss: 0.2270 - val_accuracy: 0.9798\n",
      "Epoch 25/100\n",
      "68/68 [==============================] - 28s 416ms/step - loss: 0.2822 - accuracy: 0.9913 - val_loss: 0.2193 - val_accuracy: 0.9816\n",
      "Epoch 26/100\n",
      "68/68 [==============================] - 28s 408ms/step - loss: 0.2771 - accuracy: 0.9913 - val_loss: 0.2184 - val_accuracy: 0.9724\n",
      "Epoch 27/100\n",
      "68/68 [==============================] - 28s 416ms/step - loss: 0.2797 - accuracy: 0.9857 - val_loss: 0.2106 - val_accuracy: 0.9798\n",
      "Epoch 28/100\n",
      "68/68 [==============================] - 28s 417ms/step - loss: 0.2586 - accuracy: 0.9899 - val_loss: 0.2163 - val_accuracy: 0.9835\n",
      "Epoch 29/100\n",
      "68/68 [==============================] - 28s 417ms/step - loss: 0.2546 - accuracy: 0.9899 - val_loss: 0.1991 - val_accuracy: 0.9761\n",
      "Epoch 30/100\n",
      "68/68 [==============================] - 28s 408ms/step - loss: 0.2498 - accuracy: 0.9908 - val_loss: 0.1827 - val_accuracy: 0.9816\n",
      "Epoch 31/100\n",
      "68/68 [==============================] - 28s 416ms/step - loss: 0.2364 - accuracy: 0.9922 - val_loss: 0.1816 - val_accuracy: 0.9816\n",
      "Epoch 32/100\n",
      "68/68 [==============================] - 28s 408ms/step - loss: 0.2349 - accuracy: 0.9917 - val_loss: 0.1805 - val_accuracy: 0.9871\n",
      "Epoch 33/100\n",
      "68/68 [==============================] - 28s 416ms/step - loss: 0.2244 - accuracy: 0.9940 - val_loss: 0.1752 - val_accuracy: 0.9853\n",
      "Epoch 34/100\n",
      "68/68 [==============================] - 28s 408ms/step - loss: 0.2158 - accuracy: 0.9931 - val_loss: 0.1618 - val_accuracy: 0.9908\n",
      "Epoch 35/100\n",
      "68/68 [==============================] - 28s 416ms/step - loss: 0.2080 - accuracy: 0.9940 - val_loss: 0.1619 - val_accuracy: 0.9853\n",
      "Epoch 36/100\n",
      "68/68 [==============================] - 28s 416ms/step - loss: 0.2067 - accuracy: 0.9936 - val_loss: 0.1614 - val_accuracy: 0.9908\n",
      "Epoch 37/100\n",
      "68/68 [==============================] - 28s 408ms/step - loss: 0.2060 - accuracy: 0.9945 - val_loss: 0.1541 - val_accuracy: 0.9890\n",
      "Epoch 38/100\n",
      "68/68 [==============================] - 28s 408ms/step - loss: 0.1941 - accuracy: 0.9945 - val_loss: 0.1507 - val_accuracy: 0.9908\n",
      "Epoch 39/100\n",
      "68/68 [==============================] - 28s 416ms/step - loss: 0.1916 - accuracy: 0.9945 - val_loss: 0.1488 - val_accuracy: 0.9871\n",
      "Epoch 40/100\n",
      "68/68 [==============================] - 28s 417ms/step - loss: 0.1800 - accuracy: 0.9982 - val_loss: 0.1485 - val_accuracy: 0.9871\n",
      "Epoch 41/100\n",
      "68/68 [==============================] - 28s 408ms/step - loss: 0.1804 - accuracy: 0.9959 - val_loss: 0.1485 - val_accuracy: 0.9890\n",
      "Epoch 42/100\n",
      "68/68 [==============================] - 28s 408ms/step - loss: 0.1803 - accuracy: 0.9977 - val_loss: 0.1464 - val_accuracy: 0.9853\n",
      "Epoch 43/100\n",
      "68/68 [==============================] - 28s 417ms/step - loss: 0.1711 - accuracy: 0.9972 - val_loss: 0.1491 - val_accuracy: 0.9853\n",
      "Epoch 44/100\n",
      "68/68 [==============================] - 28s 408ms/step - loss: 0.1702 - accuracy: 0.9972 - val_loss: 0.1354 - val_accuracy: 0.9890\n",
      "Epoch 45/100\n",
      "68/68 [==============================] - 28s 408ms/step - loss: 0.1693 - accuracy: 0.9968 - val_loss: 0.1294 - val_accuracy: 0.9908\n",
      "Epoch 46/100\n",
      "68/68 [==============================] - 28s 408ms/step - loss: 0.1571 - accuracy: 0.9968 - val_loss: 0.1300 - val_accuracy: 0.9908\n",
      "Epoch 47/100\n",
      "68/68 [==============================] - 28s 416ms/step - loss: 0.1534 - accuracy: 0.9968 - val_loss: 0.1234 - val_accuracy: 0.9890\n",
      "Epoch 48/100\n",
      "68/68 [==============================] - 28s 417ms/step - loss: 0.1526 - accuracy: 0.9977 - val_loss: 0.1217 - val_accuracy: 0.9908\n",
      "Epoch 49/100\n",
      "68/68 [==============================] - 28s 408ms/step - loss: 0.1455 - accuracy: 0.9977 - val_loss: 0.1242 - val_accuracy: 0.9926\n",
      "Epoch 50/100\n",
      "68/68 [==============================] - 28s 408ms/step - loss: 0.1452 - accuracy: 0.9968 - val_loss: 0.1159 - val_accuracy: 0.9926\n",
      "Epoch 51/100\n",
      "68/68 [==============================] - 28s 407ms/step - loss: 0.1334 - accuracy: 0.9991 - val_loss: 0.1159 - val_accuracy: 0.9926\n",
      "Epoch 52/100\n",
      "68/68 [==============================] - 28s 416ms/step - loss: 0.1346 - accuracy: 0.9995 - val_loss: 0.1135 - val_accuracy: 0.9908\n",
      "Epoch 53/100\n",
      "68/68 [==============================] - 28s 407ms/step - loss: 0.1308 - accuracy: 0.9995 - val_loss: 0.1162 - val_accuracy: 0.9908\n",
      "Epoch 54/100\n",
      "68/68 [==============================] - 28s 417ms/step - loss: 0.1321 - accuracy: 0.9991 - val_loss: 0.1075 - val_accuracy: 0.9926\n",
      "Epoch 55/100\n",
      "68/68 [==============================] - 28s 407ms/step - loss: 0.1271 - accuracy: 0.9977 - val_loss: 0.1062 - val_accuracy: 0.9908\n",
      "Epoch 56/100\n",
      "68/68 [==============================] - 28s 417ms/step - loss: 0.1260 - accuracy: 0.9972 - val_loss: 0.1080 - val_accuracy: 0.9908\n",
      "Epoch 57/100\n",
      "68/68 [==============================] - 28s 408ms/step - loss: 0.1166 - accuracy: 1.0000 - val_loss: 0.1024 - val_accuracy: 0.9908\n",
      "Epoch 58/100\n",
      "68/68 [==============================] - 28s 416ms/step - loss: 0.1163 - accuracy: 0.9982 - val_loss: 0.1029 - val_accuracy: 0.9908\n",
      "Epoch 59/100\n",
      "68/68 [==============================] - 28s 408ms/step - loss: 0.1160 - accuracy: 0.9995 - val_loss: 0.0971 - val_accuracy: 0.9908\n",
      "Epoch 60/100\n",
      "68/68 [==============================] - 28s 416ms/step - loss: 0.1141 - accuracy: 0.9986 - val_loss: 0.0948 - val_accuracy: 0.9926\n",
      "Epoch 61/100\n",
      "68/68 [==============================] - 28s 408ms/step - loss: 0.1117 - accuracy: 0.9982 - val_loss: 0.0960 - val_accuracy: 0.9926\n",
      "Epoch 62/100\n",
      "68/68 [==============================] - 28s 417ms/step - loss: 0.1043 - accuracy: 1.0000 - val_loss: 0.0968 - val_accuracy: 0.9908\n",
      "Epoch 63/100\n",
      "68/68 [==============================] - 28s 407ms/step - loss: 0.1045 - accuracy: 0.9995 - val_loss: 0.0904 - val_accuracy: 0.9908\n",
      "Epoch 64/100\n",
      "68/68 [==============================] - 28s 416ms/step - loss: 0.1001 - accuracy: 0.9995 - val_loss: 0.0891 - val_accuracy: 0.9926\n",
      "Epoch 65/100\n",
      "68/68 [==============================] - 28s 417ms/step - loss: 0.1006 - accuracy: 0.9986 - val_loss: 0.0862 - val_accuracy: 0.9908\n",
      "Epoch 66/100\n",
      "68/68 [==============================] - 28s 408ms/step - loss: 0.0998 - accuracy: 0.9995 - val_loss: 0.0866 - val_accuracy: 0.9926\n",
      "Epoch 67/100\n",
      "68/68 [==============================] - 28s 408ms/step - loss: 0.0942 - accuracy: 0.9986 - val_loss: 0.0807 - val_accuracy: 0.9908\n",
      "Epoch 68/100\n",
      "68/68 [==============================] - 28s 416ms/step - loss: 0.0920 - accuracy: 0.9995 - val_loss: 0.0820 - val_accuracy: 0.9926\n",
      "Epoch 69/100\n",
      "68/68 [==============================] - 28s 408ms/step - loss: 0.0911 - accuracy: 0.9995 - val_loss: 0.0796 - val_accuracy: 0.9926\n",
      "Epoch 70/100\n",
      "68/68 [==============================] - 28s 416ms/step - loss: 0.0906 - accuracy: 0.9986 - val_loss: 0.0806 - val_accuracy: 0.9945\n",
      "Epoch 71/100\n",
      "68/68 [==============================] - 28s 408ms/step - loss: 0.0851 - accuracy: 1.0000 - val_loss: 0.0796 - val_accuracy: 0.9926\n",
      "Epoch 72/100\n",
      "68/68 [==============================] - 28s 407ms/step - loss: 0.0818 - accuracy: 1.0000 - val_loss: 0.0781 - val_accuracy: 0.9945\n",
      "Epoch 73/100\n",
      "68/68 [==============================] - 28s 408ms/step - loss: 0.0825 - accuracy: 0.9986 - val_loss: 0.0690 - val_accuracy: 0.9945\n",
      "Epoch 74/100\n",
      "68/68 [==============================] - 28s 417ms/step - loss: 0.0813 - accuracy: 0.9986 - val_loss: 0.0707 - val_accuracy: 0.9926\n",
      "Epoch 75/100\n",
      "68/68 [==============================] - 28s 417ms/step - loss: 0.0814 - accuracy: 0.9991 - val_loss: 0.0705 - val_accuracy: 0.9926\n",
      "Epoch 76/100\n",
      "68/68 [==============================] - 28s 416ms/step - loss: 0.0786 - accuracy: 1.0000 - val_loss: 0.0702 - val_accuracy: 0.9926\n",
      "Epoch 77/100\n",
      "68/68 [==============================] - 28s 408ms/step - loss: 0.0761 - accuracy: 0.9995 - val_loss: 0.0695 - val_accuracy: 0.9926\n",
      "Epoch 78/100\n",
      "68/68 [==============================] - 28s 408ms/step - loss: 0.0735 - accuracy: 1.0000 - val_loss: 0.0682 - val_accuracy: 0.9963\n",
      "Epoch 79/100\n",
      "68/68 [==============================] - 28s 408ms/step - loss: 0.0739 - accuracy: 0.9995 - val_loss: 0.0644 - val_accuracy: 0.9945\n",
      "Epoch 80/100\n",
      "68/68 [==============================] - 28s 408ms/step - loss: 0.0703 - accuracy: 0.9995 - val_loss: 0.0654 - val_accuracy: 0.9908\n",
      "Epoch 81/100\n",
      "68/68 [==============================] - 28s 408ms/step - loss: 0.0714 - accuracy: 0.9995 - val_loss: 0.0645 - val_accuracy: 0.9926\n",
      "Epoch 82/100\n",
      "68/68 [==============================] - 28s 407ms/step - loss: 0.0671 - accuracy: 1.0000 - val_loss: 0.0642 - val_accuracy: 0.9926\n",
      "Epoch 83/100\n",
      "68/68 [==============================] - 28s 408ms/step - loss: 0.0676 - accuracy: 0.9991 - val_loss: 0.0603 - val_accuracy: 0.9926\n",
      "Epoch 84/100\n",
      "68/68 [==============================] - 28s 408ms/step - loss: 0.0651 - accuracy: 0.9995 - val_loss: 0.0620 - val_accuracy: 0.9908\n",
      "Epoch 85/100\n",
      "68/68 [==============================] - 28s 408ms/step - loss: 0.0646 - accuracy: 0.9995 - val_loss: 0.0611 - val_accuracy: 0.9908\n",
      "Epoch 86/100\n",
      "68/68 [==============================] - 28s 408ms/step - loss: 0.0587 - accuracy: 1.0000 - val_loss: 0.0585 - val_accuracy: 0.9926\n",
      "Epoch 87/100\n",
      "68/68 [==============================] - 28s 407ms/step - loss: 0.0587 - accuracy: 1.0000 - val_loss: 0.0609 - val_accuracy: 0.9945\n",
      "Epoch 88/100\n",
      "68/68 [==============================] - 28s 408ms/step - loss: 0.0566 - accuracy: 1.0000 - val_loss: 0.0611 - val_accuracy: 0.9945\n",
      "Epoch 89/100\n",
      "68/68 [==============================] - 28s 408ms/step - loss: 0.0569 - accuracy: 1.0000 - val_loss: 0.0544 - val_accuracy: 0.9963\n",
      "Epoch 90/100\n",
      "68/68 [==============================] - 28s 416ms/step - loss: 0.0558 - accuracy: 1.0000 - val_loss: 0.0585 - val_accuracy: 0.9945\n",
      "Epoch 91/100\n",
      "68/68 [==============================] - 28s 408ms/step - loss: 0.0548 - accuracy: 1.0000 - val_loss: 0.0546 - val_accuracy: 0.9908\n",
      "Epoch 92/100\n",
      "68/68 [==============================] - 28s 408ms/step - loss: 0.0545 - accuracy: 0.9995 - val_loss: 0.0559 - val_accuracy: 0.9926\n",
      "Epoch 93/100\n",
      "68/68 [==============================] - 28s 417ms/step - loss: 0.0527 - accuracy: 1.0000 - val_loss: 0.0541 - val_accuracy: 0.9945\n",
      "Epoch 94/100\n",
      "68/68 [==============================] - 28s 408ms/step - loss: 0.0542 - accuracy: 0.9991 - val_loss: 0.0529 - val_accuracy: 0.9945\n",
      "Epoch 95/100\n",
      "68/68 [==============================] - 28s 407ms/step - loss: 0.0511 - accuracy: 0.9991 - val_loss: 0.0561 - val_accuracy: 0.9945\n",
      "Epoch 96/100\n",
      "68/68 [==============================] - 28s 408ms/step - loss: 0.0512 - accuracy: 1.0000 - val_loss: 0.0526 - val_accuracy: 0.9945\n",
      "Epoch 97/100\n",
      "68/68 [==============================] - 28s 416ms/step - loss: 0.0499 - accuracy: 1.0000 - val_loss: 0.0533 - val_accuracy: 0.9963\n",
      "Epoch 98/100\n",
      "68/68 [==============================] - 28s 408ms/step - loss: 0.0474 - accuracy: 1.0000 - val_loss: 0.0509 - val_accuracy: 0.9945\n",
      "Epoch 99/100\n",
      "68/68 [==============================] - 28s 416ms/step - loss: 0.0462 - accuracy: 1.0000 - val_loss: 0.0477 - val_accuracy: 0.9945\n",
      "Epoch 100/100\n",
      "68/68 [==============================] - 28s 417ms/step - loss: 0.0443 - accuracy: 0.9995 - val_loss: 0.0440 - val_accuracy: 0.9926\n"
     ]
    }
   ],
   "source": [
    "history_resnet = resnet_model.fit(x_train, y_train, batch_size=32, epochs=100, validation_data=(x_test, y_test))"
   ]
  },
  {
   "cell_type": "code",
   "execution_count": 21,
   "metadata": {
    "execution": {
     "iopub.execute_input": "2023-09-17T19:05:23.833714Z",
     "iopub.status.busy": "2023-09-17T19:05:23.833370Z",
     "iopub.status.idle": "2023-09-17T19:05:23.845053Z",
     "shell.execute_reply": "2023-09-17T19:05:23.843768Z",
     "shell.execute_reply.started": "2023-09-17T19:05:23.833686Z"
    }
   },
   "outputs": [],
   "source": [
    "df = pd.DataFrame(history_resnet.history)\n",
    "df.to_csv('/kaggle/working/ResNet_history.csv')"
   ]
  },
  {
   "cell_type": "code",
   "execution_count": 22,
   "metadata": {
    "execution": {
     "iopub.execute_input": "2023-09-17T19:05:23.847422Z",
     "iopub.status.busy": "2023-09-17T19:05:23.846837Z",
     "iopub.status.idle": "2023-09-17T19:05:24.280830Z",
     "shell.execute_reply": "2023-09-17T19:05:24.279927Z",
     "shell.execute_reply.started": "2023-09-17T19:05:23.847388Z"
    }
   },
   "outputs": [
    {
     "data": {
      "image/png": "[encoded data removed]",
      "text/plain": [
       "<Figure size 800x500 with 1 Axes>"
      ]
     },
     "metadata": {},
     "output_type": "display_data"
    }
   ],
   "source": [
    "pd.DataFrame(history_resnet.history).plot(figsize = (8, 5))\n",
    "plt.grid(True)\n",
    "plt.gca().set_ylim(-0.1, 1.1)\n",
    "plt.savefig(\"/kaggle/working/ResNet_Attention_Graph.png\")\n",
    "plt.show()"
   ]
  },
  {
   "cell_type": "code",
   "execution_count": 23,
   "metadata": {
    "execution": {
     "iopub.execute_input": "2023-09-17T19:05:24.283031Z",
     "iopub.status.busy": "2023-09-17T19:05:24.282090Z",
     "iopub.status.idle": "2023-09-17T19:05:27.670056Z",
     "shell.execute_reply": "2023-09-17T19:05:27.668997Z",
     "shell.execute_reply.started": "2023-09-17T19:05:24.282996Z"
    }
   },
   "outputs": [
    {
     "name": "stdout",
     "output_type": "stream",
     "text": [
      "17/17 [==============================] - 3s 114ms/step\n",
      "[[  9   1   0   0   0   0]\n",
      " [  0 475   0   0   1   0]\n",
      " [  0   0  20   0   0   1]\n",
      " [  0   0   0   1   0   0]\n",
      " [  0   0   0   0  22   0]\n",
      " [  0   0   1   0   0  13]]\n"
     ]
    },
    {
     "data": {
      "text/plain": [
       "(0.9926470588235294,\n",
       " 0.9927269820971868,\n",
       " 0.9926470588235294,\n",
       " 0.9926191090471276)"
      ]
     },
     "execution_count": 23,
     "metadata": {},
     "output_type": "execute_result"
    }
   ],
   "source": [
    "y_pred = resnet_model.predict(x_test)\n",
    "\n",
    "pred = []\n",
    "for i in y_pred:\n",
    "    pred.append(np.argmax(i))\n",
    "pred = np.array(pred)\n",
    "\n",
    "real = []\n",
    "for i in y_test:\n",
    "    real.append(np.argmax(i))\n",
    "real = np.array(real)\n",
    "    \n",
    "print(confusion_matrix(real, pred))\n",
    "accuracy_score(real, pred), precision_score(real, pred, average='weighted'), recall_score(real, pred, average='weighted'), f1_score(real, pred, average='weighted')"
   ]
  },
  {
   "cell_type": "code",
   "execution_count": null,
   "metadata": {},
   "outputs": [],
   "source": []
  }
 ],
 "metadata": {
  "kernelspec": {
   "display_name": "Python 3 (ipykernel)",
   "language": "python",
   "name": "python3"
  },
  "language_info": {
   "codemirror_mode": {
    "name": "ipython",
    "version": 3
   },
   "file_extension": ".py",
   "mimetype": "text/x-python",
   "name": "python",
   "nbconvert_exporter": "python",
   "pygments_lexer": "ipython3",
   "version": "3.9.7"
  }
 },
 "nbformat": 4,
 "nbformat_minor": 4
}
