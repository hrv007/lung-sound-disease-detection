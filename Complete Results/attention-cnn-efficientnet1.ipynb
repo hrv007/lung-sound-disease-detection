{
 "cells": [
  {
   "cell_type": "code",
   "execution_count": 1,
   "metadata": {
    "execution": {
     "iopub.execute_input": "2023-09-17T16:52:02.196481Z",
     "iopub.status.busy": "2023-09-17T16:52:02.195998Z",
     "iopub.status.idle": "2023-09-17T16:52:11.090245Z",
     "shell.execute_reply": "2023-09-17T16:52:11.089208Z",
     "shell.execute_reply.started": "2023-09-17T16:52:02.196401Z"
    }
   },
   "outputs": [
    {
     "name": "stderr",
     "output_type": "stream",
     "text": [
      "/opt/conda/lib/python3.10/site-packages/scipy/__init__.py:146: UserWarning: A NumPy version >=1.16.5 and <1.23.0 is required for this version of SciPy (detected version 1.23.5\n",
      "  warnings.warn(f\"A NumPy version >={np_minversion} and <{np_maxversion}\"\n",
      "/opt/conda/lib/python3.10/site-packages/tensorflow_io/python/ops/__init__.py:98: UserWarning: unable to load libtensorflow_io_plugins.so: unable to open file: libtensorflow_io_plugins.so, from paths: ['/opt/conda/lib/python3.10/site-packages/tensorflow_io/python/ops/libtensorflow_io_plugins.so']\n",
      "caused by: ['/opt/conda/lib/python3.10/site-packages/tensorflow_io/python/ops/libtensorflow_io_plugins.so: undefined symbol: _ZN3tsl6StatusC1EN10tensorflow5error4CodeESt17basic_string_viewIcSt11char_traitsIcEENS_14SourceLocationE']\n",
      "  warnings.warn(f\"unable to load libtensorflow_io_plugins.so: {e}\")\n",
      "/opt/conda/lib/python3.10/site-packages/tensorflow_io/python/ops/__init__.py:104: UserWarning: file system plugins are not loaded: unable to open file: libtensorflow_io.so, from paths: ['/opt/conda/lib/python3.10/site-packages/tensorflow_io/python/ops/libtensorflow_io.so']\n",
      "caused by: ['/opt/conda/lib/python3.10/site-packages/tensorflow_io/python/ops/libtensorflow_io.so: undefined symbol: _ZTVN10tensorflow13GcsFileSystemE']\n",
      "  warnings.warn(f\"file system plugins are not loaded: {e}\")\n"
     ]
    }
   ],
   "source": [
    "import numpy as np\n",
    "import pandas as pd\n",
    "import tensorflow as tf\n",
    "from tensorflow import keras\n",
    "import matplotlib.pyplot as plt\n",
    "from sklearn.model_selection import train_test_split\n",
    "import cv2\n",
    "from sklearn.metrics import accuracy_score, precision_score, recall_score, f1_score, confusion_matrix"
   ]
  },
  {
   "cell_type": "code",
   "execution_count": 2,
   "metadata": {
    "execution": {
     "iopub.execute_input": "2023-09-17T16:52:11.093214Z",
     "iopub.status.busy": "2023-09-17T16:52:11.092492Z",
     "iopub.status.idle": "2023-09-17T16:52:11.117826Z",
     "shell.execute_reply": "2023-09-17T16:52:11.116796Z",
     "shell.execute_reply.started": "2023-09-17T16:52:11.093178Z"
    }
   },
   "outputs": [
    {
     "data": {
      "text/html": [
       "<div>\n",
       "<style scoped>\n",
       "    .dataframe tbody tr th:only-of-type {\n",
       "        vertical-align: middle;\n",
       "    }\n",
       "\n",
       "    .dataframe tbody tr th {\n",
       "        vertical-align: top;\n",
       "    }\n",
       "\n",
       "    .dataframe thead th {\n",
       "        text-align: right;\n",
       "    }\n",
       "</style>\n",
       "<table border=\"1\" class=\"dataframe\">\n",
       "  <thead>\n",
       "    <tr style=\"text-align: right;\">\n",
       "      <th></th>\n",
       "      <th>101</th>\n",
       "      <th>URTI</th>\n",
       "    </tr>\n",
       "  </thead>\n",
       "  <tbody>\n",
       "    <tr>\n",
       "      <th>0</th>\n",
       "      <td>102</td>\n",
       "      <td>Healthy</td>\n",
       "    </tr>\n",
       "    <tr>\n",
       "      <th>1</th>\n",
       "      <td>103</td>\n",
       "      <td>Asthma</td>\n",
       "    </tr>\n",
       "    <tr>\n",
       "      <th>2</th>\n",
       "      <td>104</td>\n",
       "      <td>COPD</td>\n",
       "    </tr>\n",
       "    <tr>\n",
       "      <th>3</th>\n",
       "      <td>105</td>\n",
       "      <td>URTI</td>\n",
       "    </tr>\n",
       "    <tr>\n",
       "      <th>4</th>\n",
       "      <td>106</td>\n",
       "      <td>COPD</td>\n",
       "    </tr>\n",
       "  </tbody>\n",
       "</table>\n",
       "</div>"
      ],
      "text/plain": [
       "   101     URTI\n",
       "0  102  Healthy\n",
       "1  103   Asthma\n",
       "2  104     COPD\n",
       "3  105     URTI\n",
       "4  106     COPD"
      ]
     },
     "execution_count": 2,
     "metadata": {},
     "output_type": "execute_result"
    }
   ],
   "source": [
    "df = pd.read_csv(\"/kaggle/input/attention-cnn-model/patient_diagnosis.csv\")\n",
    "df.head()"
   ]
  },
  {
   "cell_type": "code",
   "execution_count": 3,
   "metadata": {
    "execution": {
     "iopub.execute_input": "2023-09-17T16:52:11.119864Z",
     "iopub.status.busy": "2023-09-17T16:52:11.119512Z",
     "iopub.status.idle": "2023-09-17T16:52:11.128927Z",
     "shell.execute_reply": "2023-09-17T16:52:11.127962Z",
     "shell.execute_reply.started": "2023-09-17T16:52:11.119831Z"
    }
   },
   "outputs": [
    {
     "data": {
      "text/plain": [
       "array(['Healthy', 'Asthma', 'COPD', 'URTI', 'LRTI', 'Bronchiectasis',\n",
       "       'Pneumonia', 'Bronchiolitis'], dtype=object)"
      ]
     },
     "execution_count": 3,
     "metadata": {},
     "output_type": "execute_result"
    }
   ],
   "source": [
    "df['URTI'].unique()"
   ]
  },
  {
   "cell_type": "code",
   "execution_count": 4,
   "metadata": {
    "execution": {
     "iopub.execute_input": "2023-09-17T16:52:11.132614Z",
     "iopub.status.busy": "2023-09-17T16:52:11.131919Z",
     "iopub.status.idle": "2023-09-17T16:52:11.139306Z",
     "shell.execute_reply": "2023-09-17T16:52:11.138326Z",
     "shell.execute_reply.started": "2023-09-17T16:52:11.132581Z"
    }
   },
   "outputs": [],
   "source": [
    "sr_no = {'101':'URTI'}\n",
    "for i, j in zip(df['101'].unique(), df['URTI']):\n",
    "    sr_no[str(i)] = j"
   ]
  },
  {
   "cell_type": "code",
   "execution_count": 5,
   "metadata": {
    "execution": {
     "iopub.execute_input": "2023-09-17T16:52:11.141247Z",
     "iopub.status.busy": "2023-09-17T16:52:11.140859Z",
     "iopub.status.idle": "2023-09-17T16:52:11.150705Z",
     "shell.execute_reply": "2023-09-17T16:52:11.149583Z",
     "shell.execute_reply.started": "2023-09-17T16:52:11.141203Z"
    }
   },
   "outputs": [
    {
     "data": {
      "text/plain": [
       "dict_keys(['101', '102', '103', '104', '105', '106', '107', '108', '109', '110', '111', '112', '113', '114', '115', '116', '117', '118', '119', '120', '121', '122', '123', '124', '125', '126', '127', '128', '129', '130', '131', '132', '133', '134', '135', '136', '137', '138', '139', '140', '141', '142', '143', '144', '145', '146', '147', '148', '149', '150', '151', '152', '153', '154', '155', '156', '157', '158', '159', '160', '161', '162', '163', '164', '165', '166', '167', '168', '169', '170', '171', '172', '173', '174', '175', '176', '177', '178', '179', '180', '181', '182', '183', '184', '185', '186', '187', '188', '189', '190', '191', '192', '193', '194', '195', '196', '197', '198', '199', '200', '201', '202', '203', '204', '205', '206', '207', '208', '209', '210', '211', '212', '213', '214', '215', '216', '217', '218', '219', '220', '221', '222', '223', '224', '225', '226'])"
      ]
     },
     "execution_count": 5,
     "metadata": {},
     "output_type": "execute_result"
    }
   ],
   "source": [
    "sr_no.keys()"
   ]
  },
  {
   "cell_type": "code",
   "execution_count": 6,
   "metadata": {
    "execution": {
     "iopub.execute_input": "2023-09-17T16:52:11.153126Z",
     "iopub.status.busy": "2023-09-17T16:52:11.152735Z",
     "iopub.status.idle": "2023-09-17T16:52:11.289613Z",
     "shell.execute_reply": "2023-09-17T16:52:11.288589Z",
     "shell.execute_reply.started": "2023-09-17T16:52:11.153094Z"
    }
   },
   "outputs": [],
   "source": [
    "import os\n",
    "sound_files = os.listdir('/kaggle/input/attention-cnn-model/Mel Spectrogram/Mel Spectrogram/Original')"
   ]
  },
  {
   "cell_type": "code",
   "execution_count": 7,
   "metadata": {
    "execution": {
     "iopub.execute_input": "2023-09-17T16:52:11.291932Z",
     "iopub.status.busy": "2023-09-17T16:52:11.291204Z",
     "iopub.status.idle": "2023-09-17T16:52:11.297677Z",
     "shell.execute_reply": "2023-09-17T16:52:11.296735Z",
     "shell.execute_reply.started": "2023-09-17T16:52:11.291898Z"
    }
   },
   "outputs": [],
   "source": [
    "req_file_names = []\n",
    "\n",
    "for i in sound_files:\n",
    "      req_file_names.append([i])"
   ]
  },
  {
   "cell_type": "code",
   "execution_count": 8,
   "metadata": {
    "execution": {
     "iopub.execute_input": "2023-09-17T16:52:11.301177Z",
     "iopub.status.busy": "2023-09-17T16:52:11.300048Z",
     "iopub.status.idle": "2023-09-17T16:52:11.308647Z",
     "shell.execute_reply": "2023-09-17T16:52:11.307494Z",
     "shell.execute_reply.started": "2023-09-17T16:52:11.301144Z"
    }
   },
   "outputs": [],
   "source": [
    "labels = []\n",
    "for i in range(len(req_file_names)):\n",
    "    req_file_names[i].append(sr_no[req_file_names[i][0][:3]])\n",
    "    labels.append(sr_no[req_file_names[i][0][:3]])"
   ]
  },
  {
   "cell_type": "code",
   "execution_count": 9,
   "metadata": {
    "execution": {
     "iopub.execute_input": "2023-09-17T16:52:11.310859Z",
     "iopub.status.busy": "2023-09-17T16:52:11.310151Z",
     "iopub.status.idle": "2023-09-17T16:52:11.319642Z",
     "shell.execute_reply": "2023-09-17T16:52:11.318742Z",
     "shell.execute_reply.started": "2023-09-17T16:52:11.310827Z"
    }
   },
   "outputs": [],
   "source": [
    "labels *= 3"
   ]
  },
  {
   "cell_type": "code",
   "execution_count": 10,
   "metadata": {
    "execution": {
     "iopub.execute_input": "2023-09-17T16:52:11.325414Z",
     "iopub.status.busy": "2023-09-17T16:52:11.324563Z",
     "iopub.status.idle": "2023-09-17T16:53:05.981894Z",
     "shell.execute_reply": "2023-09-17T16:53:05.980783Z",
     "shell.execute_reply.started": "2023-09-17T16:52:11.325381Z"
    }
   },
   "outputs": [],
   "source": [
    "x = []\n",
    "\n",
    "for i in req_file_names:\n",
    "    img = cv2.imread('/kaggle/input/attention-cnn-model/Mel Spectrogram/Mel Spectrogram/Time Stretch/'+i[0])\n",
    "    img = cv2.resize(img, (350, 350))\n",
    "    x.append(img)\n",
    "\n",
    "for i in req_file_names:\n",
    "    img = cv2.imread('/kaggle/input/attention-cnn-model/Mel Spectrogram/Mel Spectrogram/Pitch Shift/'+i[0])\n",
    "    img = cv2.resize(img, (350, 350))\n",
    "    x.append(img)\n",
    "    \n",
    "for i in req_file_names:\n",
    "    img = cv2.imread('/kaggle/input/attention-cnn-model/Mel Spectrogram/Mel Spectrogram/Audio Shift/'+i[0])\n",
    "    img = cv2.resize(img, (350, 350))\n",
    "    x.append(img)\n",
    "\n",
    "# x = np.array(x)\n",
    "# print(x.shape)"
   ]
  },
  {
   "cell_type": "code",
   "execution_count": 11,
   "metadata": {
    "execution": {
     "iopub.execute_input": "2023-09-17T16:53:05.983785Z",
     "iopub.status.busy": "2023-09-17T16:53:05.983406Z",
     "iopub.status.idle": "2023-09-17T16:53:05.992607Z",
     "shell.execute_reply": "2023-09-17T16:53:05.991351Z",
     "shell.execute_reply.started": "2023-09-17T16:53:05.983753Z"
    }
   },
   "outputs": [],
   "source": [
    "x_new = []\n",
    "y = []\n",
    "\n",
    "for i in range(len(labels)):\n",
    "    if labels[i]=='Asthma' or labels[i]=='Bronchiolitis':\n",
    "        continue\n",
    "    x_new.append(x[i])\n",
    "    y.append(labels[i])"
   ]
  },
  {
   "cell_type": "code",
   "execution_count": 12,
   "metadata": {
    "execution": {
     "iopub.execute_input": "2023-09-17T16:53:05.994857Z",
     "iopub.status.busy": "2023-09-17T16:53:05.994521Z",
     "iopub.status.idle": "2023-09-17T16:53:06.302475Z",
     "shell.execute_reply": "2023-09-17T16:53:06.300570Z",
     "shell.execute_reply.started": "2023-09-17T16:53:05.994825Z"
    }
   },
   "outputs": [
    {
     "name": "stdout",
     "output_type": "stream",
     "text": [
      "(2718, 350, 350, 3)\n"
     ]
    }
   ],
   "source": [
    "x = np.array(x_new)\n",
    "print(x.shape)"
   ]
  },
  {
   "cell_type": "code",
   "execution_count": 13,
   "metadata": {
    "execution": {
     "iopub.execute_input": "2023-09-17T16:53:06.304458Z",
     "iopub.status.busy": "2023-09-17T16:53:06.304067Z",
     "iopub.status.idle": "2023-09-17T16:53:06.309460Z",
     "shell.execute_reply": "2023-09-17T16:53:06.308331Z",
     "shell.execute_reply.started": "2023-09-17T16:53:06.304404Z"
    }
   },
   "outputs": [],
   "source": [
    "req_file_names *= 3"
   ]
  },
  {
   "cell_type": "code",
   "execution_count": 14,
   "metadata": {
    "execution": {
     "iopub.execute_input": "2023-09-17T16:53:06.312097Z",
     "iopub.status.busy": "2023-09-17T16:53:06.311315Z",
     "iopub.status.idle": "2023-09-17T16:53:06.323468Z",
     "shell.execute_reply": "2023-09-17T16:53:06.322383Z",
     "shell.execute_reply.started": "2023-09-17T16:53:06.312066Z"
    }
   },
   "outputs": [
    {
     "data": {
      "text/plain": [
       "(2718,)"
      ]
     },
     "execution_count": 14,
     "metadata": {},
     "output_type": "execute_result"
    }
   ],
   "source": [
    "y = np.array(y)\n",
    "y.shape"
   ]
  },
  {
   "cell_type": "code",
   "execution_count": 15,
   "metadata": {
    "execution": {
     "iopub.execute_input": "2023-09-17T16:53:06.325820Z",
     "iopub.status.busy": "2023-09-17T16:53:06.324768Z",
     "iopub.status.idle": "2023-09-17T16:53:06.336672Z",
     "shell.execute_reply": "2023-09-17T16:53:06.335817Z",
     "shell.execute_reply.started": "2023-09-17T16:53:06.325786Z"
    }
   },
   "outputs": [],
   "source": [
    "one_hot_y = np.array(pd.get_dummies(y))"
   ]
  },
  {
   "cell_type": "code",
   "execution_count": 16,
   "metadata": {
    "execution": {
     "iopub.execute_input": "2023-09-17T16:53:06.339245Z",
     "iopub.status.busy": "2023-09-17T16:53:06.338983Z",
     "iopub.status.idle": "2023-09-17T16:53:06.643575Z",
     "shell.execute_reply": "2023-09-17T16:53:06.642161Z",
     "shell.execute_reply.started": "2023-09-17T16:53:06.339215Z"
    }
   },
   "outputs": [
    {
     "name": "stdout",
     "output_type": "stream",
     "text": [
      "(2174, 350, 350, 3) (2174, 6) (544, 350, 350, 3)\n"
     ]
    }
   ],
   "source": [
    "x_train, x_test, y_train, y_test = train_test_split(x, one_hot_y, test_size=0.2, random_state=39, stratify=y)\n",
    "print(x_train.shape, y_train.shape, x_test.shape)"
   ]
  },
  {
   "cell_type": "code",
   "execution_count": 17,
   "metadata": {
    "execution": {
     "iopub.execute_input": "2023-09-17T16:53:06.646141Z",
     "iopub.status.busy": "2023-09-17T16:53:06.645309Z",
     "iopub.status.idle": "2023-09-17T16:53:14.784565Z",
     "shell.execute_reply": "2023-09-17T16:53:14.783338Z",
     "shell.execute_reply.started": "2023-09-17T16:53:06.646054Z"
    }
   },
   "outputs": [
    {
     "name": "stdout",
     "output_type": "stream",
     "text": [
      "Downloading data from https://storage.googleapis.com/keras-applications/efficientnetb1_notop.h5\n",
      "27018416/27018416 [==============================] - 2s 0us/step\n"
     ]
    }
   ],
   "source": [
    "enb1_wo_top = keras.applications.efficientnet.EfficientNetB1(include_top=False, weights='imagenet', input_shape=(350,350,3))"
   ]
  },
  {
   "cell_type": "code",
   "execution_count": 18,
   "metadata": {
    "execution": {
     "iopub.execute_input": "2023-09-17T16:53:14.786168Z",
     "iopub.status.busy": "2023-09-17T16:53:14.785833Z",
     "iopub.status.idle": "2023-09-17T16:53:15.997451Z",
     "shell.execute_reply": "2023-09-17T16:53:15.996455Z",
     "shell.execute_reply.started": "2023-09-17T16:53:14.786137Z"
    }
   },
   "outputs": [
    {
     "name": "stdout",
     "output_type": "stream",
     "text": [
      "Model: \"model\"\n",
      "__________________________________________________________________________________________________\n",
      " Layer (type)                   Output Shape         Param #     Connected to                     \n",
      "==================================================================================================\n",
      " input_2 (InputLayer)           [(None, 350, 350, 3  0           []                               \n",
      "                                )]                                                                \n",
      "                                                                                                  \n",
      " efficientnetb1 (Functional)    (None, 11, 11, 1280  6575239     ['input_2[0][0]']                \n",
      "                                )                                                                 \n",
      "                                                                                                  \n",
      " attention (Attention)          (None, 11, 11, 1280  0           ['efficientnetb1[0][0]',         \n",
      "                                )                                 'efficientnetb1[0][0]']         \n",
      "                                                                                                  \n",
      " flatten (Flatten)              (None, 154880)       0           ['attention[0][0]']              \n",
      "                                                                                                  \n",
      " dense (Dense)                  (None, 128)          19824768    ['flatten[0][0]']                \n",
      "                                                                                                  \n",
      " dropout (Dropout)              (None, 128)          0           ['dense[0][0]']                  \n",
      "                                                                                                  \n",
      " batch_normalization (BatchNorm  (None, 128)         512         ['dropout[0][0]']                \n",
      " alization)                                                                                       \n",
      "                                                                                                  \n",
      " dense_1 (Dense)                (None, 64)           8256        ['batch_normalization[0][0]']    \n",
      "                                                                                                  \n",
      " dense_2 (Dense)                (None, 6)            390         ['dense_1[0][0]']                \n",
      "                                                                                                  \n",
      "==================================================================================================\n",
      "Total params: 26,409,165\n",
      "Trainable params: 26,346,854\n",
      "Non-trainable params: 62,311\n",
      "__________________________________________________________________________________________________\n"
     ]
    }
   ],
   "source": [
    "input_enb1 = keras.layers.Input(shape=x_train.shape[1:])\n",
    "\n",
    "enb1_layer = enb1_wo_top(input_enb1)\n",
    "\n",
    "# random = np.random.random(enb1_layer.shape[1:])\n",
    "\n",
    "attention = keras.layers.Attention()([enb1_layer, enb1_layer])\n",
    "flatten = keras.layers.Flatten()(attention)\n",
    "\n",
    "dense1 = keras.layers.Dense(128, activation='relu')(flatten)\n",
    "do1 = keras.layers.Dropout(0.3)(dense1)\n",
    "bn1 = keras.layers.BatchNormalization()(do1)\n",
    "dense2 = keras.layers.Dense(64, activation='relu')(bn1)\n",
    "output = keras.layers.Dense(6, activation='softmax')(dense2)\n",
    "\n",
    "enb1_model = keras.Model(inputs=input_enb1, outputs=output)\n",
    "enb1_model.summary()"
   ]
  },
  {
   "cell_type": "code",
   "execution_count": 19,
   "metadata": {
    "execution": {
     "iopub.execute_input": "2023-09-17T16:53:15.999736Z",
     "iopub.status.busy": "2023-09-17T16:53:15.999002Z",
     "iopub.status.idle": "2023-09-17T16:53:16.027134Z",
     "shell.execute_reply": "2023-09-17T16:53:16.026485Z",
     "shell.execute_reply.started": "2023-09-17T16:53:15.999698Z"
    }
   },
   "outputs": [],
   "source": [
    "checkpoint_enb1 = keras.callbacks.ModelCheckpoint('/kaggle/working/ENB1_Model-{epoch:02d}.h5', save_best_only=True, initial_value_threshold=0.9980)\n",
    "\n",
    "enb1_model.compile(optimizer=keras.optimizers.Adam(3e-6), loss='categorical_crossentropy', metrics=['accuracy'])"
   ]
  },
  {
   "cell_type": "code",
   "execution_count": 20,
   "metadata": {
    "execution": {
     "iopub.execute_input": "2023-09-17T16:53:16.029013Z",
     "iopub.status.busy": "2023-09-17T16:53:16.028455Z",
     "iopub.status.idle": "2023-09-17T18:19:38.396241Z",
     "shell.execute_reply": "2023-09-17T18:19:38.395245Z",
     "shell.execute_reply.started": "2023-09-17T16:53:16.028981Z"
    }
   },
   "outputs": [
    {
     "name": "stdout",
     "output_type": "stream",
     "text": [
      "Epoch 1/100\n"
     ]
    },
    {
     "name": "stderr",
     "output_type": "stream",
     "text": [
      "2023-09-17 16:53:42.184522: E tensorflow/core/grappler/optimizers/meta_optimizer.cc:954] layout failed: INVALID_ARGUMENT: Size of values 0 does not match size of permutation 4 @ fanin shape inmodel/efficientnetb1/block1b_drop/dropout/SelectV2-2-TransposeNHWCToNCHW-LayoutOptimizer\n"
     ]
    },
    {
     "name": "stdout",
     "output_type": "stream",
     "text": [
      "68/68 [==============================] - 125s 797ms/step - loss: 1.8517 - accuracy: 0.2567 - val_loss: 3.3898 - val_accuracy: 0.0312\n",
      "Epoch 2/100\n",
      "68/68 [==============================] - 51s 749ms/step - loss: 1.5308 - accuracy: 0.4080 - val_loss: 2.2984 - val_accuracy: 0.0551\n",
      "Epoch 3/100\n",
      "68/68 [==============================] - 52s 759ms/step - loss: 1.2656 - accuracy: 0.5511 - val_loss: 1.5026 - val_accuracy: 0.4449\n",
      "Epoch 4/100\n",
      "68/68 [==============================] - 51s 749ms/step - loss: 1.0749 - accuracy: 0.6490 - val_loss: 0.8768 - val_accuracy: 0.7390\n",
      "Epoch 5/100\n",
      "68/68 [==============================] - 51s 751ms/step - loss: 0.9378 - accuracy: 0.7194 - val_loss: 0.6621 - val_accuracy: 0.8346\n",
      "Epoch 6/100\n",
      "68/68 [==============================] - 52s 760ms/step - loss: 0.8624 - accuracy: 0.7718 - val_loss: 0.5562 - val_accuracy: 0.8695\n",
      "Epoch 7/100\n",
      "68/68 [==============================] - 51s 748ms/step - loss: 0.7720 - accuracy: 0.8091 - val_loss: 0.4731 - val_accuracy: 0.8915\n",
      "Epoch 8/100\n",
      "68/68 [==============================] - 52s 758ms/step - loss: 0.7195 - accuracy: 0.8330 - val_loss: 0.4495 - val_accuracy: 0.9007\n",
      "Epoch 9/100\n",
      "68/68 [==============================] - 51s 748ms/step - loss: 0.6620 - accuracy: 0.8496 - val_loss: 0.4121 - val_accuracy: 0.9210\n",
      "Epoch 10/100\n",
      "68/68 [==============================] - 52s 759ms/step - loss: 0.6360 - accuracy: 0.8694 - val_loss: 0.3895 - val_accuracy: 0.9210\n",
      "Epoch 11/100\n",
      "68/68 [==============================] - 52s 760ms/step - loss: 0.5958 - accuracy: 0.8767 - val_loss: 0.3748 - val_accuracy: 0.9210\n",
      "Epoch 12/100\n",
      "68/68 [==============================] - 52s 761ms/step - loss: 0.5787 - accuracy: 0.8818 - val_loss: 0.3529 - val_accuracy: 0.9210\n",
      "Epoch 13/100\n",
      "68/68 [==============================] - 52s 760ms/step - loss: 0.5540 - accuracy: 0.8841 - val_loss: 0.3343 - val_accuracy: 0.9228\n",
      "Epoch 14/100\n",
      "68/68 [==============================] - 51s 746ms/step - loss: 0.5156 - accuracy: 0.9025 - val_loss: 0.3293 - val_accuracy: 0.9265\n",
      "Epoch 15/100\n",
      "68/68 [==============================] - 51s 747ms/step - loss: 0.4909 - accuracy: 0.9062 - val_loss: 0.3207 - val_accuracy: 0.9357\n",
      "Epoch 16/100\n",
      "68/68 [==============================] - 51s 747ms/step - loss: 0.4828 - accuracy: 0.9140 - val_loss: 0.2944 - val_accuracy: 0.9357\n",
      "Epoch 17/100\n",
      "68/68 [==============================] - 52s 758ms/step - loss: 0.4607 - accuracy: 0.9144 - val_loss: 0.2843 - val_accuracy: 0.9357\n",
      "Epoch 18/100\n",
      "68/68 [==============================] - 51s 749ms/step - loss: 0.4500 - accuracy: 0.9200 - val_loss: 0.2724 - val_accuracy: 0.9393\n",
      "Epoch 19/100\n",
      "68/68 [==============================] - 51s 748ms/step - loss: 0.4366 - accuracy: 0.9223 - val_loss: 0.2663 - val_accuracy: 0.9449\n",
      "Epoch 20/100\n",
      "68/68 [==============================] - 51s 747ms/step - loss: 0.4200 - accuracy: 0.9241 - val_loss: 0.2606 - val_accuracy: 0.9430\n",
      "Epoch 21/100\n",
      "68/68 [==============================] - 51s 748ms/step - loss: 0.4121 - accuracy: 0.9278 - val_loss: 0.2561 - val_accuracy: 0.9449\n",
      "Epoch 22/100\n",
      "68/68 [==============================] - 51s 749ms/step - loss: 0.3926 - accuracy: 0.9351 - val_loss: 0.2447 - val_accuracy: 0.9412\n",
      "Epoch 23/100\n",
      "68/68 [==============================] - 51s 750ms/step - loss: 0.3851 - accuracy: 0.9374 - val_loss: 0.2333 - val_accuracy: 0.9430\n",
      "Epoch 24/100\n",
      "68/68 [==============================] - 51s 747ms/step - loss: 0.3635 - accuracy: 0.9434 - val_loss: 0.2288 - val_accuracy: 0.9485\n",
      "Epoch 25/100\n",
      "68/68 [==============================] - 51s 748ms/step - loss: 0.3574 - accuracy: 0.9402 - val_loss: 0.2212 - val_accuracy: 0.9504\n",
      "Epoch 26/100\n",
      "68/68 [==============================] - 52s 758ms/step - loss: 0.3461 - accuracy: 0.9434 - val_loss: 0.2157 - val_accuracy: 0.9485\n",
      "Epoch 27/100\n",
      "68/68 [==============================] - 51s 745ms/step - loss: 0.3374 - accuracy: 0.9471 - val_loss: 0.2074 - val_accuracy: 0.9504\n",
      "Epoch 28/100\n",
      "68/68 [==============================] - 51s 747ms/step - loss: 0.3170 - accuracy: 0.9549 - val_loss: 0.1974 - val_accuracy: 0.9504\n",
      "Epoch 29/100\n",
      "68/68 [==============================] - 51s 751ms/step - loss: 0.3175 - accuracy: 0.9526 - val_loss: 0.1919 - val_accuracy: 0.9577\n",
      "Epoch 30/100\n",
      "68/68 [==============================] - 51s 750ms/step - loss: 0.3096 - accuracy: 0.9572 - val_loss: 0.1873 - val_accuracy: 0.9559\n",
      "Epoch 31/100\n",
      "68/68 [==============================] - 52s 759ms/step - loss: 0.2953 - accuracy: 0.9554 - val_loss: 0.1813 - val_accuracy: 0.9559\n",
      "Epoch 32/100\n",
      "68/68 [==============================] - 51s 746ms/step - loss: 0.2902 - accuracy: 0.9627 - val_loss: 0.1754 - val_accuracy: 0.9688\n",
      "Epoch 33/100\n",
      "68/68 [==============================] - 51s 746ms/step - loss: 0.2847 - accuracy: 0.9600 - val_loss: 0.1686 - val_accuracy: 0.9706\n",
      "Epoch 34/100\n",
      "68/68 [==============================] - 51s 748ms/step - loss: 0.2668 - accuracy: 0.9660 - val_loss: 0.1628 - val_accuracy: 0.9706\n",
      "Epoch 35/100\n",
      "68/68 [==============================] - 51s 747ms/step - loss: 0.2581 - accuracy: 0.9641 - val_loss: 0.1597 - val_accuracy: 0.9761\n",
      "Epoch 36/100\n",
      "68/68 [==============================] - 52s 759ms/step - loss: 0.2590 - accuracy: 0.9664 - val_loss: 0.1571 - val_accuracy: 0.9724\n",
      "Epoch 37/100\n",
      "68/68 [==============================] - 51s 749ms/step - loss: 0.2542 - accuracy: 0.9650 - val_loss: 0.1557 - val_accuracy: 0.9706\n",
      "Epoch 38/100\n",
      "68/68 [==============================] - 52s 758ms/step - loss: 0.2526 - accuracy: 0.9660 - val_loss: 0.1537 - val_accuracy: 0.9724\n",
      "Epoch 39/100\n",
      "68/68 [==============================] - 51s 748ms/step - loss: 0.2380 - accuracy: 0.9706 - val_loss: 0.1479 - val_accuracy: 0.9706\n",
      "Epoch 40/100\n",
      "68/68 [==============================] - 51s 747ms/step - loss: 0.2317 - accuracy: 0.9724 - val_loss: 0.1442 - val_accuracy: 0.9743\n",
      "Epoch 41/100\n",
      "68/68 [==============================] - 51s 750ms/step - loss: 0.2161 - accuracy: 0.9770 - val_loss: 0.1377 - val_accuracy: 0.9761\n",
      "Epoch 42/100\n",
      "68/68 [==============================] - 51s 747ms/step - loss: 0.2119 - accuracy: 0.9779 - val_loss: 0.1357 - val_accuracy: 0.9761\n",
      "Epoch 43/100\n",
      "68/68 [==============================] - 52s 759ms/step - loss: 0.2167 - accuracy: 0.9742 - val_loss: 0.1293 - val_accuracy: 0.9798\n",
      "Epoch 44/100\n",
      "68/68 [==============================] - 51s 757ms/step - loss: 0.2108 - accuracy: 0.9742 - val_loss: 0.1260 - val_accuracy: 0.9798\n",
      "Epoch 45/100\n",
      "68/68 [==============================] - 51s 751ms/step - loss: 0.1929 - accuracy: 0.9821 - val_loss: 0.1271 - val_accuracy: 0.9761\n",
      "Epoch 46/100\n",
      "68/68 [==============================] - 51s 749ms/step - loss: 0.1951 - accuracy: 0.9784 - val_loss: 0.1250 - val_accuracy: 0.9761\n",
      "Epoch 47/100\n",
      "68/68 [==============================] - 52s 759ms/step - loss: 0.1887 - accuracy: 0.9775 - val_loss: 0.1196 - val_accuracy: 0.9761\n",
      "Epoch 48/100\n",
      "68/68 [==============================] - 51s 756ms/step - loss: 0.1895 - accuracy: 0.9779 - val_loss: 0.1146 - val_accuracy: 0.9798\n",
      "Epoch 49/100\n",
      "68/68 [==============================] - 51s 758ms/step - loss: 0.1917 - accuracy: 0.9788 - val_loss: 0.1140 - val_accuracy: 0.9798\n",
      "Epoch 50/100\n",
      "68/68 [==============================] - 51s 748ms/step - loss: 0.1821 - accuracy: 0.9802 - val_loss: 0.1095 - val_accuracy: 0.9816\n",
      "Epoch 51/100\n",
      "68/68 [==============================] - 51s 746ms/step - loss: 0.1781 - accuracy: 0.9788 - val_loss: 0.1066 - val_accuracy: 0.9816\n",
      "Epoch 52/100\n",
      "68/68 [==============================] - 51s 749ms/step - loss: 0.1673 - accuracy: 0.9839 - val_loss: 0.1048 - val_accuracy: 0.9816\n",
      "Epoch 53/100\n",
      "68/68 [==============================] - 52s 759ms/step - loss: 0.1663 - accuracy: 0.9821 - val_loss: 0.1057 - val_accuracy: 0.9835\n",
      "Epoch 54/100\n",
      "68/68 [==============================] - 52s 761ms/step - loss: 0.1673 - accuracy: 0.9807 - val_loss: 0.0997 - val_accuracy: 0.9853\n",
      "Epoch 55/100\n",
      "68/68 [==============================] - 51s 748ms/step - loss: 0.1551 - accuracy: 0.9839 - val_loss: 0.0994 - val_accuracy: 0.9816\n",
      "Epoch 56/100\n",
      "68/68 [==============================] - 51s 747ms/step - loss: 0.1554 - accuracy: 0.9848 - val_loss: 0.0967 - val_accuracy: 0.9835\n",
      "Epoch 57/100\n",
      "68/68 [==============================] - 51s 748ms/step - loss: 0.1447 - accuracy: 0.9876 - val_loss: 0.0925 - val_accuracy: 0.9871\n",
      "Epoch 58/100\n",
      "68/68 [==============================] - 52s 759ms/step - loss: 0.1431 - accuracy: 0.9880 - val_loss: 0.0927 - val_accuracy: 0.9871\n",
      "Epoch 59/100\n",
      "68/68 [==============================] - 51s 748ms/step - loss: 0.1360 - accuracy: 0.9871 - val_loss: 0.0929 - val_accuracy: 0.9853\n",
      "Epoch 60/100\n",
      "68/68 [==============================] - 51s 747ms/step - loss: 0.1347 - accuracy: 0.9848 - val_loss: 0.0886 - val_accuracy: 0.9871\n",
      "Epoch 61/100\n",
      "68/68 [==============================] - 51s 746ms/step - loss: 0.1403 - accuracy: 0.9871 - val_loss: 0.0842 - val_accuracy: 0.9853\n",
      "Epoch 62/100\n",
      "68/68 [==============================] - 51s 758ms/step - loss: 0.1269 - accuracy: 0.9908 - val_loss: 0.0825 - val_accuracy: 0.9871\n",
      "Epoch 63/100\n",
      "68/68 [==============================] - 51s 747ms/step - loss: 0.1233 - accuracy: 0.9903 - val_loss: 0.0847 - val_accuracy: 0.9853\n",
      "Epoch 64/100\n",
      "68/68 [==============================] - 51s 747ms/step - loss: 0.1306 - accuracy: 0.9857 - val_loss: 0.0834 - val_accuracy: 0.9853\n",
      "Epoch 65/100\n",
      "68/68 [==============================] - 51s 748ms/step - loss: 0.1190 - accuracy: 0.9913 - val_loss: 0.0768 - val_accuracy: 0.9890\n",
      "Epoch 66/100\n",
      "68/68 [==============================] - 52s 760ms/step - loss: 0.1177 - accuracy: 0.9890 - val_loss: 0.0763 - val_accuracy: 0.9871\n",
      "Epoch 67/100\n",
      "68/68 [==============================] - 52s 759ms/step - loss: 0.1123 - accuracy: 0.9890 - val_loss: 0.0761 - val_accuracy: 0.9871\n",
      "Epoch 68/100\n",
      "68/68 [==============================] - 51s 748ms/step - loss: 0.1069 - accuracy: 0.9926 - val_loss: 0.0747 - val_accuracy: 0.9871\n",
      "Epoch 69/100\n",
      "68/68 [==============================] - 51s 749ms/step - loss: 0.1166 - accuracy: 0.9876 - val_loss: 0.0753 - val_accuracy: 0.9890\n",
      "Epoch 70/100\n",
      "68/68 [==============================] - 52s 760ms/step - loss: 0.1083 - accuracy: 0.9913 - val_loss: 0.0702 - val_accuracy: 0.9871\n",
      "Epoch 71/100\n",
      "68/68 [==============================] - 51s 749ms/step - loss: 0.1003 - accuracy: 0.9926 - val_loss: 0.0714 - val_accuracy: 0.9853\n",
      "Epoch 72/100\n",
      "68/68 [==============================] - 51s 747ms/step - loss: 0.1010 - accuracy: 0.9913 - val_loss: 0.0683 - val_accuracy: 0.9871\n",
      "Epoch 73/100\n",
      "68/68 [==============================] - 52s 759ms/step - loss: 0.0982 - accuracy: 0.9913 - val_loss: 0.0671 - val_accuracy: 0.9890\n",
      "Epoch 74/100\n",
      "68/68 [==============================] - 51s 747ms/step - loss: 0.0957 - accuracy: 0.9940 - val_loss: 0.0670 - val_accuracy: 0.9908\n",
      "Epoch 75/100\n",
      "68/68 [==============================] - 51s 749ms/step - loss: 0.0964 - accuracy: 0.9908 - val_loss: 0.0650 - val_accuracy: 0.9871\n",
      "Epoch 76/100\n",
      "68/68 [==============================] - 51s 748ms/step - loss: 0.0920 - accuracy: 0.9940 - val_loss: 0.0639 - val_accuracy: 0.9853\n",
      "Epoch 77/100\n",
      "68/68 [==============================] - 51s 748ms/step - loss: 0.0988 - accuracy: 0.9899 - val_loss: 0.0642 - val_accuracy: 0.9835\n",
      "Epoch 78/100\n",
      "68/68 [==============================] - 51s 756ms/step - loss: 0.0925 - accuracy: 0.9922 - val_loss: 0.0621 - val_accuracy: 0.9890\n",
      "Epoch 79/100\n",
      "68/68 [==============================] - 51s 747ms/step - loss: 0.0865 - accuracy: 0.9936 - val_loss: 0.0633 - val_accuracy: 0.9871\n",
      "Epoch 80/100\n",
      "68/68 [==============================] - 51s 749ms/step - loss: 0.0825 - accuracy: 0.9968 - val_loss: 0.0608 - val_accuracy: 0.9908\n",
      "Epoch 81/100\n",
      "68/68 [==============================] - 51s 747ms/step - loss: 0.0870 - accuracy: 0.9931 - val_loss: 0.0583 - val_accuracy: 0.9926\n",
      "Epoch 82/100\n",
      "68/68 [==============================] - 51s 747ms/step - loss: 0.0848 - accuracy: 0.9940 - val_loss: 0.0574 - val_accuracy: 0.9926\n",
      "Epoch 83/100\n",
      "68/68 [==============================] - 51s 747ms/step - loss: 0.0852 - accuracy: 0.9922 - val_loss: 0.0556 - val_accuracy: 0.9908\n",
      "Epoch 84/100\n",
      "68/68 [==============================] - 51s 748ms/step - loss: 0.0795 - accuracy: 0.9936 - val_loss: 0.0559 - val_accuracy: 0.9926\n",
      "Epoch 85/100\n",
      "68/68 [==============================] - 51s 751ms/step - loss: 0.0838 - accuracy: 0.9917 - val_loss: 0.0547 - val_accuracy: 0.9926\n",
      "Epoch 86/100\n",
      "68/68 [==============================] - 51s 750ms/step - loss: 0.0735 - accuracy: 0.9949 - val_loss: 0.0572 - val_accuracy: 0.9871\n",
      "Epoch 87/100\n",
      "68/68 [==============================] - 51s 750ms/step - loss: 0.0773 - accuracy: 0.9936 - val_loss: 0.0516 - val_accuracy: 0.9908\n",
      "Epoch 88/100\n",
      "68/68 [==============================] - 51s 748ms/step - loss: 0.0741 - accuracy: 0.9926 - val_loss: 0.0506 - val_accuracy: 0.9890\n",
      "Epoch 89/100\n",
      "68/68 [==============================] - 51s 758ms/step - loss: 0.0719 - accuracy: 0.9959 - val_loss: 0.0488 - val_accuracy: 0.9963\n",
      "Epoch 90/100\n",
      "68/68 [==============================] - 51s 747ms/step - loss: 0.0681 - accuracy: 0.9945 - val_loss: 0.0489 - val_accuracy: 0.9963\n",
      "Epoch 91/100\n",
      "68/68 [==============================] - 51s 749ms/step - loss: 0.0648 - accuracy: 0.9977 - val_loss: 0.0488 - val_accuracy: 0.9945\n",
      "Epoch 92/100\n",
      "68/68 [==============================] - 51s 749ms/step - loss: 0.0670 - accuracy: 0.9949 - val_loss: 0.0489 - val_accuracy: 0.9908\n",
      "Epoch 93/100\n",
      "68/68 [==============================] - 52s 758ms/step - loss: 0.0664 - accuracy: 0.9945 - val_loss: 0.0473 - val_accuracy: 0.9908\n",
      "Epoch 94/100\n",
      "68/68 [==============================] - 51s 748ms/step - loss: 0.0606 - accuracy: 0.9963 - val_loss: 0.0475 - val_accuracy: 0.9926\n",
      "Epoch 95/100\n",
      "68/68 [==============================] - 51s 746ms/step - loss: 0.0653 - accuracy: 0.9940 - val_loss: 0.0472 - val_accuracy: 0.9908\n",
      "Epoch 96/100\n",
      "68/68 [==============================] - 52s 758ms/step - loss: 0.0610 - accuracy: 0.9982 - val_loss: 0.0460 - val_accuracy: 0.9926\n",
      "Epoch 97/100\n",
      "68/68 [==============================] - 51s 746ms/step - loss: 0.0592 - accuracy: 0.9949 - val_loss: 0.0461 - val_accuracy: 0.9908\n",
      "Epoch 98/100\n",
      "68/68 [==============================] - 52s 759ms/step - loss: 0.0587 - accuracy: 0.9954 - val_loss: 0.0440 - val_accuracy: 0.9908\n",
      "Epoch 99/100\n",
      "68/68 [==============================] - 51s 750ms/step - loss: 0.0589 - accuracy: 0.9968 - val_loss: 0.0440 - val_accuracy: 0.9926\n",
      "Epoch 100/100\n",
      "68/68 [==============================] - 52s 758ms/step - loss: 0.0530 - accuracy: 0.9959 - val_loss: 0.0446 - val_accuracy: 0.9908\n"
     ]
    }
   ],
   "source": [
    "history_enb1 = enb1_model.fit(x_train, y_train, batch_size=32, epochs=100, validation_data=(x_test, y_test))"
   ]
  },
  {
   "cell_type": "code",
   "execution_count": 21,
   "metadata": {
    "execution": {
     "iopub.execute_input": "2023-09-17T18:19:38.398460Z",
     "iopub.status.busy": "2023-09-17T18:19:38.398058Z",
     "iopub.status.idle": "2023-09-17T18:19:38.408853Z",
     "shell.execute_reply": "2023-09-17T18:19:38.407882Z",
     "shell.execute_reply.started": "2023-09-17T18:19:38.398408Z"
    }
   },
   "outputs": [],
   "source": [
    "df = pd.DataFrame(history_enb1.history)\n",
    "df.to_csv('/kaggle/working/ENB1_history.csv')"
   ]
  },
  {
   "cell_type": "code",
   "execution_count": 22,
   "metadata": {
    "execution": {
     "iopub.execute_input": "2023-09-17T18:19:38.410563Z",
     "iopub.status.busy": "2023-09-17T18:19:38.410191Z",
     "iopub.status.idle": "2023-09-17T18:19:39.030101Z",
     "shell.execute_reply": "2023-09-17T18:19:39.025523Z",
     "shell.execute_reply.started": "2023-09-17T18:19:38.410527Z"
    }
   },
   "outputs": [
    {
     "data": {
      "image/png": "[encoded data removed]",
      "text/plain": [
       "<Figure size 800x500 with 1 Axes>"
      ]
     },
     "metadata": {},
     "output_type": "display_data"
    }
   ],
   "source": [
    "pd.DataFrame(history_enb1.history).plot(figsize = (8, 5))\n",
    "plt.grid(True)\n",
    "plt.gca().set_ylim(-0.1, 1.1)\n",
    "plt.savefig(\"/kaggle/working/ENB1_Attention_Graph.png\")\n",
    "plt.show()"
   ]
  },
  {
   "cell_type": "code",
   "execution_count": 23,
   "metadata": {
    "execution": {
     "iopub.execute_input": "2023-09-17T18:19:39.032204Z",
     "iopub.status.busy": "2023-09-17T18:19:39.031540Z",
     "iopub.status.idle": "2023-09-17T18:19:44.158446Z",
     "shell.execute_reply": "2023-09-17T18:19:44.157398Z",
     "shell.execute_reply.started": "2023-09-17T18:19:39.032168Z"
    }
   },
   "outputs": [
    {
     "name": "stdout",
     "output_type": "stream",
     "text": [
      "17/17 [==============================] - 4s 106ms/step\n",
      "[[ 10   0   0   0   0   0]\n",
      " [  1 475   0   0   0   0]\n",
      " [  0   0  21   0   0   0]\n",
      " [  0   0   0   1   0   0]\n",
      " [  0   2   0   0  20   0]\n",
      " [  0   0   2   0   0  12]]\n"
     ]
    },
    {
     "data": {
      "text/plain": [
       "(0.9908088235294118,\n",
       " 0.9913033364090161,\n",
       " 0.9908088235294118,\n",
       " 0.9907101027971266)"
      ]
     },
     "execution_count": 23,
     "metadata": {},
     "output_type": "execute_result"
    }
   ],
   "source": [
    "y_pred = enb1_model.predict(x_test)\n",
    "\n",
    "pred = []\n",
    "for i in y_pred:\n",
    "    pred.append(np.argmax(i))\n",
    "pred = np.array(pred)\n",
    "\n",
    "real = []\n",
    "for i in y_test:\n",
    "    real.append(np.argmax(i))\n",
    "real = np.array(real)\n",
    "    \n",
    "print(confusion_matrix(real, pred))\n",
    "accuracy_score(real, pred), precision_score(real, pred, average='weighted'), recall_score(real, pred, average='weighted'), f1_score(real, pred, average='weighted')"
   ]
  }
 ],
 "metadata": {
  "kernelspec": {
   "display_name": "Python 3 (ipykernel)",
   "language": "python",
   "name": "python3"
  },
  "language_info": {
   "codemirror_mode": {
    "name": "ipython",
    "version": 3
   },
   "file_extension": ".py",
   "mimetype": "text/x-python",
   "name": "python",
   "nbconvert_exporter": "python",
   "pygments_lexer": "ipython3",
   "version": "3.9.7"
  }
 },
 "nbformat": 4,
 "nbformat_minor": 4
}
