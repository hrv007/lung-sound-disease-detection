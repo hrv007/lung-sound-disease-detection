{
 "cells": [
  {
   "cell_type": "code",
   "execution_count": 1,
   "metadata": {
    "execution": {
     "iopub.execute_input": "2023-09-17T11:54:14.848428Z",
     "iopub.status.busy": "2023-09-17T11:54:14.848062Z",
     "iopub.status.idle": "2023-09-17T11:54:23.731868Z",
     "shell.execute_reply": "2023-09-17T11:54:23.730919Z",
     "shell.execute_reply.started": "2023-09-17T11:54:14.848382Z"
    }
   },
   "outputs": [
    {
     "name": "stderr",
     "output_type": "stream",
     "text": [
      "/opt/conda/lib/python3.10/site-packages/scipy/__init__.py:146: UserWarning: A NumPy version >=1.16.5 and <1.23.0 is required for this version of SciPy (detected version 1.23.5\n",
      "  warnings.warn(f\"A NumPy version >={np_minversion} and <{np_maxversion}\"\n"
     ]
    }
   ],
   "source": [
    "import numpy as np\n",
    "import pandas as pd\n",
    "import tensorflow as tf\n",
    "from tensorflow import keras\n",
    "import matplotlib.pyplot as plt\n",
    "from sklearn.model_selection import train_test_split\n",
    "import cv2\n",
    "from sklearn.metrics import accuracy_score, precision_score, recall_score, f1_score, confusion_matrix"
   ]
  },
  {
   "cell_type": "code",
   "execution_count": 2,
   "metadata": {
    "execution": {
     "iopub.execute_input": "2023-09-17T11:54:23.734430Z",
     "iopub.status.busy": "2023-09-17T11:54:23.733612Z",
     "iopub.status.idle": "2023-09-17T11:54:23.763992Z",
     "shell.execute_reply": "2023-09-17T11:54:23.762863Z",
     "shell.execute_reply.started": "2023-09-17T11:54:23.734390Z"
    }
   },
   "outputs": [
    {
     "data": {
      "text/html": [
       "<div>\n",
       "<style scoped>\n",
       "    .dataframe tbody tr th:only-of-type {\n",
       "        vertical-align: middle;\n",
       "    }\n",
       "\n",
       "    .dataframe tbody tr th {\n",
       "        vertical-align: top;\n",
       "    }\n",
       "\n",
       "    .dataframe thead th {\n",
       "        text-align: right;\n",
       "    }\n",
       "</style>\n",
       "<table border=\"1\" class=\"dataframe\">\n",
       "  <thead>\n",
       "    <tr style=\"text-align: right;\">\n",
       "      <th></th>\n",
       "      <th>101</th>\n",
       "      <th>URTI</th>\n",
       "    </tr>\n",
       "  </thead>\n",
       "  <tbody>\n",
       "    <tr>\n",
       "      <th>0</th>\n",
       "      <td>102</td>\n",
       "      <td>Healthy</td>\n",
       "    </tr>\n",
       "    <tr>\n",
       "      <th>1</th>\n",
       "      <td>103</td>\n",
       "      <td>Asthma</td>\n",
       "    </tr>\n",
       "    <tr>\n",
       "      <th>2</th>\n",
       "      <td>104</td>\n",
       "      <td>COPD</td>\n",
       "    </tr>\n",
       "    <tr>\n",
       "      <th>3</th>\n",
       "      <td>105</td>\n",
       "      <td>URTI</td>\n",
       "    </tr>\n",
       "    <tr>\n",
       "      <th>4</th>\n",
       "      <td>106</td>\n",
       "      <td>COPD</td>\n",
       "    </tr>\n",
       "  </tbody>\n",
       "</table>\n",
       "</div>"
      ],
      "text/plain": [
       "   101     URTI\n",
       "0  102  Healthy\n",
       "1  103   Asthma\n",
       "2  104     COPD\n",
       "3  105     URTI\n",
       "4  106     COPD"
      ]
     },
     "execution_count": 2,
     "metadata": {},
     "output_type": "execute_result"
    }
   ],
   "source": [
    "df = pd.read_csv(\"/kaggle/input/lungsound-attention-data/patient_diagnosis.csv\")\n",
    "df.head()"
   ]
  },
  {
   "cell_type": "code",
   "execution_count": 3,
   "metadata": {
    "execution": {
     "iopub.execute_input": "2023-09-17T11:54:23.765564Z",
     "iopub.status.busy": "2023-09-17T11:54:23.765299Z",
     "iopub.status.idle": "2023-09-17T11:54:23.776514Z",
     "shell.execute_reply": "2023-09-17T11:54:23.775348Z",
     "shell.execute_reply.started": "2023-09-17T11:54:23.765541Z"
    }
   },
   "outputs": [
    {
     "data": {
      "text/plain": [
       "array(['Healthy', 'Asthma', 'COPD', 'URTI', 'LRTI', 'Bronchiectasis',\n",
       "       'Pneumonia', 'Bronchiolitis'], dtype=object)"
      ]
     },
     "execution_count": 3,
     "metadata": {},
     "output_type": "execute_result"
    }
   ],
   "source": [
    "df['URTI'].unique()"
   ]
  },
  {
   "cell_type": "code",
   "execution_count": 4,
   "metadata": {
    "execution": {
     "iopub.execute_input": "2023-09-17T11:54:23.779571Z",
     "iopub.status.busy": "2023-09-17T11:54:23.779224Z",
     "iopub.status.idle": "2023-09-17T11:54:23.786346Z",
     "shell.execute_reply": "2023-09-17T11:54:23.785312Z",
     "shell.execute_reply.started": "2023-09-17T11:54:23.779540Z"
    }
   },
   "outputs": [],
   "source": [
    "sr_no = {'101':'URTI'}\n",
    "for i, j in zip(df['101'].unique(), df['URTI']):\n",
    "    sr_no[str(i)] = j"
   ]
  },
  {
   "cell_type": "code",
   "execution_count": 5,
   "metadata": {
    "execution": {
     "iopub.execute_input": "2023-09-17T11:54:23.788178Z",
     "iopub.status.busy": "2023-09-17T11:54:23.787857Z",
     "iopub.status.idle": "2023-09-17T11:54:23.797031Z",
     "shell.execute_reply": "2023-09-17T11:54:23.795934Z",
     "shell.execute_reply.started": "2023-09-17T11:54:23.788148Z"
    }
   },
   "outputs": [
    {
     "data": {
      "text/plain": [
       "dict_keys(['101', '102', '103', '104', '105', '106', '107', '108', '109', '110', '111', '112', '113', '114', '115', '116', '117', '118', '119', '120', '121', '122', '123', '124', '125', '126', '127', '128', '129', '130', '131', '132', '133', '134', '135', '136', '137', '138', '139', '140', '141', '142', '143', '144', '145', '146', '147', '148', '149', '150', '151', '152', '153', '154', '155', '156', '157', '158', '159', '160', '161', '162', '163', '164', '165', '166', '167', '168', '169', '170', '171', '172', '173', '174', '175', '176', '177', '178', '179', '180', '181', '182', '183', '184', '185', '186', '187', '188', '189', '190', '191', '192', '193', '194', '195', '196', '197', '198', '199', '200', '201', '202', '203', '204', '205', '206', '207', '208', '209', '210', '211', '212', '213', '214', '215', '216', '217', '218', '219', '220', '221', '222', '223', '224', '225', '226'])"
      ]
     },
     "execution_count": 5,
     "metadata": {},
     "output_type": "execute_result"
    }
   ],
   "source": [
    "sr_no.keys()"
   ]
  },
  {
   "cell_type": "code",
   "execution_count": 6,
   "metadata": {
    "execution": {
     "iopub.execute_input": "2023-09-17T11:54:23.799247Z",
     "iopub.status.busy": "2023-09-17T11:54:23.798788Z",
     "iopub.status.idle": "2023-09-17T11:54:23.914585Z",
     "shell.execute_reply": "2023-09-17T11:54:23.913744Z",
     "shell.execute_reply.started": "2023-09-17T11:54:23.799218Z"
    }
   },
   "outputs": [],
   "source": [
    "import os\n",
    "sound_files = os.listdir('/kaggle/input/lungsound-attention-data/Mel Spectrogram/Mel Spectrogram/Original')"
   ]
  },
  {
   "cell_type": "code",
   "execution_count": 7,
   "metadata": {
    "execution": {
     "iopub.execute_input": "2023-09-17T11:54:23.916886Z",
     "iopub.status.busy": "2023-09-17T11:54:23.916242Z",
     "iopub.status.idle": "2023-09-17T11:54:23.921874Z",
     "shell.execute_reply": "2023-09-17T11:54:23.920852Z",
     "shell.execute_reply.started": "2023-09-17T11:54:23.916855Z"
    }
   },
   "outputs": [],
   "source": [
    "req_file_names = []\n",
    "\n",
    "for i in sound_files:\n",
    "      req_file_names.append([i])"
   ]
  },
  {
   "cell_type": "code",
   "execution_count": 8,
   "metadata": {
    "execution": {
     "iopub.execute_input": "2023-09-17T11:54:23.923576Z",
     "iopub.status.busy": "2023-09-17T11:54:23.923220Z",
     "iopub.status.idle": "2023-09-17T11:54:23.932694Z",
     "shell.execute_reply": "2023-09-17T11:54:23.931825Z",
     "shell.execute_reply.started": "2023-09-17T11:54:23.923545Z"
    }
   },
   "outputs": [],
   "source": [
    "labels = []\n",
    "for i in range(len(req_file_names)):\n",
    "    req_file_names[i].append(sr_no[req_file_names[i][0][:3]])\n",
    "    labels.append(sr_no[req_file_names[i][0][:3]])"
   ]
  },
  {
   "cell_type": "code",
   "execution_count": 9,
   "metadata": {
    "execution": {
     "iopub.execute_input": "2023-09-17T11:54:23.934540Z",
     "iopub.status.busy": "2023-09-17T11:54:23.934068Z",
     "iopub.status.idle": "2023-09-17T11:54:23.942131Z",
     "shell.execute_reply": "2023-09-17T11:54:23.941085Z",
     "shell.execute_reply.started": "2023-09-17T11:54:23.934509Z"
    }
   },
   "outputs": [],
   "source": [
    "labels *= 3"
   ]
  },
  {
   "cell_type": "code",
   "execution_count": 10,
   "metadata": {
    "execution": {
     "iopub.execute_input": "2023-09-17T11:54:23.946750Z",
     "iopub.status.busy": "2023-09-17T11:54:23.946358Z",
     "iopub.status.idle": "2023-09-17T11:55:14.280516Z",
     "shell.execute_reply": "2023-09-17T11:55:14.279482Z",
     "shell.execute_reply.started": "2023-09-17T11:54:23.946723Z"
    }
   },
   "outputs": [],
   "source": [
    "x = []\n",
    "\n",
    "for i in req_file_names:\n",
    "    img = cv2.imread('/kaggle/input/lungsound-attention-data/Mel Spectrogram/Mel Spectrogram/Time Stretch/'+i[0])\n",
    "    img = cv2.resize(img, (350, 350))\n",
    "    x.append(img)\n",
    "\n",
    "for i in req_file_names:\n",
    "    img = cv2.imread('/kaggle/input/lungsound-attention-data/Mel Spectrogram/Mel Spectrogram/Pitch Shift/'+i[0])\n",
    "    img = cv2.resize(img, (350, 350))\n",
    "    x.append(img)\n",
    "    \n",
    "for i in req_file_names:\n",
    "    img = cv2.imread('/kaggle/input/lungsound-attention-data/Mel Spectrogram/Mel Spectrogram/Audio Shift/'+i[0])\n",
    "    img = cv2.resize(img, (350, 350))\n",
    "    x.append(img)\n",
    "\n",
    "# x = np.array(x)\n",
    "# print(x.shape)"
   ]
  },
  {
   "cell_type": "code",
   "execution_count": 11,
   "metadata": {
    "execution": {
     "iopub.execute_input": "2023-09-17T11:55:14.282410Z",
     "iopub.status.busy": "2023-09-17T11:55:14.282041Z",
     "iopub.status.idle": "2023-09-17T11:55:14.289699Z",
     "shell.execute_reply": "2023-09-17T11:55:14.288630Z",
     "shell.execute_reply.started": "2023-09-17T11:55:14.282366Z"
    }
   },
   "outputs": [],
   "source": [
    "x_new = []\n",
    "y = []\n",
    "\n",
    "for i in range(len(labels)):\n",
    "    if labels[i]=='Asthma' or labels[i]=='Bronchiolitis':\n",
    "        continue\n",
    "    x_new.append(x[i])\n",
    "    y.append(labels[i])"
   ]
  },
  {
   "cell_type": "code",
   "execution_count": 12,
   "metadata": {
    "execution": {
     "iopub.execute_input": "2023-09-17T11:55:14.291870Z",
     "iopub.status.busy": "2023-09-17T11:55:14.291135Z",
     "iopub.status.idle": "2023-09-17T11:55:14.593169Z",
     "shell.execute_reply": "2023-09-17T11:55:14.592197Z",
     "shell.execute_reply.started": "2023-09-17T11:55:14.291831Z"
    }
   },
   "outputs": [
    {
     "name": "stdout",
     "output_type": "stream",
     "text": [
      "(2718, 350, 350, 3)\n"
     ]
    }
   ],
   "source": [
    "x = np.array(x_new)\n",
    "print(x.shape)"
   ]
  },
  {
   "cell_type": "code",
   "execution_count": 13,
   "metadata": {
    "execution": {
     "iopub.execute_input": "2023-09-17T11:55:14.595233Z",
     "iopub.status.busy": "2023-09-17T11:55:14.594648Z",
     "iopub.status.idle": "2023-09-17T11:55:14.600204Z",
     "shell.execute_reply": "2023-09-17T11:55:14.599237Z",
     "shell.execute_reply.started": "2023-09-17T11:55:14.595198Z"
    }
   },
   "outputs": [],
   "source": [
    "req_file_names *= 3"
   ]
  },
  {
   "cell_type": "code",
   "execution_count": 14,
   "metadata": {
    "execution": {
     "iopub.execute_input": "2023-09-17T11:55:14.602232Z",
     "iopub.status.busy": "2023-09-17T11:55:14.601638Z",
     "iopub.status.idle": "2023-09-17T11:55:14.613318Z",
     "shell.execute_reply": "2023-09-17T11:55:14.612353Z",
     "shell.execute_reply.started": "2023-09-17T11:55:14.602199Z"
    }
   },
   "outputs": [
    {
     "data": {
      "text/plain": [
       "(2718,)"
      ]
     },
     "execution_count": 14,
     "metadata": {},
     "output_type": "execute_result"
    }
   ],
   "source": [
    "y = np.array(y)\n",
    "y.shape"
   ]
  },
  {
   "cell_type": "code",
   "execution_count": 15,
   "metadata": {
    "execution": {
     "iopub.execute_input": "2023-09-17T11:55:14.615230Z",
     "iopub.status.busy": "2023-09-17T11:55:14.614912Z",
     "iopub.status.idle": "2023-09-17T11:55:14.625599Z",
     "shell.execute_reply": "2023-09-17T11:55:14.624611Z",
     "shell.execute_reply.started": "2023-09-17T11:55:14.615201Z"
    }
   },
   "outputs": [],
   "source": [
    "one_hot_y = np.array(pd.get_dummies(y))"
   ]
  },
  {
   "cell_type": "code",
   "execution_count": 16,
   "metadata": {
    "execution": {
     "iopub.execute_input": "2023-09-17T11:55:14.627303Z",
     "iopub.status.busy": "2023-09-17T11:55:14.626812Z",
     "iopub.status.idle": "2023-09-17T11:55:14.918538Z",
     "shell.execute_reply": "2023-09-17T11:55:14.917553Z",
     "shell.execute_reply.started": "2023-09-17T11:55:14.627272Z"
    }
   },
   "outputs": [
    {
     "name": "stdout",
     "output_type": "stream",
     "text": [
      "(2174, 350, 350, 3) (2174, 6) (544, 350, 350, 3)\n"
     ]
    }
   ],
   "source": [
    "x_train, x_test, y_train, y_test = train_test_split(x, one_hot_y, test_size=0.2, random_state=39, stratify=y)\n",
    "print(x_train.shape, y_train.shape, x_test.shape)"
   ]
  },
  {
   "cell_type": "code",
   "execution_count": 17,
   "metadata": {
    "execution": {
     "iopub.execute_input": "2023-09-17T11:55:14.920492Z",
     "iopub.status.busy": "2023-09-17T11:55:14.919935Z",
     "iopub.status.idle": "2023-09-17T11:55:22.071831Z",
     "shell.execute_reply": "2023-09-17T11:55:22.070812Z",
     "shell.execute_reply.started": "2023-09-17T11:55:14.920457Z"
    }
   },
   "outputs": [
    {
     "name": "stdout",
     "output_type": "stream",
     "text": [
      "Downloading data from https://storage.googleapis.com/keras-applications/efficientnetb0_notop.h5\n",
      "16705208/16705208 [==============================] - 2s 0us/step\n"
     ]
    }
   ],
   "source": [
    "enb0_wo_top = keras.applications.efficientnet.EfficientNetB0(include_top=False, weights='imagenet', input_shape=(350,350,3))"
   ]
  },
  {
   "cell_type": "code",
   "execution_count": 18,
   "metadata": {
    "execution": {
     "iopub.execute_input": "2023-09-17T11:55:22.078879Z",
     "iopub.status.busy": "2023-09-17T11:55:22.076559Z",
     "iopub.status.idle": "2023-09-17T11:55:23.019000Z",
     "shell.execute_reply": "2023-09-17T11:55:23.018072Z",
     "shell.execute_reply.started": "2023-09-17T11:55:22.078843Z"
    }
   },
   "outputs": [
    {
     "name": "stdout",
     "output_type": "stream",
     "text": [
      "Model: \"model\"\n",
      "__________________________________________________________________________________________________\n",
      " Layer (type)                   Output Shape         Param #     Connected to                     \n",
      "==================================================================================================\n",
      " input_2 (InputLayer)           [(None, 350, 350, 3  0           []                               \n",
      "                                )]                                                                \n",
      "                                                                                                  \n",
      " efficientnetb0 (Functional)    (None, 11, 11, 1280  4049571     ['input_2[0][0]']                \n",
      "                                )                                                                 \n",
      "                                                                                                  \n",
      " attention (Attention)          (None, 11, 11, 1280  0           ['efficientnetb0[0][0]',         \n",
      "                                )                                 'efficientnetb0[0][0]']         \n",
      "                                                                                                  \n",
      " flatten (Flatten)              (None, 154880)       0           ['attention[0][0]']              \n",
      "                                                                                                  \n",
      " dense (Dense)                  (None, 128)          19824768    ['flatten[0][0]']                \n",
      "                                                                                                  \n",
      " dropout (Dropout)              (None, 128)          0           ['dense[0][0]']                  \n",
      "                                                                                                  \n",
      " batch_normalization (BatchNorm  (None, 128)         512         ['dropout[0][0]']                \n",
      " alization)                                                                                       \n",
      "                                                                                                  \n",
      " dense_1 (Dense)                (None, 64)           8256        ['batch_normalization[0][0]']    \n",
      "                                                                                                  \n",
      " dense_2 (Dense)                (None, 6)            390         ['dense_1[0][0]']                \n",
      "                                                                                                  \n",
      "==================================================================================================\n",
      "Total params: 23,883,497\n",
      "Trainable params: 23,841,218\n",
      "Non-trainable params: 42,279\n",
      "__________________________________________________________________________________________________\n"
     ]
    }
   ],
   "source": [
    "input_enb0 = keras.layers.Input(shape=x_train.shape[1:])\n",
    "\n",
    "enb0_layer = enb0_wo_top(input_enb0)\n",
    "\n",
    "# random = np.random.random(enb0_layer.shape[1:])\n",
    "\n",
    "attention = keras.layers.Attention()([enb0_layer, enb0_layer])\n",
    "flatten = keras.layers.Flatten()(attention)\n",
    "\n",
    "dense1 = keras.layers.Dense(128, activation='relu')(flatten)\n",
    "do1 = keras.layers.Dropout(0.3)(dense1)\n",
    "bn1 = keras.layers.BatchNormalization()(do1)\n",
    "dense2 = keras.layers.Dense(64, activation='relu')(bn1)\n",
    "output = keras.layers.Dense(6, activation='softmax')(dense2)\n",
    "\n",
    "enb0_model = keras.Model(inputs=input_enb0, outputs=output)\n",
    "enb0_model.summary()"
   ]
  },
  {
   "cell_type": "code",
   "execution_count": 19,
   "metadata": {
    "execution": {
     "iopub.execute_input": "2023-09-17T11:55:23.021369Z",
     "iopub.status.busy": "2023-09-17T11:55:23.020662Z",
     "iopub.status.idle": "2023-09-17T11:55:23.046965Z",
     "shell.execute_reply": "2023-09-17T11:55:23.045931Z",
     "shell.execute_reply.started": "2023-09-17T11:55:23.021334Z"
    }
   },
   "outputs": [],
   "source": [
    "checkpoint_enb0 = keras.callbacks.ModelCheckpoint('/kaggle/working/ENB0_Model-{epoch:02d}.h5', save_best_only=True, initial_value_threshold=0.9980)\n",
    "\n",
    "enb0_model.compile(optimizer=keras.optimizers.Adam(3e-6), loss='categorical_crossentropy', metrics=['accuracy'])"
   ]
  },
  {
   "cell_type": "code",
   "execution_count": 20,
   "metadata": {
    "execution": {
     "iopub.execute_input": "2023-09-17T11:55:23.048975Z",
     "iopub.status.busy": "2023-09-17T11:55:23.048633Z",
     "iopub.status.idle": "2023-09-17T12:55:02.406148Z",
     "shell.execute_reply": "2023-09-17T12:55:02.405124Z",
     "shell.execute_reply.started": "2023-09-17T11:55:23.048944Z"
    }
   },
   "outputs": [
    {
     "name": "stdout",
     "output_type": "stream",
     "text": [
      "Epoch 1/100\n"
     ]
    },
    {
     "name": "stderr",
     "output_type": "stream",
     "text": [
      "2023-09-17 11:55:41.128693: E tensorflow/core/grappler/optimizers/meta_optimizer.cc:954] layout failed: INVALID_ARGUMENT: Size of values 0 does not match size of permutation 4 @ fanin shape inmodel/efficientnetb0/block2b_drop/dropout/SelectV2-2-TransposeNHWCToNCHW-LayoutOptimizer\n"
     ]
    },
    {
     "name": "stdout",
     "output_type": "stream",
     "text": [
      "68/68 [==============================] - 88s 553ms/step - loss: 2.1627 - accuracy: 0.1251 - val_loss: 2.7548 - val_accuracy: 0.0184\n",
      "Epoch 2/100\n",
      "68/68 [==============================] - 36s 533ms/step - loss: 1.6858 - accuracy: 0.2801 - val_loss: 2.1301 - val_accuracy: 0.0331\n",
      "Epoch 3/100\n",
      "68/68 [==============================] - 35s 512ms/step - loss: 1.3208 - accuracy: 0.4558 - val_loss: 1.1873 - val_accuracy: 0.5882\n",
      "Epoch 4/100\n",
      "68/68 [==============================] - 35s 514ms/step - loss: 1.1044 - accuracy: 0.5833 - val_loss: 0.7610 - val_accuracy: 0.8125\n",
      "Epoch 5/100\n",
      "68/68 [==============================] - 36s 531ms/step - loss: 0.9512 - accuracy: 0.6707 - val_loss: 0.5808 - val_accuracy: 0.8750\n",
      "Epoch 6/100\n",
      "68/68 [==============================] - 35s 515ms/step - loss: 0.8776 - accuracy: 0.7024 - val_loss: 0.5038 - val_accuracy: 0.8842\n",
      "Epoch 7/100\n",
      "68/68 [==============================] - 36s 536ms/step - loss: 0.8109 - accuracy: 0.7378 - val_loss: 0.4475 - val_accuracy: 0.8971\n",
      "Epoch 8/100\n",
      "68/68 [==============================] - 35s 516ms/step - loss: 0.7491 - accuracy: 0.7751 - val_loss: 0.4192 - val_accuracy: 0.9062\n",
      "Epoch 9/100\n",
      "68/68 [==============================] - 35s 520ms/step - loss: 0.7016 - accuracy: 0.8077 - val_loss: 0.3917 - val_accuracy: 0.9081\n",
      "Epoch 10/100\n",
      "68/68 [==============================] - 35s 518ms/step - loss: 0.6513 - accuracy: 0.8335 - val_loss: 0.3754 - val_accuracy: 0.9118\n",
      "Epoch 11/100\n",
      "68/68 [==============================] - 35s 520ms/step - loss: 0.6233 - accuracy: 0.8372 - val_loss: 0.3624 - val_accuracy: 0.9118\n",
      "Epoch 12/100\n",
      "68/68 [==============================] - 35s 517ms/step - loss: 0.5971 - accuracy: 0.8450 - val_loss: 0.3444 - val_accuracy: 0.9191\n",
      "Epoch 13/100\n",
      "68/68 [==============================] - 35s 515ms/step - loss: 0.5564 - accuracy: 0.8625 - val_loss: 0.3281 - val_accuracy: 0.9210\n",
      "Epoch 14/100\n",
      "68/68 [==============================] - 35s 516ms/step - loss: 0.5415 - accuracy: 0.8666 - val_loss: 0.3153 - val_accuracy: 0.9228\n",
      "Epoch 15/100\n",
      "68/68 [==============================] - 35s 511ms/step - loss: 0.5146 - accuracy: 0.8786 - val_loss: 0.2985 - val_accuracy: 0.9228\n",
      "Epoch 16/100\n",
      "68/68 [==============================] - 35s 518ms/step - loss: 0.5040 - accuracy: 0.8910 - val_loss: 0.2866 - val_accuracy: 0.9357\n",
      "Epoch 17/100\n",
      "68/68 [==============================] - 35s 515ms/step - loss: 0.4641 - accuracy: 0.9085 - val_loss: 0.2810 - val_accuracy: 0.9375\n",
      "Epoch 18/100\n",
      "68/68 [==============================] - 35s 513ms/step - loss: 0.4661 - accuracy: 0.9048 - val_loss: 0.2674 - val_accuracy: 0.9357\n",
      "Epoch 19/100\n",
      "68/68 [==============================] - 35s 514ms/step - loss: 0.4448 - accuracy: 0.9098 - val_loss: 0.2541 - val_accuracy: 0.9430\n",
      "Epoch 20/100\n",
      "68/68 [==============================] - 35s 512ms/step - loss: 0.4218 - accuracy: 0.9163 - val_loss: 0.2452 - val_accuracy: 0.9467\n",
      "Epoch 21/100\n",
      "68/68 [==============================] - 35s 515ms/step - loss: 0.4227 - accuracy: 0.9163 - val_loss: 0.2350 - val_accuracy: 0.9485\n",
      "Epoch 22/100\n",
      "68/68 [==============================] - 35s 515ms/step - loss: 0.4057 - accuracy: 0.9255 - val_loss: 0.2269 - val_accuracy: 0.9522\n",
      "Epoch 23/100\n",
      "68/68 [==============================] - 35s 514ms/step - loss: 0.3787 - accuracy: 0.9301 - val_loss: 0.2191 - val_accuracy: 0.9522\n",
      "Epoch 24/100\n",
      "68/68 [==============================] - 36s 534ms/step - loss: 0.3802 - accuracy: 0.9282 - val_loss: 0.2115 - val_accuracy: 0.9504\n",
      "Epoch 25/100\n",
      "68/68 [==============================] - 35s 513ms/step - loss: 0.3618 - accuracy: 0.9393 - val_loss: 0.2054 - val_accuracy: 0.9559\n",
      "Epoch 26/100\n",
      "68/68 [==============================] - 35s 516ms/step - loss: 0.3528 - accuracy: 0.9407 - val_loss: 0.1995 - val_accuracy: 0.9577\n",
      "Epoch 27/100\n",
      "68/68 [==============================] - 35s 514ms/step - loss: 0.3486 - accuracy: 0.9466 - val_loss: 0.1958 - val_accuracy: 0.9596\n",
      "Epoch 28/100\n",
      "68/68 [==============================] - 35s 516ms/step - loss: 0.3374 - accuracy: 0.9425 - val_loss: 0.1895 - val_accuracy: 0.9651\n",
      "Epoch 29/100\n",
      "68/68 [==============================] - 35s 517ms/step - loss: 0.3245 - accuracy: 0.9503 - val_loss: 0.1843 - val_accuracy: 0.9651\n",
      "Epoch 30/100\n",
      "68/68 [==============================] - 35s 514ms/step - loss: 0.3065 - accuracy: 0.9558 - val_loss: 0.1800 - val_accuracy: 0.9706\n",
      "Epoch 31/100\n",
      "68/68 [==============================] - 35s 516ms/step - loss: 0.3152 - accuracy: 0.9499 - val_loss: 0.1714 - val_accuracy: 0.9669\n",
      "Epoch 32/100\n",
      "68/68 [==============================] - 35s 516ms/step - loss: 0.3007 - accuracy: 0.9604 - val_loss: 0.1657 - val_accuracy: 0.9688\n",
      "Epoch 33/100\n",
      "68/68 [==============================] - 35s 517ms/step - loss: 0.2984 - accuracy: 0.9545 - val_loss: 0.1587 - val_accuracy: 0.9688\n",
      "Epoch 34/100\n",
      "68/68 [==============================] - 36s 533ms/step - loss: 0.2785 - accuracy: 0.9604 - val_loss: 0.1552 - val_accuracy: 0.9706\n",
      "Epoch 35/100\n",
      "68/68 [==============================] - 35s 519ms/step - loss: 0.2632 - accuracy: 0.9664 - val_loss: 0.1556 - val_accuracy: 0.9688\n",
      "Epoch 36/100\n",
      "68/68 [==============================] - 35s 516ms/step - loss: 0.2744 - accuracy: 0.9641 - val_loss: 0.1474 - val_accuracy: 0.9669\n",
      "Epoch 37/100\n",
      "68/68 [==============================] - 34s 506ms/step - loss: 0.2517 - accuracy: 0.9747 - val_loss: 0.1447 - val_accuracy: 0.9688\n",
      "Epoch 38/100\n",
      "68/68 [==============================] - 34s 505ms/step - loss: 0.2556 - accuracy: 0.9673 - val_loss: 0.1399 - val_accuracy: 0.9669\n",
      "Epoch 39/100\n",
      "68/68 [==============================] - 34s 505ms/step - loss: 0.2526 - accuracy: 0.9687 - val_loss: 0.1327 - val_accuracy: 0.9761\n",
      "Epoch 40/100\n",
      "68/68 [==============================] - 36s 533ms/step - loss: 0.2291 - accuracy: 0.9756 - val_loss: 0.1316 - val_accuracy: 0.9779\n",
      "Epoch 41/100\n",
      "68/68 [==============================] - 35s 517ms/step - loss: 0.2417 - accuracy: 0.9687 - val_loss: 0.1271 - val_accuracy: 0.9835\n",
      "Epoch 42/100\n",
      "68/68 [==============================] - 35s 516ms/step - loss: 0.2304 - accuracy: 0.9761 - val_loss: 0.1254 - val_accuracy: 0.9798\n",
      "Epoch 43/100\n",
      "68/68 [==============================] - 34s 507ms/step - loss: 0.2260 - accuracy: 0.9696 - val_loss: 0.1180 - val_accuracy: 0.9835\n",
      "Epoch 44/100\n",
      "68/68 [==============================] - 35s 510ms/step - loss: 0.2103 - accuracy: 0.9793 - val_loss: 0.1175 - val_accuracy: 0.9816\n",
      "Epoch 45/100\n",
      "68/68 [==============================] - 36s 536ms/step - loss: 0.2081 - accuracy: 0.9811 - val_loss: 0.1127 - val_accuracy: 0.9871\n",
      "Epoch 46/100\n",
      "68/68 [==============================] - 35s 512ms/step - loss: 0.2048 - accuracy: 0.9761 - val_loss: 0.1081 - val_accuracy: 0.9890\n",
      "Epoch 47/100\n",
      "68/68 [==============================] - 35s 520ms/step - loss: 0.1975 - accuracy: 0.9784 - val_loss: 0.1079 - val_accuracy: 0.9890\n",
      "Epoch 48/100\n",
      "68/68 [==============================] - 35s 515ms/step - loss: 0.1857 - accuracy: 0.9848 - val_loss: 0.1047 - val_accuracy: 0.9853\n",
      "Epoch 49/100\n",
      "68/68 [==============================] - 35s 516ms/step - loss: 0.1868 - accuracy: 0.9798 - val_loss: 0.1032 - val_accuracy: 0.9853\n",
      "Epoch 50/100\n",
      "68/68 [==============================] - 35s 518ms/step - loss: 0.1749 - accuracy: 0.9853 - val_loss: 0.0993 - val_accuracy: 0.9871\n",
      "Epoch 51/100\n",
      "68/68 [==============================] - 34s 507ms/step - loss: 0.1761 - accuracy: 0.9857 - val_loss: 0.0983 - val_accuracy: 0.9871\n",
      "Epoch 52/100\n",
      "68/68 [==============================] - 35s 510ms/step - loss: 0.1767 - accuracy: 0.9839 - val_loss: 0.0939 - val_accuracy: 0.9816\n",
      "Epoch 53/100\n",
      "68/68 [==============================] - 36s 534ms/step - loss: 0.1708 - accuracy: 0.9834 - val_loss: 0.0919 - val_accuracy: 0.9853\n",
      "Epoch 54/100\n",
      "68/68 [==============================] - 35s 508ms/step - loss: 0.1711 - accuracy: 0.9811 - val_loss: 0.0898 - val_accuracy: 0.9853\n",
      "Epoch 55/100\n",
      "68/68 [==============================] - 35s 514ms/step - loss: 0.1601 - accuracy: 0.9871 - val_loss: 0.0889 - val_accuracy: 0.9871\n",
      "Epoch 56/100\n",
      "68/68 [==============================] - 35s 511ms/step - loss: 0.1547 - accuracy: 0.9876 - val_loss: 0.0885 - val_accuracy: 0.9835\n",
      "Epoch 57/100\n",
      "68/68 [==============================] - 36s 534ms/step - loss: 0.1581 - accuracy: 0.9848 - val_loss: 0.0848 - val_accuracy: 0.9871\n",
      "Epoch 58/100\n",
      "68/68 [==============================] - 35s 515ms/step - loss: 0.1501 - accuracy: 0.9862 - val_loss: 0.0824 - val_accuracy: 0.9908\n",
      "Epoch 59/100\n",
      "68/68 [==============================] - 35s 514ms/step - loss: 0.1453 - accuracy: 0.9908 - val_loss: 0.0816 - val_accuracy: 0.9853\n",
      "Epoch 60/100\n",
      "68/68 [==============================] - 35s 517ms/step - loss: 0.1376 - accuracy: 0.9876 - val_loss: 0.0806 - val_accuracy: 0.9853\n",
      "Epoch 61/100\n",
      "68/68 [==============================] - 35s 518ms/step - loss: 0.1396 - accuracy: 0.9899 - val_loss: 0.0768 - val_accuracy: 0.9871\n",
      "Epoch 62/100\n",
      "68/68 [==============================] - 36s 534ms/step - loss: 0.1367 - accuracy: 0.9908 - val_loss: 0.0741 - val_accuracy: 0.9890\n",
      "Epoch 63/100\n",
      "68/68 [==============================] - 35s 520ms/step - loss: 0.1300 - accuracy: 0.9908 - val_loss: 0.0737 - val_accuracy: 0.9871\n",
      "Epoch 64/100\n",
      "68/68 [==============================] - 35s 522ms/step - loss: 0.1280 - accuracy: 0.9922 - val_loss: 0.0708 - val_accuracy: 0.9890\n",
      "Epoch 65/100\n",
      "68/68 [==============================] - 35s 518ms/step - loss: 0.1339 - accuracy: 0.9876 - val_loss: 0.0662 - val_accuracy: 0.9908\n",
      "Epoch 66/100\n",
      "68/68 [==============================] - 35s 513ms/step - loss: 0.1277 - accuracy: 0.9890 - val_loss: 0.0666 - val_accuracy: 0.9908\n",
      "Epoch 67/100\n",
      "68/68 [==============================] - 36s 534ms/step - loss: 0.1139 - accuracy: 0.9936 - val_loss: 0.0661 - val_accuracy: 0.9908\n",
      "Epoch 68/100\n",
      "68/68 [==============================] - 36s 529ms/step - loss: 0.1151 - accuracy: 0.9954 - val_loss: 0.0649 - val_accuracy: 0.9908\n",
      "Epoch 69/100\n",
      "68/68 [==============================] - 35s 508ms/step - loss: 0.1098 - accuracy: 0.9903 - val_loss: 0.0642 - val_accuracy: 0.9926\n",
      "Epoch 70/100\n",
      "68/68 [==============================] - 35s 512ms/step - loss: 0.1131 - accuracy: 0.9917 - val_loss: 0.0633 - val_accuracy: 0.9926\n",
      "Epoch 71/100\n",
      "68/68 [==============================] - 36s 537ms/step - loss: 0.1103 - accuracy: 0.9917 - val_loss: 0.0621 - val_accuracy: 0.9945\n",
      "Epoch 72/100\n",
      "68/68 [==============================] - 35s 515ms/step - loss: 0.1054 - accuracy: 0.9931 - val_loss: 0.0600 - val_accuracy: 0.9890\n",
      "Epoch 73/100\n",
      "68/68 [==============================] - 36s 533ms/step - loss: 0.1040 - accuracy: 0.9922 - val_loss: 0.0571 - val_accuracy: 0.9908\n",
      "Epoch 74/100\n",
      "68/68 [==============================] - 35s 513ms/step - loss: 0.1017 - accuracy: 0.9940 - val_loss: 0.0545 - val_accuracy: 0.9963\n",
      "Epoch 75/100\n",
      "68/68 [==============================] - 35s 519ms/step - loss: 0.0941 - accuracy: 0.9949 - val_loss: 0.0543 - val_accuracy: 0.9963\n",
      "Epoch 76/100\n",
      "68/68 [==============================] - 34s 508ms/step - loss: 0.0994 - accuracy: 0.9940 - val_loss: 0.0543 - val_accuracy: 0.9963\n",
      "Epoch 77/100\n",
      "68/68 [==============================] - 35s 516ms/step - loss: 0.0956 - accuracy: 0.9922 - val_loss: 0.0516 - val_accuracy: 0.9945\n",
      "Epoch 78/100\n",
      "68/68 [==============================] - 35s 515ms/step - loss: 0.0892 - accuracy: 0.9945 - val_loss: 0.0525 - val_accuracy: 0.9945\n",
      "Epoch 79/100\n",
      "68/68 [==============================] - 35s 515ms/step - loss: 0.0901 - accuracy: 0.9959 - val_loss: 0.0504 - val_accuracy: 0.9945\n",
      "Epoch 80/100\n",
      "68/68 [==============================] - 35s 515ms/step - loss: 0.0905 - accuracy: 0.9917 - val_loss: 0.0483 - val_accuracy: 0.9963\n",
      "Epoch 81/100\n",
      "68/68 [==============================] - 36s 533ms/step - loss: 0.0893 - accuracy: 0.9922 - val_loss: 0.0484 - val_accuracy: 0.9963\n",
      "Epoch 82/100\n",
      "68/68 [==============================] - 35s 512ms/step - loss: 0.0828 - accuracy: 0.9972 - val_loss: 0.0450 - val_accuracy: 0.9945\n",
      "Epoch 83/100\n",
      "68/68 [==============================] - 35s 516ms/step - loss: 0.0820 - accuracy: 0.9959 - val_loss: 0.0458 - val_accuracy: 0.9945\n",
      "Epoch 84/100\n",
      "68/68 [==============================] - 35s 509ms/step - loss: 0.0834 - accuracy: 0.9936 - val_loss: 0.0444 - val_accuracy: 0.9945\n",
      "Epoch 85/100\n",
      "68/68 [==============================] - 35s 508ms/step - loss: 0.0787 - accuracy: 0.9963 - val_loss: 0.0422 - val_accuracy: 0.9963\n",
      "Epoch 86/100\n",
      "68/68 [==============================] - 35s 512ms/step - loss: 0.0814 - accuracy: 0.9959 - val_loss: 0.0420 - val_accuracy: 0.9926\n",
      "Epoch 87/100\n",
      "68/68 [==============================] - 34s 505ms/step - loss: 0.0748 - accuracy: 0.9972 - val_loss: 0.0431 - val_accuracy: 0.9926\n",
      "Epoch 88/100\n",
      "68/68 [==============================] - 36s 536ms/step - loss: 0.0723 - accuracy: 0.9959 - val_loss: 0.0412 - val_accuracy: 0.9963\n",
      "Epoch 89/100\n",
      "68/68 [==============================] - 35s 514ms/step - loss: 0.0738 - accuracy: 0.9945 - val_loss: 0.0400 - val_accuracy: 0.9945\n",
      "Epoch 90/100\n",
      "68/68 [==============================] - 36s 534ms/step - loss: 0.0715 - accuracy: 0.9954 - val_loss: 0.0398 - val_accuracy: 0.9908\n",
      "Epoch 91/100\n",
      "68/68 [==============================] - 36s 533ms/step - loss: 0.0768 - accuracy: 0.9949 - val_loss: 0.0390 - val_accuracy: 0.9963\n",
      "Epoch 92/100\n",
      "68/68 [==============================] - 35s 516ms/step - loss: 0.0719 - accuracy: 0.9945 - val_loss: 0.0382 - val_accuracy: 0.9963\n",
      "Epoch 93/100\n",
      "68/68 [==============================] - 36s 535ms/step - loss: 0.0615 - accuracy: 0.9977 - val_loss: 0.0390 - val_accuracy: 0.9963\n",
      "Epoch 94/100\n",
      "68/68 [==============================] - 35s 518ms/step - loss: 0.0633 - accuracy: 0.9977 - val_loss: 0.0390 - val_accuracy: 0.9963\n",
      "Epoch 95/100\n",
      "68/68 [==============================] - 35s 516ms/step - loss: 0.0659 - accuracy: 0.9977 - val_loss: 0.0364 - val_accuracy: 0.9963\n",
      "Epoch 96/100\n",
      "68/68 [==============================] - 36s 534ms/step - loss: 0.0644 - accuracy: 0.9954 - val_loss: 0.0357 - val_accuracy: 0.9963\n",
      "Epoch 97/100\n",
      "68/68 [==============================] - 35s 515ms/step - loss: 0.0588 - accuracy: 0.9977 - val_loss: 0.0337 - val_accuracy: 0.9982\n",
      "Epoch 98/100\n",
      "68/68 [==============================] - 37s 538ms/step - loss: 0.0577 - accuracy: 0.9963 - val_loss: 0.0334 - val_accuracy: 0.9982\n",
      "Epoch 99/100\n",
      "68/68 [==============================] - 36s 535ms/step - loss: 0.0594 - accuracy: 0.9977 - val_loss: 0.0332 - val_accuracy: 0.9963\n",
      "Epoch 100/100\n",
      "68/68 [==============================] - 35s 516ms/step - loss: 0.0555 - accuracy: 0.9972 - val_loss: 0.0315 - val_accuracy: 0.9982\n"
     ]
    }
   ],
   "source": [
    "history_enb0 = enb0_model.fit(x_train, y_train, batch_size=32, epochs=100, validation_data=(x_test, y_test))"
   ]
  },
  {
   "cell_type": "code",
   "execution_count": 21,
   "metadata": {
    "execution": {
     "iopub.execute_input": "2023-09-17T12:55:02.413594Z",
     "iopub.status.busy": "2023-09-17T12:55:02.413280Z",
     "iopub.status.idle": "2023-09-17T12:55:02.424332Z",
     "shell.execute_reply": "2023-09-17T12:55:02.423164Z",
     "shell.execute_reply.started": "2023-09-17T12:55:02.413568Z"
    }
   },
   "outputs": [],
   "source": [
    "df = pd.DataFrame(history_enb0.history)\n",
    "df.to_csv('/kaggle/working/ENB0_history.csv')"
   ]
  },
  {
   "cell_type": "code",
   "execution_count": 22,
   "metadata": {
    "execution": {
     "iopub.execute_input": "2023-09-17T12:55:02.426681Z",
     "iopub.status.busy": "2023-09-17T12:55:02.426298Z",
     "iopub.status.idle": "2023-09-17T12:55:03.031895Z",
     "shell.execute_reply": "2023-09-17T12:55:03.030905Z",
     "shell.execute_reply.started": "2023-09-17T12:55:02.426648Z"
    }
   },
   "outputs": [
    {
     "data": {
      "image/png": "[encoded data removed]",
      "text/plain": [
       "<Figure size 800x500 with 1 Axes>"
      ]
     },
     "metadata": {},
     "output_type": "display_data"
    }
   ],
   "source": [
    "pd.DataFrame(history_enb0.history).plot(figsize = (8, 5))\n",
    "plt.grid(True)\n",
    "plt.gca().set_ylim(-0.1, 1.1)\n",
    "plt.savefig(\"/kaggle/working/ENB0_Attention_Graph.png\")\n",
    "plt.show()"
   ]
  },
  {
   "cell_type": "code",
   "execution_count": 24,
   "metadata": {
    "execution": {
     "iopub.execute_input": "2023-09-17T13:01:50.251877Z",
     "iopub.status.busy": "2023-09-17T13:01:50.251489Z",
     "iopub.status.idle": "2023-09-17T13:01:53.253503Z",
     "shell.execute_reply": "2023-09-17T13:01:53.252514Z",
     "shell.execute_reply.started": "2023-09-17T13:01:50.251849Z"
    }
   },
   "outputs": [
    {
     "name": "stdout",
     "output_type": "stream",
     "text": [
      "17/17 [==============================] - 1s 80ms/step\n",
      "[[ 10   0   0   0   0   0]\n",
      " [  0 475   0   0   1   0]\n",
      " [  0   0  21   0   0   0]\n",
      " [  0   0   0   1   0   0]\n",
      " [  0   0   0   0  22   0]\n",
      " [  0   0   0   0   0  14]]\n"
     ]
    },
    {
     "data": {
      "text/plain": [
       "(0.9981617647058824,\n",
       " 0.9982416879795397,\n",
       " 0.9981617647058824,\n",
       " 0.9981812230675655)"
      ]
     },
     "execution_count": 24,
     "metadata": {},
     "output_type": "execute_result"
    }
   ],
   "source": [
    "y_pred = enb0_model.predict(x_test)\n",
    "\n",
    "pred = []\n",
    "for i in y_pred:\n",
    "    pred.append(np.argmax(i))\n",
    "pred = np.array(pred)\n",
    "\n",
    "real = []\n",
    "for i in y_test:\n",
    "    real.append(np.argmax(i))\n",
    "real = np.array(real)\n",
    "    \n",
    "print(confusion_matrix(real, pred))\n",
    "accuracy_score(real, pred), precision_score(real, pred, average='weighted'), recall_score(real, pred, average='weighted'), f1_score(real, pred, average='weighted')"
   ]
  },
  {
   "cell_type": "code",
   "execution_count": null,
   "metadata": {},
   "outputs": [],
   "source": []
  }
 ],
 "metadata": {
  "kernelspec": {
   "display_name": "Python 3 (ipykernel)",
   "language": "python",
   "name": "python3"
  },
  "language_info": {
   "codemirror_mode": {
    "name": "ipython",
    "version": 3
   },
   "file_extension": ".py",
   "mimetype": "text/x-python",
   "name": "python",
   "nbconvert_exporter": "python",
   "pygments_lexer": "ipython3",
   "version": "3.9.7"
  }
 },
 "nbformat": 4,
 "nbformat_minor": 4
}
