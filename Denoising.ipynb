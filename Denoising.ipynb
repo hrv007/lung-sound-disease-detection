{
 "cells": [
  {
   "cell_type": "code",
   "execution_count": 3,
   "id": "dd9b871a",
   "metadata": {},
   "outputs": [],
   "source": [
    "import numpy as np\n",
    "import pandas as pd\n",
    "import tensorflow as tf\n",
    "import matplotlib.pyplot as plt\n",
    "from tensorflow import keras\n",
    "import librosa\n",
    "import soundfile as sf\n",
    "from scipy.signal import resample\n",
    "import os"
   ]
  },
  {
   "cell_type": "code",
   "execution_count": 5,
   "id": "9a7a66f3",
   "metadata": {},
   "outputs": [],
   "source": [
    "x_train = os.listdir('Autoencoder data/train')"
   ]
  },
  {
   "cell_type": "code",
   "execution_count": 7,
   "id": "a2e21904",
   "metadata": {},
   "outputs": [],
   "source": [
    "x_test = os.listdir('Autoencoder data/test')"
   ]
  },
  {
   "cell_type": "code",
   "execution_count": 9,
   "id": "2967bc0b",
   "metadata": {},
   "outputs": [],
   "source": [
    "y_train = os.listdir('Autoencoder data/y_train')"
   ]
  },
  {
   "cell_type": "code",
   "execution_count": 10,
   "id": "a276be8d",
   "metadata": {},
   "outputs": [],
   "source": [
    "y_test = os.listdir('Autoencoder data/y_test')"
   ]
  },
  {
   "cell_type": "raw",
   "id": "c4036ddb",
   "metadata": {
    "scrolled": true
   },
   "source": [
    "for i in x_train:\n",
    "    print(i)\n",
    "    data, sr = librosa.load('Autoencoder data/train/'+i)\n",
    "    \n",
    "    r_data = resample(data, 441000)\n",
    "    \n",
    "    sf.write('Autoencoder data/train/'+i, r_data, sr)"
   ]
  },
  {
   "cell_type": "raw",
   "id": "78fabdc8",
   "metadata": {
    "scrolled": true
   },
   "source": [
    "for i in x_test:\n",
    "    print(i)\n",
    "    data, sr = librosa.load('Autoencoder data/test/'+i)\n",
    "    \n",
    "    r_data = resample(data, 441000)\n",
    "    \n",
    "    sf.write('Autoencoder data/test/'+i, r_data, sr)"
   ]
  },
  {
   "cell_type": "raw",
   "id": "062873ba",
   "metadata": {},
   "source": [
    "for i in y_train:\n",
    "    print(i)\n",
    "    data, sr = librosa.load('Autoencoder data/y_train/'+i)\n",
    "    \n",
    "    r_data = resample(data, 441000)\n",
    "    \n",
    "    sf.write('Autoencoder data/y_train/'+i, r_data, sr)"
   ]
  },
  {
   "cell_type": "raw",
   "id": "f522557c",
   "metadata": {
    "scrolled": true
   },
   "source": [
    "for i in y_test:\n",
    "    print(i)\n",
    "    data, sr = librosa.load('Autoencoder data/y_test/'+i)\n",
    "    \n",
    "    r_data = resample(data, 441000)\n",
    "    \n",
    "    sf.write('Autoencoder data/y_test/'+i, r_data, sr)"
   ]
  },
  {
   "cell_type": "code",
   "execution_count": 11,
   "id": "ddaf9e59",
   "metadata": {},
   "outputs": [
    {
     "data": {
      "text/plain": [
       "(7000, 7000)"
      ]
     },
     "execution_count": 11,
     "metadata": {},
     "output_type": "execute_result"
    }
   ],
   "source": [
    "len(x_train), len(y_train)"
   ]
  },
  {
   "cell_type": "code",
   "execution_count": null,
   "id": "16ca2145",
   "metadata": {},
   "outputs": [],
   "source": [
    "x = []\n",
    "y = []\n",
    "\n",
    "for i in range(5000):\n",
    "    \n",
    "    audio = librosa.load('Autoencoder data/train/'+x_train[i])\n",
    "    x.append(audio)\n",
    "    \n",
    "    denoised_audio = librosa.load('Autoencoder data/y_train/'+y_train[i])\n",
    "    y.append(denoised_audio)"
   ]
  },
  {
   "cell_type": "code",
   "execution_count": null,
   "id": "664ad7b2",
   "metadata": {},
   "outputs": [],
   "source": [
    "model = keras.Sequential()\n",
    "model.add(keras.layers.Dense())\n",
    "model.add(keras.layers.Dense())\n",
    "model.add(keras.layers.Dense())\n",
    "model.add(keras.layers.Dense())\n",
    "\n",
    "\n",
    "model.add(keras.layers.Dense())\n",
    "model.add(keras.layers.Dense())\n",
    "model.add(keras.layers.Dense())\n",
    "model.add(keras.layers.Dense())"
   ]
  }
 ],
 "metadata": {
  "kernelspec": {
   "display_name": "Python 3 (ipykernel)",
   "language": "python",
   "name": "python3"
  },
  "language_info": {
   "codemirror_mode": {
    "name": "ipython",
    "version": 3
   },
   "file_extension": ".py",
   "mimetype": "text/x-python",
   "name": "python",
   "nbconvert_exporter": "python",
   "pygments_lexer": "ipython3",
   "version": "3.9.7"
  }
 },
 "nbformat": 4,
 "nbformat_minor": 5
}
