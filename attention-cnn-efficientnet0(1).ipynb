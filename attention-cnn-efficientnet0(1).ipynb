{
 "cells": [
  {
   "cell_type": "code",
   "execution_count": 1,
   "metadata": {
    "execution": {
     "iopub.execute_input": "2023-08-17T22:20:26.595310Z",
     "iopub.status.busy": "2023-08-17T22:20:26.594919Z",
     "iopub.status.idle": "2023-08-17T22:20:35.319339Z",
     "shell.execute_reply": "2023-08-17T22:20:35.318236Z",
     "shell.execute_reply.started": "2023-08-17T22:20:26.595272Z"
    }
   },
   "outputs": [],
   "source": [
    "import numpy as np\n",
    "import pandas as pd\n",
    "import tensorflow as tf\n",
    "from tensorflow import keras\n",
    "import matplotlib.pyplot as plt\n",
    "from sklearn.model_selection import train_test_split\n",
    "import cv2\n",
    "from sklearn.metrics import accuracy_score, precision_score, recall_score, f1_score, confusion_matrix"
   ]
  },
  {
   "cell_type": "code",
   "execution_count": 2,
   "metadata": {
    "execution": {
     "iopub.execute_input": "2023-08-17T22:20:35.322026Z",
     "iopub.status.busy": "2023-08-17T22:20:35.321331Z",
     "iopub.status.idle": "2023-08-17T22:20:35.349137Z",
     "shell.execute_reply": "2023-08-17T22:20:35.348252Z",
     "shell.execute_reply.started": "2023-08-17T22:20:35.321989Z"
    }
   },
   "outputs": [
    {
     "data": {
      "text/html": [
       "<div>\n",
       "<style scoped>\n",
       "    .dataframe tbody tr th:only-of-type {\n",
       "        vertical-align: middle;\n",
       "    }\n",
       "\n",
       "    .dataframe tbody tr th {\n",
       "        vertical-align: top;\n",
       "    }\n",
       "\n",
       "    .dataframe thead th {\n",
       "        text-align: right;\n",
       "    }\n",
       "</style>\n",
       "<table border=\"1\" class=\"dataframe\">\n",
       "  <thead>\n",
       "    <tr style=\"text-align: right;\">\n",
       "      <th></th>\n",
       "      <th>101</th>\n",
       "      <th>URTI</th>\n",
       "    </tr>\n",
       "  </thead>\n",
       "  <tbody>\n",
       "    <tr>\n",
       "      <th>0</th>\n",
       "      <td>102</td>\n",
       "      <td>Healthy</td>\n",
       "    </tr>\n",
       "    <tr>\n",
       "      <th>1</th>\n",
       "      <td>103</td>\n",
       "      <td>Asthma</td>\n",
       "    </tr>\n",
       "    <tr>\n",
       "      <th>2</th>\n",
       "      <td>104</td>\n",
       "      <td>COPD</td>\n",
       "    </tr>\n",
       "    <tr>\n",
       "      <th>3</th>\n",
       "      <td>105</td>\n",
       "      <td>URTI</td>\n",
       "    </tr>\n",
       "    <tr>\n",
       "      <th>4</th>\n",
       "      <td>106</td>\n",
       "      <td>COPD</td>\n",
       "    </tr>\n",
       "  </tbody>\n",
       "</table>\n",
       "</div>"
      ],
      "text/plain": [
       "   101     URTI\n",
       "0  102  Healthy\n",
       "1  103   Asthma\n",
       "2  104     COPD\n",
       "3  105     URTI\n",
       "4  106     COPD"
      ]
     },
     "execution_count": 2,
     "metadata": {},
     "output_type": "execute_result"
    }
   ],
   "source": [
    "df = pd.read_csv(\"ICBHI 2017/Respiratory_Sound_Database/Respiratory_Sound_Database/patient_diagnosis.csv\")\n",
    "df.head()"
   ]
  },
  {
   "cell_type": "code",
   "execution_count": 3,
   "metadata": {
    "execution": {
     "iopub.execute_input": "2023-08-17T22:20:35.350942Z",
     "iopub.status.busy": "2023-08-17T22:20:35.350595Z",
     "iopub.status.idle": "2023-08-17T22:20:35.364213Z",
     "shell.execute_reply": "2023-08-17T22:20:35.363305Z",
     "shell.execute_reply.started": "2023-08-17T22:20:35.350909Z"
    }
   },
   "outputs": [
    {
     "data": {
      "text/plain": [
       "array(['Healthy', 'Asthma', 'COPD', 'URTI', 'LRTI', 'Bronchiectasis',\n",
       "       'Pneumonia', 'Bronchiolitis'], dtype=object)"
      ]
     },
     "execution_count": 3,
     "metadata": {},
     "output_type": "execute_result"
    }
   ],
   "source": [
    "df['URTI'].unique()"
   ]
  },
  {
   "cell_type": "code",
   "execution_count": 4,
   "metadata": {
    "execution": {
     "iopub.execute_input": "2023-08-17T22:20:35.368715Z",
     "iopub.status.busy": "2023-08-17T22:20:35.368457Z",
     "iopub.status.idle": "2023-08-17T22:20:35.373735Z",
     "shell.execute_reply": "2023-08-17T22:20:35.372789Z",
     "shell.execute_reply.started": "2023-08-17T22:20:35.368692Z"
    }
   },
   "outputs": [],
   "source": [
    "sr_no = {'101':'URTI'}\n",
    "for i, j in zip(df['101'].unique(), df['URTI']):\n",
    "    sr_no[str(i)] = j"
   ]
  },
  {
   "cell_type": "code",
   "execution_count": 5,
   "metadata": {
    "execution": {
     "iopub.execute_input": "2023-08-17T22:20:35.376113Z",
     "iopub.status.busy": "2023-08-17T22:20:35.375367Z",
     "iopub.status.idle": "2023-08-17T22:20:35.387817Z",
     "shell.execute_reply": "2023-08-17T22:20:35.386962Z",
     "shell.execute_reply.started": "2023-08-17T22:20:35.376075Z"
    }
   },
   "outputs": [
    {
     "data": {
      "text/plain": [
       "dict_keys(['101', '102', '103', '104', '105', '106', '107', '108', '109', '110', '111', '112', '113', '114', '115', '116', '117', '118', '119', '120', '121', '122', '123', '124', '125', '126', '127', '128', '129', '130', '131', '132', '133', '134', '135', '136', '137', '138', '139', '140', '141', '142', '143', '144', '145', '146', '147', '148', '149', '150', '151', '152', '153', '154', '155', '156', '157', '158', '159', '160', '161', '162', '163', '164', '165', '166', '167', '168', '169', '170', '171', '172', '173', '174', '175', '176', '177', '178', '179', '180', '181', '182', '183', '184', '185', '186', '187', '188', '189', '190', '191', '192', '193', '194', '195', '196', '197', '198', '199', '200', '201', '202', '203', '204', '205', '206', '207', '208', '209', '210', '211', '212', '213', '214', '215', '216', '217', '218', '219', '220', '221', '222', '223', '224', '225', '226'])"
      ]
     },
     "execution_count": 5,
     "metadata": {},
     "output_type": "execute_result"
    }
   ],
   "source": [
    "sr_no.keys()"
   ]
  },
  {
   "cell_type": "code",
   "execution_count": 6,
   "metadata": {
    "execution": {
     "iopub.execute_input": "2023-08-17T22:20:35.389927Z",
     "iopub.status.busy": "2023-08-17T22:20:35.389605Z",
     "iopub.status.idle": "2023-08-17T22:20:35.477924Z",
     "shell.execute_reply": "2023-08-17T22:20:35.476928Z",
     "shell.execute_reply.started": "2023-08-17T22:20:35.389897Z"
    }
   },
   "outputs": [],
   "source": [
    "import os\n",
    "sound_files = os.listdir('Mel Spectrogram/Original')"
   ]
  },
  {
   "cell_type": "code",
   "execution_count": 7,
   "metadata": {
    "execution": {
     "iopub.execute_input": "2023-08-17T22:20:35.480760Z",
     "iopub.status.busy": "2023-08-17T22:20:35.480124Z",
     "iopub.status.idle": "2023-08-17T22:20:35.486469Z",
     "shell.execute_reply": "2023-08-17T22:20:35.485632Z",
     "shell.execute_reply.started": "2023-08-17T22:20:35.480728Z"
    }
   },
   "outputs": [],
   "source": [
    "req_file_names = []\n",
    "\n",
    "for i in sound_files:\n",
    "      req_file_names.append([i])"
   ]
  },
  {
   "cell_type": "code",
   "execution_count": 8,
   "metadata": {
    "execution": {
     "iopub.execute_input": "2023-08-17T22:20:35.488592Z",
     "iopub.status.busy": "2023-08-17T22:20:35.487895Z",
     "iopub.status.idle": "2023-08-17T22:20:35.497514Z",
     "shell.execute_reply": "2023-08-17T22:20:35.496647Z",
     "shell.execute_reply.started": "2023-08-17T22:20:35.488557Z"
    }
   },
   "outputs": [],
   "source": [
    "labels = []\n",
    "for i in range(len(req_file_names)):\n",
    "    req_file_names[i].append(sr_no[req_file_names[i][0][:3]])\n",
    "    labels.append(sr_no[req_file_names[i][0][:3]])"
   ]
  },
  {
   "cell_type": "code",
   "execution_count": 9,
   "metadata": {
    "execution": {
     "iopub.execute_input": "2023-08-17T22:20:35.499765Z",
     "iopub.status.busy": "2023-08-17T22:20:35.499182Z",
     "iopub.status.idle": "2023-08-17T22:20:35.507017Z",
     "shell.execute_reply": "2023-08-17T22:20:35.506117Z",
     "shell.execute_reply.started": "2023-08-17T22:20:35.499734Z"
    }
   },
   "outputs": [],
   "source": [
    "labels *= 3"
   ]
  },
  {
   "cell_type": "code",
   "execution_count": 10,
   "metadata": {
    "execution": {
     "iopub.execute_input": "2023-08-17T22:20:35.512215Z",
     "iopub.status.busy": "2023-08-17T22:20:35.511632Z",
     "iopub.status.idle": "2023-08-17T22:21:23.211951Z",
     "shell.execute_reply": "2023-08-17T22:21:23.210845Z",
     "shell.execute_reply.started": "2023-08-17T22:20:35.512191Z"
    }
   },
   "outputs": [],
   "source": [
    "x = []\n",
    "\n",
    "for i in req_file_names:\n",
    "    img = cv2.imread('Mel Spectrogram/Time Stretch/'+i[0])\n",
    "    img = cv2.resize(img, (350, 350))\n",
    "    x.append(img)\n",
    "\n",
    "for i in req_file_names:\n",
    "    img = cv2.imread('Mel Spectrogram/Pitch Shift/'+i[0])\n",
    "    img = cv2.resize(img, (350, 350))\n",
    "    x.append(img)\n",
    "    \n",
    "for i in req_file_names:\n",
    "    img = cv2.imread('Mel Spectrogram/Audio Shift/'+i[0])\n",
    "    img = cv2.resize(img, (350, 350))\n",
    "    x.append(img)\n",
    "\n",
    "# x = np.array(x)\n",
    "# print(x.shape)"
   ]
  },
  {
   "cell_type": "code",
   "execution_count": 11,
   "metadata": {
    "execution": {
     "iopub.execute_input": "2023-08-17T22:21:23.213962Z",
     "iopub.status.busy": "2023-08-17T22:21:23.213580Z",
     "iopub.status.idle": "2023-08-17T22:21:23.223315Z",
     "shell.execute_reply": "2023-08-17T22:21:23.222308Z",
     "shell.execute_reply.started": "2023-08-17T22:21:23.213896Z"
    }
   },
   "outputs": [],
   "source": [
    "x_new = []\n",
    "y = []\n",
    "\n",
    "for i in range(len(labels)):\n",
    "    if labels[i]=='Asthma' or labels[i]=='Bronchiolitis':\n",
    "        continue\n",
    "    x_new.append(x[i])\n",
    "    y.append(labels[i])"
   ]
  },
  {
   "cell_type": "code",
   "execution_count": 12,
   "metadata": {
    "execution": {
     "iopub.execute_input": "2023-08-17T22:21:23.226562Z",
     "iopub.status.busy": "2023-08-17T22:21:23.226300Z",
     "iopub.status.idle": "2023-08-17T22:21:23.531933Z",
     "shell.execute_reply": "2023-08-17T22:21:23.530943Z",
     "shell.execute_reply.started": "2023-08-17T22:21:23.226538Z"
    }
   },
   "outputs": [
    {
     "name": "stdout",
     "output_type": "stream",
     "text": [
      "(2718, 350, 350, 3)\n"
     ]
    }
   ],
   "source": [
    "x = np.array(x_new)\n",
    "print(x.shape)"
   ]
  },
  {
   "cell_type": "code",
   "execution_count": 13,
   "metadata": {
    "execution": {
     "iopub.execute_input": "2023-08-17T22:21:23.533749Z",
     "iopub.status.busy": "2023-08-17T22:21:23.533373Z",
     "iopub.status.idle": "2023-08-17T22:21:23.539272Z",
     "shell.execute_reply": "2023-08-17T22:21:23.538231Z",
     "shell.execute_reply.started": "2023-08-17T22:21:23.533715Z"
    }
   },
   "outputs": [],
   "source": [
    "req_file_names *= 3"
   ]
  },
  {
   "cell_type": "code",
   "execution_count": 14,
   "metadata": {
    "execution": {
     "iopub.execute_input": "2023-08-17T22:21:23.541438Z",
     "iopub.status.busy": "2023-08-17T22:21:23.541071Z",
     "iopub.status.idle": "2023-08-17T22:21:23.553859Z",
     "shell.execute_reply": "2023-08-17T22:21:23.552908Z",
     "shell.execute_reply.started": "2023-08-17T22:21:23.541405Z"
    }
   },
   "outputs": [
    {
     "data": {
      "text/plain": [
       "(2718,)"
      ]
     },
     "execution_count": 14,
     "metadata": {},
     "output_type": "execute_result"
    }
   ],
   "source": [
    "y = np.array(y)\n",
    "y.shape"
   ]
  },
  {
   "cell_type": "code",
   "execution_count": 15,
   "metadata": {
    "execution": {
     "iopub.execute_input": "2023-08-17T22:21:23.557094Z",
     "iopub.status.busy": "2023-08-17T22:21:23.556290Z",
     "iopub.status.idle": "2023-08-17T22:21:23.566661Z",
     "shell.execute_reply": "2023-08-17T22:21:23.565739Z",
     "shell.execute_reply.started": "2023-08-17T22:21:23.557060Z"
    }
   },
   "outputs": [],
   "source": [
    "one_hot_y = np.array(pd.get_dummies(y))"
   ]
  },
  {
   "cell_type": "code",
   "execution_count": 16,
   "metadata": {
    "execution": {
     "iopub.execute_input": "2023-08-17T22:21:23.568473Z",
     "iopub.status.busy": "2023-08-17T22:21:23.568109Z",
     "iopub.status.idle": "2023-08-17T22:21:23.866968Z",
     "shell.execute_reply": "2023-08-17T22:21:23.865954Z",
     "shell.execute_reply.started": "2023-08-17T22:21:23.568443Z"
    }
   },
   "outputs": [
    {
     "name": "stdout",
     "output_type": "stream",
     "text": [
      "(2174, 350, 350, 3) (2174, 6) (544, 350, 350, 3)\n"
     ]
    }
   ],
   "source": [
    "x_train, x_test, y_train, y_test = train_test_split(x, one_hot_y, test_size=0.2, random_state=39, stratify=y)\n",
    "print(x_train.shape, y_train.shape, x_test.shape)"
   ]
  },
  {
   "cell_type": "code",
   "execution_count": 17,
   "metadata": {
    "execution": {
     "iopub.execute_input": "2023-08-17T22:21:23.869322Z",
     "iopub.status.busy": "2023-08-17T22:21:23.868390Z",
     "iopub.status.idle": "2023-08-17T22:21:30.528494Z",
     "shell.execute_reply": "2023-08-17T22:21:30.527471Z",
     "shell.execute_reply.started": "2023-08-17T22:21:23.869285Z"
    }
   },
   "outputs": [],
   "source": [
    "enb0_wo_top = keras.applications.efficientnet.EfficientNetB0(include_top=False, weights='imagenet', input_shape=(350,350,3))"
   ]
  },
  {
   "cell_type": "code",
   "execution_count": 18,
   "metadata": {
    "execution": {
     "iopub.execute_input": "2023-08-17T22:21:30.530758Z",
     "iopub.status.busy": "2023-08-17T22:21:30.529881Z",
     "iopub.status.idle": "2023-08-17T22:21:49.800597Z",
     "shell.execute_reply": "2023-08-17T22:21:49.799557Z",
     "shell.execute_reply.started": "2023-08-17T22:21:30.530728Z"
    }
   },
   "outputs": [],
   "source": [
    "enb0_xtrain = enb0_wo_top.predict(x_train)\n",
    "enb0_xtest = enb0_wo_top.predict(x_test)"
   ]
  },
  {
   "cell_type": "code",
   "execution_count": 19,
   "metadata": {},
   "outputs": [],
   "source": [
    "del x\n",
    "del x_new\n",
    "del x_train\n",
    "del x_test\n",
    "del enb0_wo_top"
   ]
  },
  {
   "cell_type": "code",
   "execution_count": 19,
   "metadata": {
    "execution": {
     "iopub.execute_input": "2023-08-17T22:21:49.802429Z",
     "iopub.status.busy": "2023-08-17T22:21:49.802057Z",
     "iopub.status.idle": "2023-08-17T22:21:49.908936Z",
     "shell.execute_reply": "2023-08-17T22:21:49.908214Z",
     "shell.execute_reply.started": "2023-08-17T22:21:49.802394Z"
    }
   },
   "outputs": [
    {
     "name": "stdout",
     "output_type": "stream",
     "text": [
      "Model: \"model\"\n",
      "__________________________________________________________________________________________________\n",
      " Layer (type)                   Output Shape         Param #     Connected to                     \n",
      "==================================================================================================\n",
      " input_2 (InputLayer)           [(None, 11, 11, 128  0           []                               \n",
      "                                0)]                                                               \n",
      "                                                                                                  \n",
      " attention (Attention)          (None, 11, 11, 1280  0           ['input_2[0][0]',                \n",
      "                                )                                 'input_2[0][0]']                \n",
      "                                                                                                  \n",
      " flatten (Flatten)              (None, 154880)       0           ['attention[0][0]']              \n",
      "                                                                                                  \n",
      " dense (Dense)                  (None, 128)          19824768    ['flatten[0][0]']                \n",
      "                                                                                                  \n",
      " dropout (Dropout)              (None, 128)          0           ['dense[0][0]']                  \n",
      "                                                                                                  \n",
      " batch_normalization (BatchNorm  (None, 128)         512         ['dropout[0][0]']                \n",
      " alization)                                                                                       \n",
      "                                                                                                  \n",
      " dense_1 (Dense)                (None, 64)           8256        ['batch_normalization[0][0]']    \n",
      "                                                                                                  \n",
      " dense_2 (Dense)                (None, 6)            390         ['dense_1[0][0]']                \n",
      "                                                                                                  \n",
      "==================================================================================================\n",
      "Total params: 19,833,926\n",
      "Trainable params: 19,833,670\n",
      "Non-trainable params: 256\n",
      "__________________________________________________________________________________________________\n"
     ]
    }
   ],
   "source": [
    "input_enb0 = keras.layers.Input(shape=enb0_xtrain.shape[1:])\n",
    "\n",
    "# enb0_layer = enb0_wo_top(input_enb0)\n",
    "\n",
    "# random = np.random.random(enb0_layer.shape[1:])\n",
    "\n",
    "attention = keras.layers.Attention()([input_enb0, input_enb0])\n",
    "flatten = keras.layers.Flatten()(attention)\n",
    "\n",
    "dense1 = keras.layers.Dense(128, activation='relu')(flatten)\n",
    "do1 = keras.layers.Dropout(0.3)(dense1)\n",
    "bn1 = keras.layers.BatchNormalization()(do1)\n",
    "dense2 = keras.layers.Dense(64, activation='relu')(bn1)\n",
    "output = keras.layers.Dense(6, activation='softmax')(dense2)\n",
    "\n",
    "enb0_model = keras.Model(inputs=input_enb0, outputs=output)\n",
    "enb0_model.summary()"
   ]
  },
  {
   "cell_type": "code",
   "execution_count": 20,
   "metadata": {
    "execution": {
     "iopub.execute_input": "2023-08-17T22:21:49.910460Z",
     "iopub.status.busy": "2023-08-17T22:21:49.909948Z",
     "iopub.status.idle": "2023-08-17T22:21:49.950159Z",
     "shell.execute_reply": "2023-08-17T22:21:49.949294Z",
     "shell.execute_reply.started": "2023-08-17T22:21:49.910434Z"
    }
   },
   "outputs": [],
   "source": [
    "checkpoint_enb0 = keras.callbacks.ModelCheckpoint('/kaggle/working/ENB0_Model-{epoch:02d}.h5', save_best_only=True, initial_value_threshold=0.9980)\n",
    "\n",
    "enb0_model.compile(optimizer=keras.optimizers.Adam(3e-6), loss='categorical_crossentropy', metrics=['accuracy'])"
   ]
  },
  {
   "cell_type": "code",
   "execution_count": 21,
   "metadata": {
    "execution": {
     "iopub.execute_input": "2023-08-17T22:21:49.952107Z",
     "iopub.status.busy": "2023-08-17T22:21:49.951767Z",
     "iopub.status.idle": "2023-08-17T22:29:15.358772Z",
     "shell.execute_reply": "2023-08-17T22:29:15.357477Z",
     "shell.execute_reply.started": "2023-08-17T22:21:49.952072Z"
    },
    "scrolled": true
   },
   "outputs": [
    {
     "name": "stdout",
     "output_type": "stream",
     "text": [
      "Epoch 1/250\n",
      "68/68 [==============================] - 6s 47ms/step - loss: 1.3399 - accuracy: 0.4876 - val_loss: 0.9014 - val_accuracy: 0.8585\n",
      "Epoch 2/250\n",
      "68/68 [==============================] - 2s 34ms/step - loss: 0.9551 - accuracy: 0.7383 - val_loss: 0.8256 - val_accuracy: 0.8695\n",
      "Epoch 3/250\n",
      "68/68 [==============================] - 2s 33ms/step - loss: 0.8318 - accuracy: 0.7971 - val_loss: 0.6833 - val_accuracy: 0.8824\n",
      "Epoch 4/250\n",
      "68/68 [==============================] - 2s 30ms/step - loss: 0.7765 - accuracy: 0.8243 - val_loss: 0.6157 - val_accuracy: 0.8971\n",
      "Epoch 5/250\n",
      "68/68 [==============================] - 3s 39ms/step - loss: 0.7158 - accuracy: 0.8454 - val_loss: 0.5741 - val_accuracy: 0.9062\n",
      "Epoch 6/250\n",
      "68/68 [==============================] - 2s 31ms/step - loss: 0.6844 - accuracy: 0.8569 - val_loss: 0.5546 - val_accuracy: 0.9062\n",
      "Epoch 7/250\n",
      "68/68 [==============================] - 2s 37ms/step - loss: 0.6692 - accuracy: 0.8744 - val_loss: 0.4984 - val_accuracy: 0.9118\n",
      "Epoch 8/250\n",
      "68/68 [==============================] - 1s 21ms/step - loss: 0.6451 - accuracy: 0.8698 - val_loss: 0.5316 - val_accuracy: 0.9173\n",
      "Epoch 9/250\n",
      "68/68 [==============================] - 1s 21ms/step - loss: 0.6121 - accuracy: 0.8795 - val_loss: 0.5204 - val_accuracy: 0.9136\n",
      "Epoch 10/250\n",
      "68/68 [==============================] - 1s 19ms/step - loss: 0.5999 - accuracy: 0.8919 - val_loss: 0.5065 - val_accuracy: 0.9210\n",
      "Epoch 11/250\n",
      "68/68 [==============================] - 2s 35ms/step - loss: 0.5868 - accuracy: 0.8956 - val_loss: 0.4729 - val_accuracy: 0.9357\n",
      "Epoch 12/250\n",
      "68/68 [==============================] - 2s 36ms/step - loss: 0.5626 - accuracy: 0.9117 - val_loss: 0.4644 - val_accuracy: 0.9265\n",
      "Epoch 13/250\n",
      "68/68 [==============================] - 1s 20ms/step - loss: 0.5505 - accuracy: 0.9052 - val_loss: 0.4653 - val_accuracy: 0.9283\n",
      "Epoch 14/250\n",
      "68/68 [==============================] - 2s 36ms/step - loss: 0.5416 - accuracy: 0.9098 - val_loss: 0.4488 - val_accuracy: 0.9375\n",
      "Epoch 15/250\n",
      "68/68 [==============================] - 2s 36ms/step - loss: 0.5267 - accuracy: 0.9172 - val_loss: 0.4344 - val_accuracy: 0.9265\n",
      "Epoch 16/250\n",
      "68/68 [==============================] - 1s 19ms/step - loss: 0.5177 - accuracy: 0.9190 - val_loss: 0.4396 - val_accuracy: 0.9320\n",
      "Epoch 17/250\n",
      "68/68 [==============================] - 2s 34ms/step - loss: 0.4868 - accuracy: 0.9278 - val_loss: 0.4057 - val_accuracy: 0.9375\n",
      "Epoch 18/250\n",
      "68/68 [==============================] - 1s 21ms/step - loss: 0.4850 - accuracy: 0.9282 - val_loss: 0.4357 - val_accuracy: 0.9283\n",
      "Epoch 19/250\n",
      "68/68 [==============================] - 2s 34ms/step - loss: 0.4857 - accuracy: 0.9379 - val_loss: 0.4008 - val_accuracy: 0.9412\n",
      "Epoch 20/250\n",
      "68/68 [==============================] - 2s 33ms/step - loss: 0.4640 - accuracy: 0.9407 - val_loss: 0.3864 - val_accuracy: 0.9357\n",
      "Epoch 21/250\n",
      "68/68 [==============================] - 1s 22ms/step - loss: 0.4707 - accuracy: 0.9282 - val_loss: 0.3907 - val_accuracy: 0.9412\n",
      "Epoch 22/250\n",
      "68/68 [==============================] - 2s 35ms/step - loss: 0.4433 - accuracy: 0.9416 - val_loss: 0.3756 - val_accuracy: 0.9338\n",
      "Epoch 23/250\n",
      "68/68 [==============================] - 1s 19ms/step - loss: 0.4448 - accuracy: 0.9508 - val_loss: 0.3831 - val_accuracy: 0.9412\n",
      "Epoch 24/250\n",
      "68/68 [==============================] - 2s 29ms/step - loss: 0.4406 - accuracy: 0.9425 - val_loss: 0.3549 - val_accuracy: 0.9393\n",
      "Epoch 25/250\n",
      "68/68 [==============================] - 1s 20ms/step - loss: 0.4208 - accuracy: 0.9591 - val_loss: 0.3654 - val_accuracy: 0.9375\n",
      "Epoch 26/250\n",
      "68/68 [==============================] - 2s 37ms/step - loss: 0.4191 - accuracy: 0.9512 - val_loss: 0.3347 - val_accuracy: 0.9357\n",
      "Epoch 27/250\n",
      "68/68 [==============================] - 1s 20ms/step - loss: 0.4082 - accuracy: 0.9540 - val_loss: 0.3633 - val_accuracy: 0.9467\n",
      "Epoch 28/250\n",
      "68/68 [==============================] - 3s 42ms/step - loss: 0.3939 - accuracy: 0.9618 - val_loss: 0.3293 - val_accuracy: 0.9467\n",
      "Epoch 29/250\n",
      "68/68 [==============================] - 2s 34ms/step - loss: 0.3943 - accuracy: 0.9586 - val_loss: 0.3022 - val_accuracy: 0.9504\n",
      "Epoch 30/250\n",
      "68/68 [==============================] - 1s 19ms/step - loss: 0.3951 - accuracy: 0.9604 - val_loss: 0.3317 - val_accuracy: 0.9522\n",
      "Epoch 31/250\n",
      "68/68 [==============================] - 1s 20ms/step - loss: 0.3790 - accuracy: 0.9650 - val_loss: 0.3195 - val_accuracy: 0.9467\n",
      "Epoch 32/250\n",
      "68/68 [==============================] - 1s 19ms/step - loss: 0.3766 - accuracy: 0.9632 - val_loss: 0.3237 - val_accuracy: 0.9522\n",
      "Epoch 33/250\n",
      "68/68 [==============================] - 2s 31ms/step - loss: 0.3597 - accuracy: 0.9669 - val_loss: 0.2982 - val_accuracy: 0.9485\n",
      "Epoch 34/250\n",
      "68/68 [==============================] - 1s 20ms/step - loss: 0.3531 - accuracy: 0.9724 - val_loss: 0.3210 - val_accuracy: 0.9559\n",
      "Epoch 35/250\n",
      "68/68 [==============================] - 1s 20ms/step - loss: 0.3439 - accuracy: 0.9724 - val_loss: 0.3248 - val_accuracy: 0.9614\n",
      "Epoch 36/250\n",
      "68/68 [==============================] - 2s 34ms/step - loss: 0.3436 - accuracy: 0.9724 - val_loss: 0.2720 - val_accuracy: 0.9596\n",
      "Epoch 37/250\n",
      "68/68 [==============================] - 1s 22ms/step - loss: 0.3339 - accuracy: 0.9733 - val_loss: 0.3358 - val_accuracy: 0.9596\n",
      "Epoch 38/250\n",
      "68/68 [==============================] - 1s 20ms/step - loss: 0.3327 - accuracy: 0.9756 - val_loss: 0.2830 - val_accuracy: 0.9632\n",
      "Epoch 39/250\n",
      "68/68 [==============================] - 1s 21ms/step - loss: 0.3304 - accuracy: 0.9770 - val_loss: 0.2815 - val_accuracy: 0.9669\n",
      "Epoch 40/250\n",
      "68/68 [==============================] - 1s 19ms/step - loss: 0.3261 - accuracy: 0.9742 - val_loss: 0.2989 - val_accuracy: 0.9632\n",
      "Epoch 41/250\n",
      "68/68 [==============================] - 2s 29ms/step - loss: 0.3157 - accuracy: 0.9816 - val_loss: 0.2587 - val_accuracy: 0.9632\n",
      "Epoch 42/250\n",
      "68/68 [==============================] - 1s 21ms/step - loss: 0.3071 - accuracy: 0.9816 - val_loss: 0.2778 - val_accuracy: 0.9651\n",
      "Epoch 43/250\n",
      "68/68 [==============================] - 1s 21ms/step - loss: 0.3070 - accuracy: 0.9793 - val_loss: 0.2713 - val_accuracy: 0.9798\n",
      "Epoch 44/250\n",
      "68/68 [==============================] - 2s 36ms/step - loss: 0.2940 - accuracy: 0.9862 - val_loss: 0.2324 - val_accuracy: 0.9632\n",
      "Epoch 45/250\n",
      "68/68 [==============================] - 1s 21ms/step - loss: 0.2932 - accuracy: 0.9867 - val_loss: 0.2579 - val_accuracy: 0.9761\n",
      "Epoch 46/250\n",
      "68/68 [==============================] - 1s 19ms/step - loss: 0.2928 - accuracy: 0.9798 - val_loss: 0.2394 - val_accuracy: 0.9688\n",
      "Epoch 47/250\n",
      "68/68 [==============================] - 2s 23ms/step - loss: 0.2867 - accuracy: 0.9825 - val_loss: 0.2719 - val_accuracy: 0.9706\n",
      "Epoch 48/250\n",
      "68/68 [==============================] - 1s 22ms/step - loss: 0.2851 - accuracy: 0.9844 - val_loss: 0.2617 - val_accuracy: 0.9724\n",
      "Epoch 49/250\n",
      "68/68 [==============================] - 1s 19ms/step - loss: 0.2679 - accuracy: 0.9890 - val_loss: 0.2461 - val_accuracy: 0.9632\n",
      "Epoch 50/250\n",
      "68/68 [==============================] - 1s 19ms/step - loss: 0.2667 - accuracy: 0.9871 - val_loss: 0.2470 - val_accuracy: 0.9798\n",
      "Epoch 51/250\n",
      "68/68 [==============================] - 2s 27ms/step - loss: 0.2581 - accuracy: 0.9894 - val_loss: 0.2256 - val_accuracy: 0.9835\n",
      "Epoch 52/250\n",
      "68/68 [==============================] - 2s 35ms/step - loss: 0.2605 - accuracy: 0.9876 - val_loss: 0.2113 - val_accuracy: 0.9761\n",
      "Epoch 53/250\n",
      "68/68 [==============================] - 4s 54ms/step - loss: 0.2519 - accuracy: 0.9890 - val_loss: 0.2063 - val_accuracy: 0.9743\n",
      "Epoch 54/250\n",
      "68/68 [==============================] - 1s 20ms/step - loss: 0.2497 - accuracy: 0.9917 - val_loss: 0.2413 - val_accuracy: 0.9706\n",
      "Epoch 55/250\n",
      "68/68 [==============================] - 1s 18ms/step - loss: 0.2437 - accuracy: 0.9926 - val_loss: 0.2234 - val_accuracy: 0.9724\n",
      "Epoch 56/250\n",
      "68/68 [==============================] - 1s 20ms/step - loss: 0.2446 - accuracy: 0.9899 - val_loss: 0.2092 - val_accuracy: 0.9706\n",
      "Epoch 57/250\n",
      "68/68 [==============================] - 1s 21ms/step - loss: 0.2357 - accuracy: 0.9903 - val_loss: 0.2114 - val_accuracy: 0.9816\n",
      "Epoch 58/250\n",
      "68/68 [==============================] - 2s 23ms/step - loss: 0.2342 - accuracy: 0.9917 - val_loss: 0.2074 - val_accuracy: 0.9614\n",
      "Epoch 59/250\n",
      "68/68 [==============================] - 2s 28ms/step - loss: 0.2284 - accuracy: 0.9913 - val_loss: 0.1985 - val_accuracy: 0.9871\n",
      "Epoch 60/250\n",
      "68/68 [==============================] - 1s 20ms/step - loss: 0.2190 - accuracy: 0.9926 - val_loss: 0.2075 - val_accuracy: 0.9816\n",
      "Epoch 61/250\n",
      "68/68 [==============================] - 1s 20ms/step - loss: 0.2205 - accuracy: 0.9926 - val_loss: 0.2014 - val_accuracy: 0.9779\n",
      "Epoch 62/250\n",
      "68/68 [==============================] - 1s 19ms/step - loss: 0.2161 - accuracy: 0.9908 - val_loss: 0.2063 - val_accuracy: 0.9835\n",
      "Epoch 63/250\n",
      "68/68 [==============================] - 2s 34ms/step - loss: 0.2202 - accuracy: 0.9926 - val_loss: 0.1922 - val_accuracy: 0.9798\n",
      "Epoch 64/250\n",
      "68/68 [==============================] - 1s 21ms/step - loss: 0.2100 - accuracy: 0.9908 - val_loss: 0.2104 - val_accuracy: 0.9724\n",
      "Epoch 65/250\n",
      "68/68 [==============================] - 1s 19ms/step - loss: 0.2066 - accuracy: 0.9926 - val_loss: 0.2128 - val_accuracy: 0.9835\n",
      "Epoch 66/250\n",
      "68/68 [==============================] - 2s 35ms/step - loss: 0.2082 - accuracy: 0.9940 - val_loss: 0.1846 - val_accuracy: 0.9835\n",
      "Epoch 67/250\n",
      "68/68 [==============================] - 2s 36ms/step - loss: 0.2046 - accuracy: 0.9940 - val_loss: 0.1801 - val_accuracy: 0.9779\n",
      "Epoch 68/250\n",
      "68/68 [==============================] - 1s 19ms/step - loss: 0.1972 - accuracy: 0.9949 - val_loss: 0.1952 - val_accuracy: 0.9798\n",
      "Epoch 69/250\n",
      "68/68 [==============================] - 2s 29ms/step - loss: 0.1928 - accuracy: 0.9931 - val_loss: 0.1761 - val_accuracy: 0.9816\n",
      "Epoch 70/250\n",
      "68/68 [==============================] - 1s 20ms/step - loss: 0.1960 - accuracy: 0.9959 - val_loss: 0.1772 - val_accuracy: 0.9798\n",
      "Epoch 71/250\n",
      "68/68 [==============================] - 1s 18ms/step - loss: 0.1917 - accuracy: 0.9922 - val_loss: 0.1948 - val_accuracy: 0.9816\n",
      "Epoch 72/250\n",
      "68/68 [==============================] - 2s 36ms/step - loss: 0.1878 - accuracy: 0.9959 - val_loss: 0.1748 - val_accuracy: 0.9908\n",
      "Epoch 73/250\n",
      "68/68 [==============================] - 2s 34ms/step - loss: 0.1821 - accuracy: 0.9959 - val_loss: 0.1725 - val_accuracy: 0.9835\n",
      "Epoch 74/250\n",
      "68/68 [==============================] - 3s 52ms/step - loss: 0.1764 - accuracy: 0.9949 - val_loss: 0.1585 - val_accuracy: 0.9871\n",
      "Epoch 75/250\n",
      "68/68 [==============================] - 1s 20ms/step - loss: 0.1734 - accuracy: 0.9972 - val_loss: 0.1628 - val_accuracy: 0.9871\n",
      "Epoch 76/250\n",
      "68/68 [==============================] - 2s 31ms/step - loss: 0.1687 - accuracy: 0.9977 - val_loss: 0.1581 - val_accuracy: 0.9871\n",
      "Epoch 77/250\n",
      "68/68 [==============================] - 1s 20ms/step - loss: 0.1682 - accuracy: 0.9968 - val_loss: 0.1672 - val_accuracy: 0.9798\n",
      "Epoch 78/250\n",
      "68/68 [==============================] - 1s 20ms/step - loss: 0.1681 - accuracy: 0.9949 - val_loss: 0.1766 - val_accuracy: 0.9890\n",
      "Epoch 79/250\n",
      "68/68 [==============================] - 2s 29ms/step - loss: 0.1659 - accuracy: 0.9963 - val_loss: 0.1390 - val_accuracy: 0.9816\n",
      "Epoch 80/250\n",
      "68/68 [==============================] - 1s 20ms/step - loss: 0.1598 - accuracy: 0.9963 - val_loss: 0.1770 - val_accuracy: 0.9853\n",
      "Epoch 81/250\n",
      "68/68 [==============================] - 1s 20ms/step - loss: 0.1566 - accuracy: 0.9963 - val_loss: 0.1633 - val_accuracy: 0.9871\n",
      "Epoch 82/250\n",
      "68/68 [==============================] - 1s 19ms/step - loss: 0.1564 - accuracy: 0.9986 - val_loss: 0.1559 - val_accuracy: 0.9890\n",
      "Epoch 83/250\n",
      "68/68 [==============================] - 1s 21ms/step - loss: 0.1535 - accuracy: 0.9963 - val_loss: 0.1710 - val_accuracy: 0.9890\n",
      "Epoch 84/250\n",
      "68/68 [==============================] - 2s 23ms/step - loss: 0.1485 - accuracy: 0.9968 - val_loss: 0.1669 - val_accuracy: 0.9908\n",
      "Epoch 85/250\n",
      "68/68 [==============================] - 2s 22ms/step - loss: 0.1490 - accuracy: 0.9995 - val_loss: 0.1411 - val_accuracy: 0.9816\n",
      "Epoch 86/250\n",
      "68/68 [==============================] - 1s 21ms/step - loss: 0.1483 - accuracy: 0.9959 - val_loss: 0.1592 - val_accuracy: 0.9908\n",
      "Epoch 87/250\n",
      "68/68 [==============================] - 2s 29ms/step - loss: 0.1459 - accuracy: 0.9949 - val_loss: 0.1203 - val_accuracy: 0.9963\n",
      "Epoch 88/250\n",
      "68/68 [==============================] - 1s 20ms/step - loss: 0.1387 - accuracy: 0.9982 - val_loss: 0.1457 - val_accuracy: 0.9908\n",
      "Epoch 89/250\n",
      "68/68 [==============================] - 1s 20ms/step - loss: 0.1426 - accuracy: 0.9959 - val_loss: 0.1371 - val_accuracy: 0.9926\n",
      "Epoch 90/250\n",
      "68/68 [==============================] - 1s 19ms/step - loss: 0.1365 - accuracy: 0.9968 - val_loss: 0.1241 - val_accuracy: 0.9853\n",
      "Epoch 91/250\n",
      "68/68 [==============================] - 1s 22ms/step - loss: 0.1341 - accuracy: 0.9982 - val_loss: 0.1248 - val_accuracy: 0.9890\n",
      "Epoch 92/250\n",
      "68/68 [==============================] - 1s 19ms/step - loss: 0.1310 - accuracy: 0.9968 - val_loss: 0.1208 - val_accuracy: 0.9853\n",
      "Epoch 93/250\n",
      "68/68 [==============================] - 1s 21ms/step - loss: 0.1307 - accuracy: 0.9982 - val_loss: 0.1427 - val_accuracy: 0.9908\n",
      "Epoch 94/250\n",
      "68/68 [==============================] - 1s 20ms/step - loss: 0.1354 - accuracy: 0.9977 - val_loss: 0.1378 - val_accuracy: 0.9890\n",
      "Epoch 95/250\n",
      "68/68 [==============================] - 2s 23ms/step - loss: 0.1315 - accuracy: 0.9972 - val_loss: 0.1266 - val_accuracy: 0.9908\n",
      "Epoch 96/250\n",
      "68/68 [==============================] - 1s 21ms/step - loss: 0.1269 - accuracy: 0.9986 - val_loss: 0.1344 - val_accuracy: 0.9945\n",
      "Epoch 97/250\n",
      "68/68 [==============================] - 1s 20ms/step - loss: 0.1262 - accuracy: 0.9991 - val_loss: 0.1417 - val_accuracy: 0.9908\n",
      "Epoch 98/250\n",
      "68/68 [==============================] - 1s 21ms/step - loss: 0.1245 - accuracy: 0.9977 - val_loss: 0.1383 - val_accuracy: 0.9816\n",
      "Epoch 99/250\n",
      "68/68 [==============================] - 2s 30ms/step - loss: 0.1173 - accuracy: 0.9982 - val_loss: 0.1126 - val_accuracy: 0.9798\n",
      "Epoch 100/250\n",
      "68/68 [==============================] - 1s 21ms/step - loss: 0.1207 - accuracy: 0.9977 - val_loss: 0.1229 - val_accuracy: 0.9779\n",
      "Epoch 101/250\n",
      "68/68 [==============================] - 1s 20ms/step - loss: 0.1196 - accuracy: 0.9986 - val_loss: 0.1312 - val_accuracy: 0.9963\n",
      "Epoch 102/250\n",
      "68/68 [==============================] - 1s 19ms/step - loss: 0.1152 - accuracy: 0.9972 - val_loss: 0.1355 - val_accuracy: 0.9871\n",
      "Epoch 103/250\n",
      "68/68 [==============================] - 1s 20ms/step - loss: 0.1187 - accuracy: 0.9977 - val_loss: 0.1239 - val_accuracy: 0.9926\n",
      "Epoch 104/250\n",
      "68/68 [==============================] - 1s 19ms/step - loss: 0.1090 - accuracy: 0.9986 - val_loss: 0.1328 - val_accuracy: 0.9945\n",
      "Epoch 105/250\n",
      "68/68 [==============================] - 1s 19ms/step - loss: 0.1109 - accuracy: 0.9995 - val_loss: 0.1207 - val_accuracy: 0.9908\n",
      "Epoch 106/250\n",
      "68/68 [==============================] - 2s 23ms/step - loss: 0.1074 - accuracy: 0.9977 - val_loss: 0.1144 - val_accuracy: 0.9926\n",
      "Epoch 107/250\n",
      "68/68 [==============================] - 2s 27ms/step - loss: 0.1024 - accuracy: 0.9986 - val_loss: 0.1224 - val_accuracy: 0.9835\n",
      "Epoch 108/250\n",
      "68/68 [==============================] - 1s 21ms/step - loss: 0.1090 - accuracy: 0.9995 - val_loss: 0.1136 - val_accuracy: 0.9963\n",
      "Epoch 109/250\n",
      "68/68 [==============================] - 2s 28ms/step - loss: 0.1058 - accuracy: 0.9977 - val_loss: 0.1097 - val_accuracy: 0.9926\n",
      "Epoch 110/250\n",
      "68/68 [==============================] - 2s 34ms/step - loss: 0.1035 - accuracy: 0.9986 - val_loss: 0.1077 - val_accuracy: 0.9908\n",
      "Epoch 111/250\n",
      "68/68 [==============================] - 1s 20ms/step - loss: 0.1021 - accuracy: 1.0000 - val_loss: 0.1113 - val_accuracy: 0.9926\n",
      "Epoch 112/250\n",
      "68/68 [==============================] - 3s 39ms/step - loss: 0.1016 - accuracy: 0.9991 - val_loss: 0.1055 - val_accuracy: 0.9926\n",
      "Epoch 113/250\n",
      "68/68 [==============================] - 1s 21ms/step - loss: 0.1028 - accuracy: 0.9995 - val_loss: 0.1115 - val_accuracy: 0.9853\n",
      "Epoch 114/250\n",
      "68/68 [==============================] - 2s 33ms/step - loss: 0.0998 - accuracy: 0.9991 - val_loss: 0.1030 - val_accuracy: 0.9890\n",
      "Epoch 115/250\n",
      "68/68 [==============================] - 2s 29ms/step - loss: 0.0991 - accuracy: 0.9986 - val_loss: 0.1014 - val_accuracy: 0.9926\n",
      "Epoch 116/250\n",
      "68/68 [==============================] - 1s 20ms/step - loss: 0.0964 - accuracy: 0.9995 - val_loss: 0.1118 - val_accuracy: 0.9926\n",
      "Epoch 117/250\n",
      "68/68 [==============================] - 2s 35ms/step - loss: 0.0963 - accuracy: 0.9977 - val_loss: 0.0909 - val_accuracy: 0.9908\n",
      "Epoch 118/250\n",
      "68/68 [==============================] - 1s 20ms/step - loss: 0.0953 - accuracy: 0.9968 - val_loss: 0.1189 - val_accuracy: 0.9926\n",
      "Epoch 119/250\n",
      "68/68 [==============================] - 1s 21ms/step - loss: 0.0902 - accuracy: 1.0000 - val_loss: 0.1038 - val_accuracy: 0.9871\n",
      "Epoch 120/250\n",
      "68/68 [==============================] - 1s 19ms/step - loss: 0.0849 - accuracy: 1.0000 - val_loss: 0.0927 - val_accuracy: 0.9890\n",
      "Epoch 121/250\n",
      "68/68 [==============================] - 1s 21ms/step - loss: 0.0916 - accuracy: 0.9991 - val_loss: 0.0967 - val_accuracy: 0.9926\n",
      "Epoch 122/250\n",
      "68/68 [==============================] - 1s 19ms/step - loss: 0.0900 - accuracy: 0.9995 - val_loss: 0.1060 - val_accuracy: 0.9816\n",
      "Epoch 123/250\n",
      "68/68 [==============================] - 1s 20ms/step - loss: 0.0893 - accuracy: 0.9991 - val_loss: 0.0921 - val_accuracy: 0.9706\n",
      "Epoch 124/250\n",
      "68/68 [==============================] - 1s 20ms/step - loss: 0.0897 - accuracy: 0.9995 - val_loss: 0.0981 - val_accuracy: 0.9945\n",
      "Epoch 125/250\n",
      "68/68 [==============================] - 2s 28ms/step - loss: 0.0861 - accuracy: 0.9982 - val_loss: 0.1148 - val_accuracy: 0.9926\n",
      "Epoch 126/250\n",
      "68/68 [==============================] - 1s 20ms/step - loss: 0.0847 - accuracy: 0.9977 - val_loss: 0.0913 - val_accuracy: 0.9890\n",
      "Epoch 127/250\n",
      "68/68 [==============================] - 1s 19ms/step - loss: 0.0775 - accuracy: 1.0000 - val_loss: 0.1020 - val_accuracy: 0.9945\n",
      "Epoch 128/250\n",
      "68/68 [==============================] - 1s 20ms/step - loss: 0.0771 - accuracy: 1.0000 - val_loss: 0.0972 - val_accuracy: 0.9908\n",
      "Epoch 129/250\n",
      "68/68 [==============================] - 1s 19ms/step - loss: 0.0757 - accuracy: 0.9991 - val_loss: 0.0940 - val_accuracy: 0.9890\n",
      "Epoch 130/250\n",
      "68/68 [==============================] - 2s 28ms/step - loss: 0.0808 - accuracy: 0.9982 - val_loss: 0.0867 - val_accuracy: 0.9926\n",
      "Epoch 131/250\n",
      "68/68 [==============================] - 2s 32ms/step - loss: 0.0711 - accuracy: 0.9995 - val_loss: 0.0863 - val_accuracy: 0.9926\n",
      "Epoch 132/250\n",
      "68/68 [==============================] - 1s 21ms/step - loss: 0.0758 - accuracy: 0.9986 - val_loss: 0.0914 - val_accuracy: 0.9963\n",
      "Epoch 133/250\n",
      "68/68 [==============================] - 3s 41ms/step - loss: 0.0694 - accuracy: 1.0000 - val_loss: 0.0830 - val_accuracy: 0.9926\n",
      "Epoch 134/250\n",
      "68/68 [==============================] - 2s 31ms/step - loss: 0.0692 - accuracy: 0.9991 - val_loss: 0.0758 - val_accuracy: 0.9982\n",
      "Epoch 135/250\n",
      "68/68 [==============================] - 1s 20ms/step - loss: 0.0671 - accuracy: 0.9995 - val_loss: 0.0770 - val_accuracy: 0.9908\n",
      "Epoch 136/250\n",
      "68/68 [==============================] - 1s 20ms/step - loss: 0.0709 - accuracy: 0.9986 - val_loss: 0.0808 - val_accuracy: 0.9945\n",
      "Epoch 137/250\n",
      "68/68 [==============================] - 1s 20ms/step - loss: 0.0699 - accuracy: 0.9986 - val_loss: 0.0856 - val_accuracy: 0.9871\n",
      "Epoch 138/250\n",
      "68/68 [==============================] - 1s 19ms/step - loss: 0.0692 - accuracy: 0.9991 - val_loss: 0.0790 - val_accuracy: 0.9835\n",
      "Epoch 139/250\n",
      "68/68 [==============================] - 1s 19ms/step - loss: 0.0679 - accuracy: 0.9982 - val_loss: 0.0880 - val_accuracy: 0.9945\n",
      "Epoch 140/250\n",
      "68/68 [==============================] - 1s 19ms/step - loss: 0.0638 - accuracy: 0.9995 - val_loss: 0.0845 - val_accuracy: 0.9926\n",
      "Epoch 141/250\n",
      "68/68 [==============================] - 2s 28ms/step - loss: 0.0681 - accuracy: 0.9991 - val_loss: 0.0723 - val_accuracy: 0.9945\n",
      "Epoch 142/250\n",
      "68/68 [==============================] - 1s 21ms/step - loss: 0.0690 - accuracy: 0.9982 - val_loss: 0.0793 - val_accuracy: 0.9890\n",
      "Epoch 143/250\n",
      "68/68 [==============================] - 3s 38ms/step - loss: 0.0639 - accuracy: 0.9991 - val_loss: 0.0722 - val_accuracy: 0.9908\n",
      "Epoch 144/250\n",
      "68/68 [==============================] - 1s 21ms/step - loss: 0.0610 - accuracy: 1.0000 - val_loss: 0.0748 - val_accuracy: 0.9908\n",
      "Epoch 145/250\n",
      "68/68 [==============================] - 2s 24ms/step - loss: 0.0613 - accuracy: 1.0000 - val_loss: 0.0813 - val_accuracy: 0.9926\n",
      "Epoch 146/250\n",
      "68/68 [==============================] - 2s 29ms/step - loss: 0.0573 - accuracy: 1.0000 - val_loss: 0.0710 - val_accuracy: 0.9982\n",
      "Epoch 147/250\n",
      "68/68 [==============================] - 1s 21ms/step - loss: 0.0600 - accuracy: 0.9995 - val_loss: 0.0750 - val_accuracy: 0.9926\n",
      "Epoch 148/250\n",
      "68/68 [==============================] - 2s 34ms/step - loss: 0.0551 - accuracy: 0.9995 - val_loss: 0.0706 - val_accuracy: 0.9945\n",
      "Epoch 149/250\n",
      "68/68 [==============================] - 3s 38ms/step - loss: 0.0579 - accuracy: 0.9995 - val_loss: 0.0663 - val_accuracy: 0.9908\n",
      "Epoch 150/250\n",
      "68/68 [==============================] - 2s 29ms/step - loss: 0.0536 - accuracy: 0.9995 - val_loss: 0.0640 - val_accuracy: 0.9945\n",
      "Epoch 151/250\n",
      "68/68 [==============================] - 1s 20ms/step - loss: 0.0549 - accuracy: 0.9991 - val_loss: 0.0674 - val_accuracy: 0.9945\n",
      "Epoch 152/250\n",
      "68/68 [==============================] - 1s 19ms/step - loss: 0.0545 - accuracy: 0.9986 - val_loss: 0.0706 - val_accuracy: 0.9908\n",
      "Epoch 153/250\n",
      "68/68 [==============================] - 1s 21ms/step - loss: 0.0531 - accuracy: 0.9995 - val_loss: 0.0646 - val_accuracy: 0.9963\n",
      "Epoch 154/250\n",
      "68/68 [==============================] - 1s 21ms/step - loss: 0.0546 - accuracy: 0.9991 - val_loss: 0.0660 - val_accuracy: 0.9963\n",
      "Epoch 155/250\n",
      "68/68 [==============================] - 1s 20ms/step - loss: 0.0528 - accuracy: 0.9991 - val_loss: 0.0651 - val_accuracy: 0.9945\n",
      "Epoch 156/250\n",
      "68/68 [==============================] - 1s 19ms/step - loss: 0.0539 - accuracy: 0.9972 - val_loss: 0.0742 - val_accuracy: 0.9982\n",
      "Epoch 157/250\n",
      "68/68 [==============================] - 1s 19ms/step - loss: 0.0509 - accuracy: 1.0000 - val_loss: 0.0651 - val_accuracy: 0.9945\n",
      "Epoch 158/250\n",
      "68/68 [==============================] - 1s 19ms/step - loss: 0.0507 - accuracy: 0.9991 - val_loss: 0.0884 - val_accuracy: 0.9779\n",
      "Epoch 159/250\n",
      "68/68 [==============================] - 1s 20ms/step - loss: 0.0470 - accuracy: 0.9995 - val_loss: 0.0684 - val_accuracy: 0.9926\n",
      "Epoch 160/250\n",
      "68/68 [==============================] - 1s 19ms/step - loss: 0.0529 - accuracy: 1.0000 - val_loss: 0.0652 - val_accuracy: 0.9926\n",
      "Epoch 161/250\n",
      "68/68 [==============================] - 2s 30ms/step - loss: 0.0491 - accuracy: 0.9986 - val_loss: 0.0615 - val_accuracy: 0.9908\n",
      "Epoch 162/250\n",
      "68/68 [==============================] - 1s 20ms/step - loss: 0.0477 - accuracy: 0.9995 - val_loss: 0.0628 - val_accuracy: 0.9945\n",
      "Epoch 163/250\n",
      "68/68 [==============================] - 1s 20ms/step - loss: 0.0460 - accuracy: 1.0000 - val_loss: 0.0640 - val_accuracy: 0.9871\n",
      "Epoch 164/250\n",
      "68/68 [==============================] - 2s 37ms/step - loss: 0.0437 - accuracy: 0.9995 - val_loss: 0.0605 - val_accuracy: 0.9926\n",
      "Epoch 165/250\n",
      "68/68 [==============================] - 2s 23ms/step - loss: 0.0446 - accuracy: 0.9995 - val_loss: 0.0652 - val_accuracy: 0.9908\n",
      "Epoch 166/250\n",
      "68/68 [==============================] - 1s 20ms/step - loss: 0.0451 - accuracy: 0.9991 - val_loss: 0.0639 - val_accuracy: 0.9945\n",
      "Epoch 167/250\n",
      "68/68 [==============================] - 2s 35ms/step - loss: 0.0454 - accuracy: 0.9991 - val_loss: 0.0532 - val_accuracy: 0.9963\n",
      "Epoch 168/250\n",
      "68/68 [==============================] - 2s 22ms/step - loss: 0.0461 - accuracy: 0.9991 - val_loss: 0.0689 - val_accuracy: 0.9963\n",
      "Epoch 169/250\n",
      "68/68 [==============================] - 1s 21ms/step - loss: 0.0397 - accuracy: 1.0000 - val_loss: 0.0598 - val_accuracy: 0.9871\n",
      "Epoch 170/250\n",
      "68/68 [==============================] - 1s 21ms/step - loss: 0.0414 - accuracy: 1.0000 - val_loss: 0.0561 - val_accuracy: 0.9890\n",
      "Epoch 171/250\n",
      "68/68 [==============================] - 1s 21ms/step - loss: 0.0443 - accuracy: 0.9991 - val_loss: 0.0533 - val_accuracy: 0.9926\n",
      "Epoch 172/250\n",
      "68/68 [==============================] - 2s 30ms/step - loss: 0.0429 - accuracy: 0.9995 - val_loss: 0.0501 - val_accuracy: 0.9908\n",
      "Epoch 173/250\n",
      "68/68 [==============================] - 1s 21ms/step - loss: 0.0430 - accuracy: 0.9995 - val_loss: 0.0573 - val_accuracy: 0.9926\n",
      "Epoch 174/250\n",
      "68/68 [==============================] - 1s 20ms/step - loss: 0.0407 - accuracy: 0.9991 - val_loss: 0.0610 - val_accuracy: 0.9908\n",
      "Epoch 175/250\n",
      "68/68 [==============================] - 1s 20ms/step - loss: 0.0390 - accuracy: 0.9991 - val_loss: 0.0541 - val_accuracy: 0.9890\n",
      "Epoch 176/250\n",
      "68/68 [==============================] - 1s 21ms/step - loss: 0.0372 - accuracy: 0.9991 - val_loss: 0.0510 - val_accuracy: 0.9945\n",
      "Epoch 177/250\n",
      "68/68 [==============================] - 1s 20ms/step - loss: 0.0383 - accuracy: 0.9995 - val_loss: 0.0539 - val_accuracy: 0.9908\n",
      "Epoch 178/250\n",
      "68/68 [==============================] - 1s 20ms/step - loss: 0.0379 - accuracy: 0.9982 - val_loss: 0.0612 - val_accuracy: 0.9945\n",
      "Epoch 179/250\n",
      "68/68 [==============================] - 2s 31ms/step - loss: 0.0373 - accuracy: 0.9995 - val_loss: 0.0488 - val_accuracy: 0.9945\n",
      "Epoch 180/250\n",
      "68/68 [==============================] - 1s 22ms/step - loss: 0.0395 - accuracy: 1.0000 - val_loss: 0.0510 - val_accuracy: 0.9926\n",
      "Epoch 181/250\n",
      "68/68 [==============================] - 1s 21ms/step - loss: 0.0353 - accuracy: 0.9991 - val_loss: 0.0497 - val_accuracy: 0.9926\n",
      "Epoch 182/250\n",
      "68/68 [==============================] - 1s 20ms/step - loss: 0.0354 - accuracy: 0.9991 - val_loss: 0.0527 - val_accuracy: 0.9963\n",
      "Epoch 183/250\n",
      "68/68 [==============================] - 1s 22ms/step - loss: 0.0329 - accuracy: 0.9995 - val_loss: 0.0509 - val_accuracy: 0.9945\n",
      "Epoch 184/250\n",
      "68/68 [==============================] - 2s 27ms/step - loss: 0.0338 - accuracy: 0.9995 - val_loss: 0.0485 - val_accuracy: 0.9908\n",
      "Epoch 185/250\n",
      "68/68 [==============================] - 2s 30ms/step - loss: 0.0344 - accuracy: 1.0000 - val_loss: 0.0489 - val_accuracy: 0.9945\n",
      "Epoch 186/250\n",
      "68/68 [==============================] - 2s 33ms/step - loss: 0.0336 - accuracy: 1.0000 - val_loss: 0.0444 - val_accuracy: 0.9945\n",
      "Epoch 187/250\n",
      "68/68 [==============================] - 2s 31ms/step - loss: 0.0338 - accuracy: 0.9986 - val_loss: 0.0443 - val_accuracy: 0.9963\n",
      "Epoch 188/250\n",
      "68/68 [==============================] - 1s 20ms/step - loss: 0.0345 - accuracy: 0.9995 - val_loss: 0.0559 - val_accuracy: 0.9963\n",
      "Epoch 189/250\n",
      "68/68 [==============================] - 1s 20ms/step - loss: 0.0307 - accuracy: 1.0000 - val_loss: 0.0495 - val_accuracy: 0.9945\n",
      "Epoch 190/250\n",
      "68/68 [==============================] - 1s 19ms/step - loss: 0.0337 - accuracy: 0.9995 - val_loss: 0.0491 - val_accuracy: 0.9963\n",
      "Epoch 191/250\n",
      "68/68 [==============================] - 1s 18ms/step - loss: 0.0326 - accuracy: 0.9995 - val_loss: 0.0448 - val_accuracy: 0.9982\n",
      "Epoch 192/250\n",
      "68/68 [==============================] - 1s 22ms/step - loss: 0.0303 - accuracy: 0.9991 - val_loss: 0.0501 - val_accuracy: 0.9908\n",
      "Epoch 193/250\n",
      "68/68 [==============================] - 1s 19ms/step - loss: 0.0304 - accuracy: 0.9986 - val_loss: 0.0444 - val_accuracy: 0.9982\n",
      "Epoch 194/250\n",
      "68/68 [==============================] - 1s 20ms/step - loss: 0.0311 - accuracy: 0.9995 - val_loss: 0.0471 - val_accuracy: 0.9963\n",
      "Epoch 195/250\n",
      "68/68 [==============================] - 1s 20ms/step - loss: 0.0311 - accuracy: 0.9991 - val_loss: 0.0582 - val_accuracy: 0.9853\n",
      "Epoch 196/250\n",
      "68/68 [==============================] - 1s 21ms/step - loss: 0.0298 - accuracy: 1.0000 - val_loss: 0.0464 - val_accuracy: 0.9963\n",
      "Epoch 197/250\n",
      "68/68 [==============================] - 1s 21ms/step - loss: 0.0311 - accuracy: 0.9991 - val_loss: 0.0522 - val_accuracy: 0.9853\n",
      "Epoch 198/250\n",
      "68/68 [==============================] - 2s 30ms/step - loss: 0.0284 - accuracy: 0.9995 - val_loss: 0.0438 - val_accuracy: 0.9945\n",
      "Epoch 199/250\n",
      "68/68 [==============================] - 1s 21ms/step - loss: 0.0288 - accuracy: 0.9991 - val_loss: 0.0440 - val_accuracy: 0.9945\n",
      "Epoch 200/250\n",
      "68/68 [==============================] - 1s 21ms/step - loss: 0.0280 - accuracy: 0.9995 - val_loss: 0.0483 - val_accuracy: 0.9945\n",
      "Epoch 201/250\n",
      "68/68 [==============================] - 1s 19ms/step - loss: 0.0305 - accuracy: 0.9991 - val_loss: 0.0553 - val_accuracy: 0.9908\n",
      "Epoch 202/250\n",
      "68/68 [==============================] - 1s 20ms/step - loss: 0.0296 - accuracy: 0.9991 - val_loss: 0.0444 - val_accuracy: 0.9926\n",
      "Epoch 203/250\n",
      "68/68 [==============================] - 1s 21ms/step - loss: 0.0296 - accuracy: 1.0000 - val_loss: 0.0455 - val_accuracy: 0.9945\n",
      "Epoch 204/250\n",
      "68/68 [==============================] - 1s 19ms/step - loss: 0.0301 - accuracy: 0.9995 - val_loss: 0.0478 - val_accuracy: 0.9926\n",
      "Epoch 205/250\n",
      "68/68 [==============================] - 1s 20ms/step - loss: 0.0283 - accuracy: 0.9991 - val_loss: 0.0443 - val_accuracy: 0.9982\n",
      "Epoch 206/250\n",
      "68/68 [==============================] - 2s 32ms/step - loss: 0.0275 - accuracy: 0.9995 - val_loss: 0.0448 - val_accuracy: 0.9945\n",
      "Epoch 207/250\n",
      "68/68 [==============================] - 2s 27ms/step - loss: 0.0270 - accuracy: 0.9995 - val_loss: 0.0401 - val_accuracy: 0.9945\n",
      "Epoch 208/250\n",
      "68/68 [==============================] - 1s 20ms/step - loss: 0.0273 - accuracy: 0.9995 - val_loss: 0.0411 - val_accuracy: 0.9926\n",
      "Epoch 209/250\n",
      "68/68 [==============================] - 1s 21ms/step - loss: 0.0270 - accuracy: 1.0000 - val_loss: 0.0472 - val_accuracy: 0.9890\n",
      "Epoch 210/250\n",
      "68/68 [==============================] - 1s 19ms/step - loss: 0.0274 - accuracy: 1.0000 - val_loss: 0.0434 - val_accuracy: 0.9945\n",
      "Epoch 211/250\n",
      "68/68 [==============================] - 1s 19ms/step - loss: 0.0261 - accuracy: 0.9995 - val_loss: 0.0430 - val_accuracy: 0.9926\n",
      "Epoch 212/250\n",
      "68/68 [==============================] - 1s 19ms/step - loss: 0.0302 - accuracy: 0.9991 - val_loss: 0.0431 - val_accuracy: 0.9926\n",
      "Epoch 213/250\n",
      "68/68 [==============================] - 1s 21ms/step - loss: 0.0277 - accuracy: 0.9995 - val_loss: 0.0471 - val_accuracy: 0.9908\n",
      "Epoch 214/250\n",
      "68/68 [==============================] - 1s 19ms/step - loss: 0.0254 - accuracy: 1.0000 - val_loss: 0.0415 - val_accuracy: 0.9963\n",
      "Epoch 215/250\n",
      "68/68 [==============================] - 1s 21ms/step - loss: 0.0254 - accuracy: 0.9995 - val_loss: 0.0423 - val_accuracy: 0.9963\n",
      "Epoch 216/250\n",
      "68/68 [==============================] - 1s 19ms/step - loss: 0.0282 - accuracy: 1.0000 - val_loss: 0.0472 - val_accuracy: 0.9908\n",
      "Epoch 217/250\n",
      "68/68 [==============================] - 1s 20ms/step - loss: 0.0269 - accuracy: 0.9991 - val_loss: 0.0487 - val_accuracy: 0.9908\n",
      "Epoch 218/250\n",
      "68/68 [==============================] - 1s 19ms/step - loss: 0.0270 - accuracy: 0.9995 - val_loss: 0.0417 - val_accuracy: 0.9926\n",
      "Epoch 219/250\n",
      "68/68 [==============================] - 2s 29ms/step - loss: 0.0224 - accuracy: 0.9995 - val_loss: 0.0377 - val_accuracy: 0.9963\n",
      "Epoch 220/250\n",
      "68/68 [==============================] - 1s 22ms/step - loss: 0.0270 - accuracy: 1.0000 - val_loss: 0.0383 - val_accuracy: 0.9982\n",
      "Epoch 221/250\n",
      "68/68 [==============================] - 1s 19ms/step - loss: 0.0250 - accuracy: 1.0000 - val_loss: 0.0471 - val_accuracy: 0.9926\n",
      "Epoch 222/250\n",
      "68/68 [==============================] - 1s 19ms/step - loss: 0.0253 - accuracy: 0.9986 - val_loss: 0.0433 - val_accuracy: 0.9963\n",
      "Epoch 223/250\n",
      "68/68 [==============================] - 2s 32ms/step - loss: 0.0244 - accuracy: 0.9995 - val_loss: 0.0374 - val_accuracy: 0.9945\n",
      "Epoch 224/250\n",
      "68/68 [==============================] - 1s 19ms/step - loss: 0.0258 - accuracy: 0.9991 - val_loss: 0.0397 - val_accuracy: 0.9926\n",
      "Epoch 225/250\n",
      "68/68 [==============================] - 1s 20ms/step - loss: 0.0267 - accuracy: 0.9995 - val_loss: 0.0467 - val_accuracy: 0.9908\n",
      "Epoch 226/250\n",
      "68/68 [==============================] - 1s 20ms/step - loss: 0.0272 - accuracy: 0.9986 - val_loss: 0.0465 - val_accuracy: 0.9945\n",
      "Epoch 227/250\n",
      "68/68 [==============================] - 2s 23ms/step - loss: 0.0249 - accuracy: 1.0000 - val_loss: 0.0523 - val_accuracy: 0.9871\n",
      "Epoch 228/250\n",
      "68/68 [==============================] - 2s 24ms/step - loss: 0.0273 - accuracy: 0.9995 - val_loss: 0.0397 - val_accuracy: 0.9945\n",
      "Epoch 229/250\n",
      "68/68 [==============================] - 1s 19ms/step - loss: 0.0267 - accuracy: 1.0000 - val_loss: 0.0405 - val_accuracy: 0.9926\n",
      "Epoch 230/250\n",
      "68/68 [==============================] - 1s 19ms/step - loss: 0.0295 - accuracy: 0.9991 - val_loss: 0.0539 - val_accuracy: 0.9926\n",
      "Epoch 231/250\n",
      "68/68 [==============================] - 1s 19ms/step - loss: 0.0297 - accuracy: 0.9991 - val_loss: 0.0475 - val_accuracy: 0.9945\n",
      "Epoch 232/250\n",
      "68/68 [==============================] - 1s 21ms/step - loss: 0.0299 - accuracy: 1.0000 - val_loss: 0.0460 - val_accuracy: 0.9908\n",
      "Epoch 233/250\n",
      "68/68 [==============================] - 1s 21ms/step - loss: 0.0308 - accuracy: 0.9991 - val_loss: 0.0627 - val_accuracy: 0.9835\n",
      "Epoch 234/250\n",
      "68/68 [==============================] - 1s 21ms/step - loss: 0.0269 - accuracy: 1.0000 - val_loss: 0.0467 - val_accuracy: 0.9945\n",
      "Epoch 235/250\n",
      "68/68 [==============================] - 1s 19ms/step - loss: 0.0227 - accuracy: 0.9995 - val_loss: 0.0399 - val_accuracy: 0.9908\n",
      "Epoch 236/250\n",
      "68/68 [==============================] - 1s 20ms/step - loss: 0.0228 - accuracy: 1.0000 - val_loss: 0.0424 - val_accuracy: 0.9926\n",
      "Epoch 237/250\n",
      "68/68 [==============================] - 1s 19ms/step - loss: 0.0254 - accuracy: 0.9995 - val_loss: 0.0463 - val_accuracy: 0.9926\n",
      "Epoch 238/250\n",
      "68/68 [==============================] - 1s 19ms/step - loss: 0.0213 - accuracy: 1.0000 - val_loss: 0.0520 - val_accuracy: 0.9871\n",
      "Epoch 239/250\n",
      "68/68 [==============================] - 1s 20ms/step - loss: 0.0235 - accuracy: 0.9995 - val_loss: 0.0427 - val_accuracy: 0.9871\n",
      "Epoch 240/250\n",
      "68/68 [==============================] - 1s 20ms/step - loss: 0.0233 - accuracy: 0.9995 - val_loss: 0.0376 - val_accuracy: 0.9945\n",
      "Epoch 241/250\n",
      "68/68 [==============================] - 2s 29ms/step - loss: 0.0210 - accuracy: 1.0000 - val_loss: 0.0348 - val_accuracy: 0.9945\n",
      "Epoch 242/250\n",
      "68/68 [==============================] - 1s 20ms/step - loss: 0.0223 - accuracy: 1.0000 - val_loss: 0.0365 - val_accuracy: 0.9926\n",
      "Epoch 243/250\n",
      "68/68 [==============================] - 1s 19ms/step - loss: 0.0245 - accuracy: 0.9995 - val_loss: 0.0430 - val_accuracy: 0.9871\n",
      "Epoch 244/250\n",
      "68/68 [==============================] - 1s 20ms/step - loss: 0.0237 - accuracy: 0.9991 - val_loss: 0.0388 - val_accuracy: 0.9945\n",
      "Epoch 245/250\n",
      "68/68 [==============================] - 1s 20ms/step - loss: 0.0256 - accuracy: 0.9991 - val_loss: 0.0575 - val_accuracy: 0.9871\n",
      "Epoch 246/250\n",
      "68/68 [==============================] - 1s 19ms/step - loss: 0.0214 - accuracy: 0.9991 - val_loss: 0.0401 - val_accuracy: 0.9871\n",
      "Epoch 247/250\n",
      "68/68 [==============================] - 1s 20ms/step - loss: 0.0199 - accuracy: 1.0000 - val_loss: 0.0361 - val_accuracy: 0.9945\n",
      "Epoch 248/250\n",
      "68/68 [==============================] - 1s 19ms/step - loss: 0.0222 - accuracy: 0.9991 - val_loss: 0.0383 - val_accuracy: 0.9945\n",
      "Epoch 249/250\n",
      "68/68 [==============================] - 1s 22ms/step - loss: 0.0239 - accuracy: 0.9995 - val_loss: 0.0506 - val_accuracy: 0.9926\n",
      "Epoch 250/250\n",
      "68/68 [==============================] - 1s 20ms/step - loss: 0.0271 - accuracy: 0.9986 - val_loss: 0.0470 - val_accuracy: 0.9835\n"
     ]
    }
   ],
   "source": [
    "history_enb0 = enb0_model.fit(enb0_xtrain, y_train, batch_size=32, epochs=250, validation_data=(enb0_xtest, y_test), callbacks=[checkpoint_enb0])"
   ]
  },
  {
   "cell_type": "code",
   "execution_count": 22,
   "metadata": {
    "execution": {
     "iopub.execute_input": "2023-08-17T22:29:15.360848Z",
     "iopub.status.busy": "2023-08-17T22:29:15.360523Z",
     "iopub.status.idle": "2023-08-17T22:29:15.374484Z",
     "shell.execute_reply": "2023-08-17T22:29:15.373441Z",
     "shell.execute_reply.started": "2023-08-17T22:29:15.360819Z"
    }
   },
   "outputs": [],
   "source": [
    "df = pd.DataFrame(history_enb0.history)\n",
    "df.to_csv('/kaggle/working/ENB0_history.csv')"
   ]
  },
  {
   "cell_type": "code",
   "execution_count": 20,
   "metadata": {
    "execution": {
     "iopub.execute_input": "2023-08-17T22:30:48.662126Z",
     "iopub.status.busy": "2023-08-17T22:30:48.661591Z",
     "iopub.status.idle": "2023-08-17T22:30:50.962974Z",
     "shell.execute_reply": "2023-08-17T22:30:50.961946Z",
     "shell.execute_reply.started": "2023-08-17T22:30:48.662086Z"
    }
   },
   "outputs": [
    {
     "ename": "TypeError",
     "evalue": "('Keyword argument not understood:', 'score_mode')",
     "output_type": "error",
     "traceback": [
      "\u001b[1;31m---------------------------------------------------------------------------\u001b[0m",
      "\u001b[1;31mTypeError\u001b[0m                                 Traceback (most recent call last)",
      "\u001b[1;32m~\\AppData\\Local\\Temp/ipykernel_20212/4120488027.py\u001b[0m in \u001b[0;36m<module>\u001b[1;34m\u001b[0m\n\u001b[1;32m----> 1\u001b[1;33m \u001b[0menb0_model\u001b[0m \u001b[1;33m=\u001b[0m \u001b[0mkeras\u001b[0m\u001b[1;33m.\u001b[0m\u001b[0mmodels\u001b[0m\u001b[1;33m.\u001b[0m\u001b[0mload_model\u001b[0m\u001b[1;33m(\u001b[0m\u001b[1;34m\"Results/ENB0_Model-134.h5\"\u001b[0m\u001b[1;33m)\u001b[0m\u001b[1;33m\u001b[0m\u001b[1;33m\u001b[0m\u001b[0m\n\u001b[0m",
      "\u001b[1;32mD:\\AnacondaNavigator\\lib\\site-packages\\keras\\utils\\traceback_utils.py\u001b[0m in \u001b[0;36merror_handler\u001b[1;34m(*args, **kwargs)\u001b[0m\n\u001b[0;32m     65\u001b[0m     \u001b[1;32mexcept\u001b[0m \u001b[0mException\u001b[0m \u001b[1;32mas\u001b[0m \u001b[0me\u001b[0m\u001b[1;33m:\u001b[0m  \u001b[1;31m# pylint: disable=broad-except\u001b[0m\u001b[1;33m\u001b[0m\u001b[1;33m\u001b[0m\u001b[0m\n\u001b[0;32m     66\u001b[0m       \u001b[0mfiltered_tb\u001b[0m \u001b[1;33m=\u001b[0m \u001b[0m_process_traceback_frames\u001b[0m\u001b[1;33m(\u001b[0m\u001b[0me\u001b[0m\u001b[1;33m.\u001b[0m\u001b[0m__traceback__\u001b[0m\u001b[1;33m)\u001b[0m\u001b[1;33m\u001b[0m\u001b[1;33m\u001b[0m\u001b[0m\n\u001b[1;32m---> 67\u001b[1;33m       \u001b[1;32mraise\u001b[0m \u001b[0me\u001b[0m\u001b[1;33m.\u001b[0m\u001b[0mwith_traceback\u001b[0m\u001b[1;33m(\u001b[0m\u001b[0mfiltered_tb\u001b[0m\u001b[1;33m)\u001b[0m \u001b[1;32mfrom\u001b[0m \u001b[1;32mNone\u001b[0m\u001b[1;33m\u001b[0m\u001b[1;33m\u001b[0m\u001b[0m\n\u001b[0m\u001b[0;32m     68\u001b[0m     \u001b[1;32mfinally\u001b[0m\u001b[1;33m:\u001b[0m\u001b[1;33m\u001b[0m\u001b[1;33m\u001b[0m\u001b[0m\n\u001b[0;32m     69\u001b[0m       \u001b[1;32mdel\u001b[0m \u001b[0mfiltered_tb\u001b[0m\u001b[1;33m\u001b[0m\u001b[1;33m\u001b[0m\u001b[0m\n",
      "\u001b[1;32mD:\\AnacondaNavigator\\lib\\site-packages\\keras\\utils\\generic_utils.py\u001b[0m in \u001b[0;36mvalidate_kwargs\u001b[1;34m(kwargs, allowed_kwargs, error_message)\u001b[0m\n\u001b[0;32m   1168\u001b[0m   \u001b[1;32mfor\u001b[0m \u001b[0mkwarg\u001b[0m \u001b[1;32min\u001b[0m \u001b[0mkwargs\u001b[0m\u001b[1;33m:\u001b[0m\u001b[1;33m\u001b[0m\u001b[1;33m\u001b[0m\u001b[0m\n\u001b[0;32m   1169\u001b[0m     \u001b[1;32mif\u001b[0m \u001b[0mkwarg\u001b[0m \u001b[1;32mnot\u001b[0m \u001b[1;32min\u001b[0m \u001b[0mallowed_kwargs\u001b[0m\u001b[1;33m:\u001b[0m\u001b[1;33m\u001b[0m\u001b[1;33m\u001b[0m\u001b[0m\n\u001b[1;32m-> 1170\u001b[1;33m       \u001b[1;32mraise\u001b[0m \u001b[0mTypeError\u001b[0m\u001b[1;33m(\u001b[0m\u001b[0merror_message\u001b[0m\u001b[1;33m,\u001b[0m \u001b[0mkwarg\u001b[0m\u001b[1;33m)\u001b[0m\u001b[1;33m\u001b[0m\u001b[1;33m\u001b[0m\u001b[0m\n\u001b[0m\u001b[0;32m   1171\u001b[0m \u001b[1;33m\u001b[0m\u001b[0m\n\u001b[0;32m   1172\u001b[0m \u001b[1;33m\u001b[0m\u001b[0m\n",
      "\u001b[1;31mTypeError\u001b[0m: ('Keyword argument not understood:', 'score_mode')"
     ]
    }
   ],
   "source": [
    "enb0_model = keras.models.load_model(\"Results/ENB0_Model-134.h5\")"
   ]
  },
  {
   "cell_type": "code",
   "execution_count": null,
   "metadata": {
    "execution": {
     "iopub.execute_input": "2023-08-17T22:30:51.877518Z",
     "iopub.status.busy": "2023-08-17T22:30:51.876789Z",
     "iopub.status.idle": "2023-08-17T22:30:52.966470Z",
     "shell.execute_reply": "2023-08-17T22:30:52.965487Z",
     "shell.execute_reply.started": "2023-08-17T22:30:51.877478Z"
    }
   },
   "outputs": [],
   "source": [
    "y_pred = enb0_model.predict(enb0_xtest)\n",
    "\n",
    "pred = []\n",
    "for i in y_pred:\n",
    "    pred.append(np.argmax(i))\n",
    "pred = np.array(pred)\n",
    "\n",
    "real = []\n",
    "for i in y_test:\n",
    "    real.append(np.argmax(i))\n",
    "real = np.array(real)\n",
    "    \n",
    "print(confusion_matrix(real, pred))\n",
    "accuracy_score(real, pred), precision_score(real, pred, average='weighted'), recall_score(real, pred, average='weighted'), f1_score(real, pred, average='weighted')"
   ]
  },
  {
   "cell_type": "code",
   "execution_count": null,
   "metadata": {},
   "outputs": [],
   "source": [
    "y_pred = enb0_model.predict(enb0_xtrain)\n",
    "\n",
    "pred = []\n",
    "for i in y_pred:\n",
    "    pred.append(np.argmax(i))\n",
    "pred = np.array(pred)\n",
    "\n",
    "real = []\n",
    "for i in y_train:\n",
    "    real.append(np.argmax(i))\n",
    "real = np.array(real)\n",
    "    \n",
    "print(confusion_matrix(real, pred))\n",
    "accuracy_score(real, pred), precision_score(real, pred, average='weighted'), recall_score(real, pred, average='weighted'), f1_score(real, pred, average='weighted')"
   ]
  },
  {
   "cell_type": "code",
   "execution_count": 28,
   "metadata": {
    "execution": {
     "iopub.execute_input": "2023-08-17T22:31:01.169283Z",
     "iopub.status.busy": "2023-08-17T22:31:01.168335Z",
     "iopub.status.idle": "2023-08-17T22:31:01.559556Z",
     "shell.execute_reply": "2023-08-17T22:31:01.558454Z",
     "shell.execute_reply.started": "2023-08-17T22:31:01.169214Z"
    }
   },
   "outputs": [
    {
     "data": {
      "image/png": "[encoded data removed]",
      "text/plain": [
       "<Figure size 800x500 with 1 Axes>"
      ]
     },
     "metadata": {},
     "output_type": "display_data"
    }
   ],
   "source": [
    "pd.DataFrame(history_enb0.history).plot(figsize = (8, 5))\n",
    "plt.grid(True)\n",
    "plt.gca().set_ylim(0, 1)\n",
    "plt.savefig(\"/kaggle/working/ENB0_Attention_Graph.png\")\n",
    "plt.show()"
   ]
  },
  {
   "cell_type": "code",
   "execution_count": null,
   "metadata": {},
   "outputs": [],
   "source": []
  }
 ],
 "metadata": {
  "kernelspec": {
   "display_name": "Python 3 (ipykernel)",
   "language": "python",
   "name": "python3"
  },
  "language_info": {
   "codemirror_mode": {
    "name": "ipython",
    "version": 3
   },
   "file_extension": ".py",
   "mimetype": "text/x-python",
   "name": "python",
   "nbconvert_exporter": "python",
   "pygments_lexer": "ipython3",
   "version": "3.9.7"
  }
 },
 "nbformat": 4,
 "nbformat_minor": 4
}
