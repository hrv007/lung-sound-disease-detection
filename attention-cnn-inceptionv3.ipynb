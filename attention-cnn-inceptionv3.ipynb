{
 "cells": [
  {
   "cell_type": "code",
   "execution_count": 1,
   "metadata": {
    "execution": {
     "iopub.execute_input": "2023-08-30T07:08:10.568943Z",
     "iopub.status.busy": "2023-08-30T07:08:10.568577Z",
     "iopub.status.idle": "2023-08-30T07:08:20.004814Z",
     "shell.execute_reply": "2023-08-30T07:08:20.003745Z",
     "shell.execute_reply.started": "2023-08-30T07:08:10.568912Z"
    }
   },
   "outputs": [],
   "source": [
    "import numpy as np\n",
    "import pandas as pd\n",
    "import tensorflow as tf\n",
    "from tensorflow import keras\n",
    "import matplotlib.pyplot as plt\n",
    "from sklearn.model_selection import train_test_split\n",
    "import cv2\n",
    "from sklearn.metrics import accuracy_score, precision_score, recall_score, f1_score, confusion_matrix"
   ]
  },
  {
   "cell_type": "code",
   "execution_count": 2,
   "metadata": {
    "execution": {
     "iopub.execute_input": "2023-08-30T07:08:20.007804Z",
     "iopub.status.busy": "2023-08-30T07:08:20.007031Z",
     "iopub.status.idle": "2023-08-30T07:08:20.033958Z",
     "shell.execute_reply": "2023-08-30T07:08:20.032725Z",
     "shell.execute_reply.started": "2023-08-30T07:08:20.007765Z"
    }
   },
   "outputs": [
    {
     "data": {
      "text/html": [
       "<div>\n",
       "<style scoped>\n",
       "    .dataframe tbody tr th:only-of-type {\n",
       "        vertical-align: middle;\n",
       "    }\n",
       "\n",
       "    .dataframe tbody tr th {\n",
       "        vertical-align: top;\n",
       "    }\n",
       "\n",
       "    .dataframe thead th {\n",
       "        text-align: right;\n",
       "    }\n",
       "</style>\n",
       "<table border=\"1\" class=\"dataframe\">\n",
       "  <thead>\n",
       "    <tr style=\"text-align: right;\">\n",
       "      <th></th>\n",
       "      <th>101</th>\n",
       "      <th>URTI</th>\n",
       "    </tr>\n",
       "  </thead>\n",
       "  <tbody>\n",
       "    <tr>\n",
       "      <th>0</th>\n",
       "      <td>102</td>\n",
       "      <td>Healthy</td>\n",
       "    </tr>\n",
       "    <tr>\n",
       "      <th>1</th>\n",
       "      <td>103</td>\n",
       "      <td>Asthma</td>\n",
       "    </tr>\n",
       "    <tr>\n",
       "      <th>2</th>\n",
       "      <td>104</td>\n",
       "      <td>COPD</td>\n",
       "    </tr>\n",
       "    <tr>\n",
       "      <th>3</th>\n",
       "      <td>105</td>\n",
       "      <td>URTI</td>\n",
       "    </tr>\n",
       "    <tr>\n",
       "      <th>4</th>\n",
       "      <td>106</td>\n",
       "      <td>COPD</td>\n",
       "    </tr>\n",
       "  </tbody>\n",
       "</table>\n",
       "</div>"
      ],
      "text/plain": [
       "   101     URTI\n",
       "0  102  Healthy\n",
       "1  103   Asthma\n",
       "2  104     COPD\n",
       "3  105     URTI\n",
       "4  106     COPD"
      ]
     },
     "execution_count": 2,
     "metadata": {},
     "output_type": "execute_result"
    }
   ],
   "source": [
    "df = pd.read_csv(\"ICBHI 2017/Respiratory_Sound_Database/Respiratory_Sound_Database/patient_diagnosis.csv\")\n",
    "df.head()"
   ]
  },
  {
   "cell_type": "code",
   "execution_count": 3,
   "metadata": {
    "execution": {
     "iopub.execute_input": "2023-08-30T07:08:20.036248Z",
     "iopub.status.busy": "2023-08-30T07:08:20.035834Z",
     "iopub.status.idle": "2023-08-30T07:08:20.049787Z",
     "shell.execute_reply": "2023-08-30T07:08:20.048567Z",
     "shell.execute_reply.started": "2023-08-30T07:08:20.036211Z"
    }
   },
   "outputs": [
    {
     "data": {
      "text/plain": [
       "array(['Healthy', 'Asthma', 'COPD', 'URTI', 'LRTI', 'Bronchiectasis',\n",
       "       'Pneumonia', 'Bronchiolitis'], dtype=object)"
      ]
     },
     "execution_count": 3,
     "metadata": {},
     "output_type": "execute_result"
    }
   ],
   "source": [
    "df['URTI'].unique()"
   ]
  },
  {
   "cell_type": "code",
   "execution_count": 4,
   "metadata": {
    "execution": {
     "iopub.execute_input": "2023-08-30T07:08:20.053719Z",
     "iopub.status.busy": "2023-08-30T07:08:20.053157Z",
     "iopub.status.idle": "2023-08-30T07:08:20.059971Z",
     "shell.execute_reply": "2023-08-30T07:08:20.058742Z",
     "shell.execute_reply.started": "2023-08-30T07:08:20.053681Z"
    }
   },
   "outputs": [],
   "source": [
    "sr_no = {'101':'URTI'}\n",
    "for i, j in zip(df['101'].unique(), df['URTI']):\n",
    "    sr_no[str(i)] = j"
   ]
  },
  {
   "cell_type": "code",
   "execution_count": 5,
   "metadata": {
    "execution": {
     "iopub.execute_input": "2023-08-30T07:08:20.062657Z",
     "iopub.status.busy": "2023-08-30T07:08:20.061886Z",
     "iopub.status.idle": "2023-08-30T07:08:20.073009Z",
     "shell.execute_reply": "2023-08-30T07:08:20.071766Z",
     "shell.execute_reply.started": "2023-08-30T07:08:20.062621Z"
    }
   },
   "outputs": [
    {
     "data": {
      "text/plain": [
       "dict_keys(['101', '102', '103', '104', '105', '106', '107', '108', '109', '110', '111', '112', '113', '114', '115', '116', '117', '118', '119', '120', '121', '122', '123', '124', '125', '126', '127', '128', '129', '130', '131', '132', '133', '134', '135', '136', '137', '138', '139', '140', '141', '142', '143', '144', '145', '146', '147', '148', '149', '150', '151', '152', '153', '154', '155', '156', '157', '158', '159', '160', '161', '162', '163', '164', '165', '166', '167', '168', '169', '170', '171', '172', '173', '174', '175', '176', '177', '178', '179', '180', '181', '182', '183', '184', '185', '186', '187', '188', '189', '190', '191', '192', '193', '194', '195', '196', '197', '198', '199', '200', '201', '202', '203', '204', '205', '206', '207', '208', '209', '210', '211', '212', '213', '214', '215', '216', '217', '218', '219', '220', '221', '222', '223', '224', '225', '226'])"
      ]
     },
     "execution_count": 5,
     "metadata": {},
     "output_type": "execute_result"
    }
   ],
   "source": [
    "sr_no.keys()"
   ]
  },
  {
   "cell_type": "code",
   "execution_count": 6,
   "metadata": {
    "execution": {
     "iopub.execute_input": "2023-08-30T07:08:20.075797Z",
     "iopub.status.busy": "2023-08-30T07:08:20.074890Z",
     "iopub.status.idle": "2023-08-30T07:08:20.351996Z",
     "shell.execute_reply": "2023-08-30T07:08:20.350822Z",
     "shell.execute_reply.started": "2023-08-30T07:08:20.075771Z"
    }
   },
   "outputs": [],
   "source": [
    "import os\n",
    "sound_files = os.listdir('Mel Spectrogram/Original')"
   ]
  },
  {
   "cell_type": "code",
   "execution_count": 7,
   "metadata": {
    "execution": {
     "iopub.execute_input": "2023-08-30T07:08:20.353882Z",
     "iopub.status.busy": "2023-08-30T07:08:20.353469Z",
     "iopub.status.idle": "2023-08-30T07:08:20.361477Z",
     "shell.execute_reply": "2023-08-30T07:08:20.360336Z",
     "shell.execute_reply.started": "2023-08-30T07:08:20.353845Z"
    }
   },
   "outputs": [],
   "source": [
    "req_file_names = []\n",
    "\n",
    "for i in sound_files:\n",
    "      req_file_names.append([i])"
   ]
  },
  {
   "cell_type": "code",
   "execution_count": 8,
   "metadata": {
    "execution": {
     "iopub.execute_input": "2023-08-30T07:08:20.363939Z",
     "iopub.status.busy": "2023-08-30T07:08:20.363229Z",
     "iopub.status.idle": "2023-08-30T07:08:20.374038Z",
     "shell.execute_reply": "2023-08-30T07:08:20.372963Z",
     "shell.execute_reply.started": "2023-08-30T07:08:20.363904Z"
    }
   },
   "outputs": [],
   "source": [
    "labels = []\n",
    "for i in range(len(req_file_names)):\n",
    "    req_file_names[i].append(sr_no[req_file_names[i][0][:3]])\n",
    "    labels.append(sr_no[req_file_names[i][0][:3]])"
   ]
  },
  {
   "cell_type": "code",
   "execution_count": 9,
   "metadata": {
    "execution": {
     "iopub.execute_input": "2023-08-30T07:08:20.376461Z",
     "iopub.status.busy": "2023-08-30T07:08:20.375928Z",
     "iopub.status.idle": "2023-08-30T07:08:20.385482Z",
     "shell.execute_reply": "2023-08-30T07:08:20.384341Z",
     "shell.execute_reply.started": "2023-08-30T07:08:20.376416Z"
    }
   },
   "outputs": [],
   "source": [
    "labels *= 3"
   ]
  },
  {
   "cell_type": "code",
   "execution_count": 10,
   "metadata": {
    "execution": {
     "iopub.execute_input": "2023-08-30T07:08:20.390842Z",
     "iopub.status.busy": "2023-08-30T07:08:20.390488Z",
     "iopub.status.idle": "2023-08-30T07:09:19.930714Z",
     "shell.execute_reply": "2023-08-30T07:09:19.929613Z",
     "shell.execute_reply.started": "2023-08-30T07:08:20.390814Z"
    }
   },
   "outputs": [],
   "source": [
    "x = []\n",
    "\n",
    "for i in req_file_names:\n",
    "    img = cv2.imread('Mel Spectrogram/Time Stretch/'+i[0])\n",
    "    img = cv2.resize(img, (350, 350))\n",
    "    x.append(img)\n",
    "\n",
    "for i in req_file_names:\n",
    "    img = cv2.imread('Mel Spectrogram/Pitch Shift/'+i[0])\n",
    "    img = cv2.resize(img, (350, 350))\n",
    "    x.append(img)\n",
    "    \n",
    "for i in req_file_names:\n",
    "    img = cv2.imread('Mel Spectrogram/Audio Shift/'+i[0])\n",
    "    img = cv2.resize(img, (350, 350))\n",
    "    x.append(img)\n",
    "\n",
    "# x = np.array(x)\n",
    "# print(x.shape)"
   ]
  },
  {
   "cell_type": "code",
   "execution_count": 11,
   "metadata": {
    "execution": {
     "iopub.execute_input": "2023-08-30T07:09:19.932628Z",
     "iopub.status.busy": "2023-08-30T07:09:19.932253Z",
     "iopub.status.idle": "2023-08-30T07:09:19.941268Z",
     "shell.execute_reply": "2023-08-30T07:09:19.940024Z",
     "shell.execute_reply.started": "2023-08-30T07:09:19.932596Z"
    }
   },
   "outputs": [],
   "source": [
    "x_new = []\n",
    "y = []\n",
    "\n",
    "for i in range(len(labels)):\n",
    "    if labels[i]=='Asthma' or labels[i]=='Bronchiolitis':\n",
    "        continue\n",
    "    x_new.append(x[i])\n",
    "    y.append(labels[i])"
   ]
  },
  {
   "cell_type": "code",
   "execution_count": 12,
   "metadata": {
    "execution": {
     "iopub.execute_input": "2023-08-30T07:09:19.943436Z",
     "iopub.status.busy": "2023-08-30T07:09:19.942977Z",
     "iopub.status.idle": "2023-08-30T07:09:20.244953Z",
     "shell.execute_reply": "2023-08-30T07:09:20.243976Z",
     "shell.execute_reply.started": "2023-08-30T07:09:19.943393Z"
    }
   },
   "outputs": [
    {
     "name": "stdout",
     "output_type": "stream",
     "text": [
      "(2718, 350, 350, 3)\n"
     ]
    }
   ],
   "source": [
    "x = np.array(x_new)\n",
    "print(x.shape)"
   ]
  },
  {
   "cell_type": "code",
   "execution_count": 13,
   "metadata": {
    "execution": {
     "iopub.execute_input": "2023-08-30T07:09:20.247531Z",
     "iopub.status.busy": "2023-08-30T07:09:20.246467Z",
     "iopub.status.idle": "2023-08-30T07:09:20.252317Z",
     "shell.execute_reply": "2023-08-30T07:09:20.251212Z",
     "shell.execute_reply.started": "2023-08-30T07:09:20.247494Z"
    }
   },
   "outputs": [],
   "source": [
    "req_file_names *= 3"
   ]
  },
  {
   "cell_type": "code",
   "execution_count": 14,
   "metadata": {
    "execution": {
     "iopub.execute_input": "2023-08-30T07:09:20.254454Z",
     "iopub.status.busy": "2023-08-30T07:09:20.254065Z",
     "iopub.status.idle": "2023-08-30T07:09:20.265722Z",
     "shell.execute_reply": "2023-08-30T07:09:20.264707Z",
     "shell.execute_reply.started": "2023-08-30T07:09:20.254420Z"
    }
   },
   "outputs": [
    {
     "data": {
      "text/plain": [
       "(2718,)"
      ]
     },
     "execution_count": 14,
     "metadata": {},
     "output_type": "execute_result"
    }
   ],
   "source": [
    "y = np.array(y)\n",
    "y.shape"
   ]
  },
  {
   "cell_type": "code",
   "execution_count": 15,
   "metadata": {
    "execution": {
     "iopub.execute_input": "2023-08-30T07:09:20.268535Z",
     "iopub.status.busy": "2023-08-30T07:09:20.268167Z",
     "iopub.status.idle": "2023-08-30T07:09:20.280381Z",
     "shell.execute_reply": "2023-08-30T07:09:20.279423Z",
     "shell.execute_reply.started": "2023-08-30T07:09:20.268481Z"
    }
   },
   "outputs": [],
   "source": [
    "one_hot_y = np.array(pd.get_dummies(y))"
   ]
  },
  {
   "cell_type": "code",
   "execution_count": 16,
   "metadata": {
    "execution": {
     "iopub.execute_input": "2023-08-30T07:09:20.282260Z",
     "iopub.status.busy": "2023-08-30T07:09:20.281849Z",
     "iopub.status.idle": "2023-08-30T07:09:20.584805Z",
     "shell.execute_reply": "2023-08-30T07:09:20.583885Z",
     "shell.execute_reply.started": "2023-08-30T07:09:20.282228Z"
    }
   },
   "outputs": [
    {
     "name": "stdout",
     "output_type": "stream",
     "text": [
      "(2174, 350, 350, 3) (2174, 6) (544, 350, 350, 3)\n"
     ]
    }
   ],
   "source": [
    "x_train, x_test, y_train, y_test = train_test_split(x, one_hot_y, test_size=0.2, random_state=39, stratify=y)\n",
    "print(x_train.shape, y_train.shape, x_test.shape)"
   ]
  },
  {
   "cell_type": "code",
   "execution_count": 17,
   "metadata": {
    "execution": {
     "iopub.execute_input": "2023-08-30T07:09:20.586668Z",
     "iopub.status.busy": "2023-08-30T07:09:20.586314Z",
     "iopub.status.idle": "2023-08-30T07:09:26.969917Z",
     "shell.execute_reply": "2023-08-30T07:09:26.968909Z",
     "shell.execute_reply.started": "2023-08-30T07:09:20.586635Z"
    }
   },
   "outputs": [
    {
     "name": "stdout",
     "output_type": "stream",
     "text": [
      "Downloading data from https://storage.googleapis.com/tensorflow/keras-applications/inception_v3/inception_v3_weights_tf_dim_ordering_tf_kernels_notop.h5\n",
      "87916544/87910968 [==============================] - 11s 0us/step\n",
      "87924736/87910968 [==============================] - 11s 0us/step\n"
     ]
    }
   ],
   "source": [
    "inception_wo_top = keras.applications.inception_v3.InceptionV3(include_top=False, weights='imagenet', input_shape=(350,350,3))"
   ]
  },
  {
   "cell_type": "code",
   "execution_count": 18,
   "metadata": {
    "execution": {
     "iopub.execute_input": "2023-08-30T07:09:26.971965Z",
     "iopub.status.busy": "2023-08-30T07:09:26.971595Z",
     "iopub.status.idle": "2023-08-30T07:09:49.167645Z",
     "shell.execute_reply": "2023-08-30T07:09:49.166565Z",
     "shell.execute_reply.started": "2023-08-30T07:09:26.971920Z"
    }
   },
   "outputs": [],
   "source": [
    "inception_xtrain = inception_wo_top.predict(x_train)\n",
    "inception_xtest = inception_wo_top.predict(x_test)"
   ]
  },
  {
   "cell_type": "code",
   "execution_count": 19,
   "metadata": {
    "execution": {
     "iopub.execute_input": "2023-08-30T07:09:49.169674Z",
     "iopub.status.busy": "2023-08-30T07:09:49.169304Z",
     "iopub.status.idle": "2023-08-30T07:09:49.295042Z",
     "shell.execute_reply": "2023-08-30T07:09:49.294091Z",
     "shell.execute_reply.started": "2023-08-30T07:09:49.169635Z"
    }
   },
   "outputs": [
    {
     "name": "stdout",
     "output_type": "stream",
     "text": [
      "Model: \"model\"\n",
      "__________________________________________________________________________________________________\n",
      " Layer (type)                   Output Shape         Param #     Connected to                     \n",
      "==================================================================================================\n",
      " input_2 (InputLayer)           [(None, 9, 9, 2048)  0           []                               \n",
      "                                ]                                                                 \n",
      "                                                                                                  \n",
      " attention (Attention)          (None, 9, 9, 2048)   0           ['input_2[0][0]',                \n",
      "                                                                  'input_2[0][0]']                \n",
      "                                                                                                  \n",
      " flatten (Flatten)              (None, 165888)       0           ['attention[0][0]']              \n",
      "                                                                                                  \n",
      " dense (Dense)                  (None, 128)          21233792    ['flatten[0][0]']                \n",
      "                                                                                                  \n",
      " dropout (Dropout)              (None, 128)          0           ['dense[0][0]']                  \n",
      "                                                                                                  \n",
      " batch_normalization_94 (BatchN  (None, 128)         512         ['dropout[0][0]']                \n",
      " ormalization)                                                                                    \n",
      "                                                                                                  \n",
      " dense_1 (Dense)                (None, 64)           8256        ['batch_normalization_94[0][0]'] \n",
      "                                                                                                  \n",
      " dense_2 (Dense)                (None, 6)            390         ['dense_1[0][0]']                \n",
      "                                                                                                  \n",
      "==================================================================================================\n",
      "Total params: 21,242,950\n",
      "Trainable params: 21,242,694\n",
      "Non-trainable params: 256\n",
      "__________________________________________________________________________________________________\n"
     ]
    }
   ],
   "source": [
    "input_inception = keras.layers.Input(shape=inception_xtrain.shape[1:])\n",
    "\n",
    "# inception_layer = inception_wo_top(input_inception)\n",
    "\n",
    "# random = np.random.random(inception_layer.shape[1:])\n",
    "\n",
    "attention = keras.layers.Attention()([input_inception, input_inception])\n",
    "flatten = keras.layers.Flatten()(attention)\n",
    "\n",
    "dense1 = keras.layers.Dense(128, activation='relu')(flatten)\n",
    "do1 = keras.layers.Dropout(0.3)(dense1)\n",
    "bn1 = keras.layers.BatchNormalization()(do1)\n",
    "dense2 = keras.layers.Dense(64, activation='relu')(bn1)\n",
    "output = keras.layers.Dense(6, activation='softmax')(dense2)\n",
    "\n",
    "inception_model = keras.Model(inputs=input_inception, outputs=output)\n",
    "inception_model.summary()"
   ]
  },
  {
   "cell_type": "code",
   "execution_count": 20,
   "metadata": {
    "execution": {
     "iopub.execute_input": "2023-08-30T07:09:49.296995Z",
     "iopub.status.busy": "2023-08-30T07:09:49.296656Z",
     "iopub.status.idle": "2023-08-30T07:09:49.318090Z",
     "shell.execute_reply": "2023-08-30T07:09:49.317200Z",
     "shell.execute_reply.started": "2023-08-30T07:09:49.296961Z"
    }
   },
   "outputs": [],
   "source": [
    "checkpoint_inception = keras.callbacks.ModelCheckpoint('Results/Inception_Models/Inception_Model-{epoch:02d}.h5', save_best_only=True, initial_value_threshold=0.9980)\n",
    "\n",
    "inception_model.compile(optimizer=keras.optimizers.Adam(3e-6), loss='categorical_crossentropy', metrics=['accuracy'])"
   ]
  },
  {
   "cell_type": "code",
   "execution_count": 21,
   "metadata": {
    "execution": {
     "iopub.execute_input": "2023-08-30T07:09:49.319824Z",
     "iopub.status.busy": "2023-08-30T07:09:49.319351Z",
     "iopub.status.idle": "2023-08-30T07:18:15.345766Z",
     "shell.execute_reply": "2023-08-30T07:18:15.344625Z",
     "shell.execute_reply.started": "2023-08-30T07:09:49.319789Z"
    }
   },
   "outputs": [
    {
     "name": "stdout",
     "output_type": "stream",
     "text": [
      "Epoch 1/250\n",
      "68/68 [==============================] - 38s 407ms/step - loss: 1.6306 - accuracy: 0.3625 - val_loss: 0.8896 - val_accuracy: 0.7518\n",
      "Epoch 2/250\n",
      "68/68 [==============================] - 40s 596ms/step - loss: 1.0901 - accuracy: 0.6817 - val_loss: 0.6539 - val_accuracy: 0.8603\n",
      "Epoch 3/250\n",
      "68/68 [==============================] - 31s 466ms/step - loss: 0.8913 - accuracy: 0.7792 - val_loss: 0.6457 - val_accuracy: 0.8566\n",
      "Epoch 4/250\n",
      "68/68 [==============================] - 26s 382ms/step - loss: 0.8032 - accuracy: 0.8266 - val_loss: 0.5659 - val_accuracy: 0.8768\n",
      "Epoch 5/250\n",
      "68/68 [==============================] - 25s 378ms/step - loss: 0.7659 - accuracy: 0.8404 - val_loss: 0.5642 - val_accuracy: 0.8750\n",
      "Epoch 6/250\n",
      "68/68 [==============================] - 30s 452ms/step - loss: 0.7073 - accuracy: 0.8615 - val_loss: 0.5552 - val_accuracy: 0.8768\n",
      "Epoch 7/250\n",
      "68/68 [==============================] - 42s 621ms/step - loss: 0.6722 - accuracy: 0.8740 - val_loss: 0.5223 - val_accuracy: 0.8768\n",
      "Epoch 8/250\n",
      "68/68 [==============================] - 20s 292ms/step - loss: 0.6610 - accuracy: 0.8758 - val_loss: 0.5041 - val_accuracy: 0.8879\n",
      "Epoch 9/250\n",
      "68/68 [==============================] - 10s 141ms/step - loss: 0.6298 - accuracy: 0.8818 - val_loss: 0.6467 - val_accuracy: 0.8199\n",
      "Epoch 10/250\n",
      "68/68 [==============================] - 33s 496ms/step - loss: 0.6097 - accuracy: 0.8914 - val_loss: 0.4834 - val_accuracy: 0.8915\n",
      "Epoch 11/250\n",
      "68/68 [==============================] - 40s 593ms/step - loss: 0.5889 - accuracy: 0.8988 - val_loss: 0.4631 - val_accuracy: 0.8934\n",
      "Epoch 12/250\n",
      "68/68 [==============================] - 51s 765ms/step - loss: 0.5782 - accuracy: 0.9057 - val_loss: 0.4357 - val_accuracy: 0.8915\n",
      "Epoch 13/250\n",
      "68/68 [==============================] - 10s 141ms/step - loss: 0.5613 - accuracy: 0.9080 - val_loss: 0.4360 - val_accuracy: 0.8915\n",
      "Epoch 14/250\n",
      "68/68 [==============================] - 9s 139ms/step - loss: 0.5348 - accuracy: 0.9140 - val_loss: 0.4682 - val_accuracy: 0.9007\n",
      "Epoch 15/250\n",
      "68/68 [==============================] - 36s 537ms/step - loss: 0.5352 - accuracy: 0.9144 - val_loss: 0.4064 - val_accuracy: 0.9026\n",
      "Epoch 16/250\n",
      "68/68 [==============================] - 77s 1s/step - loss: 0.5000 - accuracy: 0.9287 - val_loss: 0.3953 - val_accuracy: 0.9118\n",
      "Epoch 17/250\n",
      "68/68 [==============================] - 10s 140ms/step - loss: 0.4928 - accuracy: 0.9310 - val_loss: 0.4005 - val_accuracy: 0.9136\n",
      "Epoch 18/250\n",
      "68/68 [==============================] - 10s 141ms/step - loss: 0.4822 - accuracy: 0.9301 - val_loss: 0.4088 - val_accuracy: 0.9191\n",
      "Epoch 19/250\n",
      "68/68 [==============================] - 128s 2s/step - loss: 0.4599 - accuracy: 0.9407 - val_loss: 0.3633 - val_accuracy: 0.9173\n",
      "Epoch 20/250\n",
      "68/68 [==============================] - 32s 479ms/step - loss: 0.4514 - accuracy: 0.9425 - val_loss: 0.3621 - val_accuracy: 0.9338\n",
      "Epoch 21/250\n",
      "68/68 [==============================] - 10s 140ms/step - loss: 0.4357 - accuracy: 0.9517 - val_loss: 0.3781 - val_accuracy: 0.9228\n",
      "Epoch 22/250\n",
      "68/68 [==============================] - 30s 443ms/step - loss: 0.4227 - accuracy: 0.9485 - val_loss: 0.3541 - val_accuracy: 0.9246\n",
      "Epoch 23/250\n",
      "68/68 [==============================] - 23s 343ms/step - loss: 0.4130 - accuracy: 0.9572 - val_loss: 0.3364 - val_accuracy: 0.9283\n",
      "Epoch 24/250\n",
      "68/68 [==============================] - 10s 140ms/step - loss: 0.3995 - accuracy: 0.9577 - val_loss: 0.3421 - val_accuracy: 0.9283\n",
      "Epoch 25/250\n",
      "68/68 [==============================] - 10s 142ms/step - loss: 0.3874 - accuracy: 0.9641 - val_loss: 0.3539 - val_accuracy: 0.9357\n",
      "Epoch 26/250\n",
      "68/68 [==============================] - 27s 403ms/step - loss: 0.3810 - accuracy: 0.9637 - val_loss: 0.3257 - val_accuracy: 0.9320\n",
      "Epoch 27/250\n",
      "68/68 [==============================] - 52s 775ms/step - loss: 0.3729 - accuracy: 0.9609 - val_loss: 0.3154 - val_accuracy: 0.9283\n",
      "Epoch 28/250\n",
      "68/68 [==============================] - 10s 142ms/step - loss: 0.3553 - accuracy: 0.9678 - val_loss: 0.3160 - val_accuracy: 0.9357\n",
      "Epoch 29/250\n",
      "68/68 [==============================] - 10s 142ms/step - loss: 0.3605 - accuracy: 0.9706 - val_loss: 0.3194 - val_accuracy: 0.9412\n",
      "Epoch 30/250\n",
      "68/68 [==============================] - 27s 403ms/step - loss: 0.3468 - accuracy: 0.9747 - val_loss: 0.2981 - val_accuracy: 0.9375\n",
      "Epoch 31/250\n",
      "68/68 [==============================] - 10s 142ms/step - loss: 0.3442 - accuracy: 0.9719 - val_loss: 0.3065 - val_accuracy: 0.9412\n",
      "Epoch 32/250\n",
      "68/68 [==============================] - 23s 345ms/step - loss: 0.3264 - accuracy: 0.9747 - val_loss: 0.2806 - val_accuracy: 0.9320\n",
      "Epoch 33/250\n",
      "68/68 [==============================] - 10s 141ms/step - loss: 0.3240 - accuracy: 0.9784 - val_loss: 0.2886 - val_accuracy: 0.9393\n",
      "Epoch 34/250\n",
      "68/68 [==============================] - 112s 2s/step - loss: 0.3170 - accuracy: 0.9765 - val_loss: 0.2676 - val_accuracy: 0.9412\n",
      "Epoch 35/250\n",
      "68/68 [==============================] - 9s 137ms/step - loss: 0.3055 - accuracy: 0.9816 - val_loss: 0.2858 - val_accuracy: 0.9412\n",
      "Epoch 36/250\n",
      "68/68 [==============================] - 165s 2s/step - loss: 0.3020 - accuracy: 0.9802 - val_loss: 0.2669 - val_accuracy: 0.9412\n",
      "Epoch 37/250\n",
      "68/68 [==============================] - 41s 611ms/step - loss: 0.2947 - accuracy: 0.9853 - val_loss: 0.2504 - val_accuracy: 0.9357\n",
      "Epoch 38/250\n",
      "68/68 [==============================] - 10s 142ms/step - loss: 0.2810 - accuracy: 0.9834 - val_loss: 0.2661 - val_accuracy: 0.9449\n",
      "Epoch 39/250\n",
      "68/68 [==============================] - 10s 141ms/step - loss: 0.2874 - accuracy: 0.9825 - val_loss: 0.2698 - val_accuracy: 0.9485\n",
      "Epoch 40/250\n",
      "68/68 [==============================] - 10s 141ms/step - loss: 0.2713 - accuracy: 0.9876 - val_loss: 0.2676 - val_accuracy: 0.9430\n",
      "Epoch 41/250\n",
      "68/68 [==============================] - 33s 493ms/step - loss: 0.2598 - accuracy: 0.9885 - val_loss: 0.2451 - val_accuracy: 0.9430\n",
      "Epoch 42/250\n",
      "68/68 [==============================] - 48s 708ms/step - loss: 0.2459 - accuracy: 0.9899 - val_loss: 0.2424 - val_accuracy: 0.9504\n",
      "Epoch 43/250\n",
      "68/68 [==============================] - 10s 140ms/step - loss: 0.2501 - accuracy: 0.9899 - val_loss: 0.2438 - val_accuracy: 0.9430\n",
      "Epoch 44/250\n",
      "68/68 [==============================] - 42s 626ms/step - loss: 0.2450 - accuracy: 0.9908 - val_loss: 0.2417 - val_accuracy: 0.9412\n",
      "Epoch 45/250\n",
      "68/68 [==============================] - 57s 842ms/step - loss: 0.2513 - accuracy: 0.9899 - val_loss: 0.2339 - val_accuracy: 0.9449\n",
      "Epoch 46/250\n",
      "68/68 [==============================] - 89s 1s/step - loss: 0.2310 - accuracy: 0.9926 - val_loss: 0.2333 - val_accuracy: 0.9522\n",
      "Epoch 47/250\n",
      "68/68 [==============================] - 10s 142ms/step - loss: 0.2295 - accuracy: 0.9917 - val_loss: 0.2356 - val_accuracy: 0.9430\n",
      "Epoch 48/250\n",
      "68/68 [==============================] - 49s 727ms/step - loss: 0.2400 - accuracy: 0.9908 - val_loss: 0.2299 - val_accuracy: 0.9467\n",
      "Epoch 49/250\n",
      "68/68 [==============================] - 10s 141ms/step - loss: 0.2237 - accuracy: 0.9922 - val_loss: 0.2301 - val_accuracy: 0.9485\n",
      "Epoch 50/250\n",
      "68/68 [==============================] - 10s 141ms/step - loss: 0.2279 - accuracy: 0.9940 - val_loss: 0.2385 - val_accuracy: 0.9430\n",
      "Epoch 51/250\n",
      "68/68 [==============================] - 26s 393ms/step - loss: 0.2225 - accuracy: 0.9931 - val_loss: 0.2148 - val_accuracy: 0.9467\n",
      "Epoch 52/250\n",
      "68/68 [==============================] - 10s 142ms/step - loss: 0.2158 - accuracy: 0.9954 - val_loss: 0.2175 - val_accuracy: 0.9522\n",
      "Epoch 53/250\n",
      "68/68 [==============================] - 30s 447ms/step - loss: 0.2040 - accuracy: 0.9931 - val_loss: 0.2053 - val_accuracy: 0.9467\n",
      "Epoch 54/250\n",
      "68/68 [==============================] - 10s 141ms/step - loss: 0.1985 - accuracy: 0.9931 - val_loss: 0.2105 - val_accuracy: 0.9540\n",
      "Epoch 55/250\n",
      "68/68 [==============================] - 10s 144ms/step - loss: 0.2005 - accuracy: 0.9936 - val_loss: 0.2073 - val_accuracy: 0.9540\n",
      "Epoch 56/250\n",
      "68/68 [==============================] - 10s 144ms/step - loss: 0.1929 - accuracy: 0.9959 - val_loss: 0.2084 - val_accuracy: 0.9559\n",
      "Epoch 57/250\n",
      "68/68 [==============================] - 26s 390ms/step - loss: 0.1952 - accuracy: 0.9949 - val_loss: 0.2046 - val_accuracy: 0.9596\n"
     ]
    },
    {
     "name": "stdout",
     "output_type": "stream",
     "text": [
      "Epoch 58/250\n",
      "68/68 [==============================] - 31s 456ms/step - loss: 0.1805 - accuracy: 0.9972 - val_loss: 0.2001 - val_accuracy: 0.9522\n",
      "Epoch 59/250\n",
      "68/68 [==============================] - 26s 379ms/step - loss: 0.1789 - accuracy: 0.9977 - val_loss: 0.1848 - val_accuracy: 0.9522\n",
      "Epoch 60/250\n",
      "68/68 [==============================] - 10s 141ms/step - loss: 0.1863 - accuracy: 0.9963 - val_loss: 0.1893 - val_accuracy: 0.9577\n",
      "Epoch 61/250\n",
      "68/68 [==============================] - 10s 142ms/step - loss: 0.1726 - accuracy: 0.9972 - val_loss: 0.1962 - val_accuracy: 0.9559\n",
      "Epoch 62/250\n",
      "68/68 [==============================] - 10s 143ms/step - loss: 0.1705 - accuracy: 0.9972 - val_loss: 0.1872 - val_accuracy: 0.9559\n",
      "Epoch 63/250\n",
      "68/68 [==============================] - 10s 146ms/step - loss: 0.1628 - accuracy: 0.9986 - val_loss: 0.2014 - val_accuracy: 0.9504\n",
      "Epoch 64/250\n",
      "68/68 [==============================] - 10s 143ms/step - loss: 0.1599 - accuracy: 0.9977 - val_loss: 0.1863 - val_accuracy: 0.9596\n",
      "Epoch 65/250\n",
      "68/68 [==============================] - 87s 1s/step - loss: 0.1543 - accuracy: 0.9982 - val_loss: 0.1829 - val_accuracy: 0.9559\n",
      "Epoch 66/250\n",
      "68/68 [==============================] - 23s 337ms/step - loss: 0.1499 - accuracy: 0.9995 - val_loss: 0.1817 - val_accuracy: 0.9559\n",
      "Epoch 67/250\n",
      "68/68 [==============================] - 101s 1s/step - loss: 0.1465 - accuracy: 0.9986 - val_loss: 0.1765 - val_accuracy: 0.9559\n",
      "Epoch 68/250\n",
      "68/68 [==============================] - 10s 141ms/step - loss: 0.1554 - accuracy: 0.9986 - val_loss: 0.1820 - val_accuracy: 0.9577\n",
      "Epoch 69/250\n",
      "68/68 [==============================] - 10s 140ms/step - loss: 0.1475 - accuracy: 0.9977 - val_loss: 0.1822 - val_accuracy: 0.9522\n",
      "Epoch 70/250\n",
      "68/68 [==============================] - 10s 141ms/step - loss: 0.1403 - accuracy: 0.9991 - val_loss: 0.1770 - val_accuracy: 0.9559\n",
      "Epoch 71/250\n",
      "68/68 [==============================] - 10s 141ms/step - loss: 0.1422 - accuracy: 0.9986 - val_loss: 0.1862 - val_accuracy: 0.9559\n",
      "Epoch 72/250\n",
      "68/68 [==============================] - 12s 182ms/step - loss: 0.1353 - accuracy: 0.9991 - val_loss: 0.1706 - val_accuracy: 0.9559\n",
      "Epoch 73/250\n",
      "68/68 [==============================] - 10s 142ms/step - loss: 0.1366 - accuracy: 0.9991 - val_loss: 0.1721 - val_accuracy: 0.9596\n",
      "Epoch 74/250\n",
      "68/68 [==============================] - 10s 143ms/step - loss: 0.1363 - accuracy: 0.9986 - val_loss: 0.1814 - val_accuracy: 0.9577\n",
      "Epoch 75/250\n",
      "68/68 [==============================] - 10s 142ms/step - loss: 0.1349 - accuracy: 0.9982 - val_loss: 0.1714 - val_accuracy: 0.9540\n",
      "Epoch 76/250\n",
      "68/68 [==============================] - 10s 144ms/step - loss: 0.1278 - accuracy: 0.9991 - val_loss: 0.1721 - val_accuracy: 0.9577\n",
      "Epoch 77/250\n",
      "68/68 [==============================] - 18s 274ms/step - loss: 0.1273 - accuracy: 0.9977 - val_loss: 0.1667 - val_accuracy: 0.9559\n",
      "Epoch 78/250\n",
      "68/68 [==============================] - 16s 237ms/step - loss: 0.1214 - accuracy: 0.9995 - val_loss: 0.1585 - val_accuracy: 0.9577\n",
      "Epoch 79/250\n",
      "68/68 [==============================] - 10s 143ms/step - loss: 0.1226 - accuracy: 0.9982 - val_loss: 0.1627 - val_accuracy: 0.9596\n",
      "Epoch 80/250\n",
      "68/68 [==============================] - 10s 143ms/step - loss: 0.1156 - accuracy: 0.9991 - val_loss: 0.1661 - val_accuracy: 0.9614\n",
      "Epoch 81/250\n",
      "68/68 [==============================] - 10s 143ms/step - loss: 0.1182 - accuracy: 0.9991 - val_loss: 0.1723 - val_accuracy: 0.9632\n",
      "Epoch 82/250\n",
      "68/68 [==============================] - 10s 141ms/step - loss: 0.1120 - accuracy: 0.9986 - val_loss: 0.1613 - val_accuracy: 0.9614\n",
      "Epoch 83/250\n",
      "68/68 [==============================] - 10s 142ms/step - loss: 0.1121 - accuracy: 0.9991 - val_loss: 0.1618 - val_accuracy: 0.9632\n",
      "Epoch 84/250\n",
      "68/68 [==============================] - 13s 189ms/step - loss: 0.1112 - accuracy: 0.9995 - val_loss: 0.1569 - val_accuracy: 0.9540\n",
      "Epoch 85/250\n",
      "68/68 [==============================] - 10s 143ms/step - loss: 0.1075 - accuracy: 0.9995 - val_loss: 0.1858 - val_accuracy: 0.9596\n",
      "Epoch 86/250\n",
      "68/68 [==============================] - 10s 144ms/step - loss: 0.1095 - accuracy: 0.9995 - val_loss: 0.1686 - val_accuracy: 0.9596\n",
      "Epoch 87/250\n",
      "68/68 [==============================] - 10s 143ms/step - loss: 0.1069 - accuracy: 0.9995 - val_loss: 0.1582 - val_accuracy: 0.9614\n",
      "Epoch 88/250\n",
      "68/68 [==============================] - 10s 143ms/step - loss: 0.1023 - accuracy: 0.9982 - val_loss: 0.1571 - val_accuracy: 0.9577\n",
      "Epoch 89/250\n",
      "68/68 [==============================] - 25s 377ms/step - loss: 0.1016 - accuracy: 0.9991 - val_loss: 0.1535 - val_accuracy: 0.9614\n",
      "Epoch 90/250\n",
      "68/68 [==============================] - 10s 143ms/step - loss: 0.1040 - accuracy: 0.9991 - val_loss: 0.1597 - val_accuracy: 0.9540\n",
      "Epoch 91/250\n",
      "68/68 [==============================] - 23s 342ms/step - loss: 0.0980 - accuracy: 0.9986 - val_loss: 0.1477 - val_accuracy: 0.9577\n",
      "Epoch 92/250\n",
      "68/68 [==============================] - 10s 142ms/step - loss: 0.1011 - accuracy: 0.9995 - val_loss: 0.1546 - val_accuracy: 0.9669\n",
      "Epoch 93/250\n",
      "68/68 [==============================] - 10s 143ms/step - loss: 0.0900 - accuracy: 1.0000 - val_loss: 0.1484 - val_accuracy: 0.9596\n",
      "Epoch 94/250\n",
      "68/68 [==============================] - 12s 181ms/step - loss: 0.0895 - accuracy: 1.0000 - val_loss: 0.1470 - val_accuracy: 0.9632\n",
      "Epoch 95/250\n",
      "68/68 [==============================] - 10s 146ms/step - loss: 0.0890 - accuracy: 0.9982 - val_loss: 0.1471 - val_accuracy: 0.9614\n",
      "Epoch 96/250\n",
      "68/68 [==============================] - 19s 275ms/step - loss: 0.0890 - accuracy: 0.9995 - val_loss: 0.1452 - val_accuracy: 0.9632\n",
      "Epoch 97/250\n",
      "68/68 [==============================] - 34s 508ms/step - loss: 0.0860 - accuracy: 0.9995 - val_loss: 0.1436 - val_accuracy: 0.9577\n",
      "Epoch 98/250\n",
      "68/68 [==============================] - 10s 144ms/step - loss: 0.0821 - accuracy: 0.9991 - val_loss: 0.1480 - val_accuracy: 0.9632\n",
      "Epoch 99/250\n",
      "68/68 [==============================] - 21s 306ms/step - loss: 0.0852 - accuracy: 0.9991 - val_loss: 0.1405 - val_accuracy: 0.9577\n",
      "Epoch 100/250\n",
      "68/68 [==============================] - 10s 141ms/step - loss: 0.0834 - accuracy: 0.9995 - val_loss: 0.1501 - val_accuracy: 0.9614\n",
      "Epoch 101/250\n",
      "68/68 [==============================] - 10s 142ms/step - loss: 0.0908 - accuracy: 0.9982 - val_loss: 0.1611 - val_accuracy: 0.9651\n",
      "Epoch 102/250\n",
      "68/68 [==============================] - 10s 145ms/step - loss: 0.0778 - accuracy: 1.0000 - val_loss: 0.1451 - val_accuracy: 0.9632\n",
      "Epoch 103/250\n",
      "68/68 [==============================] - 13s 192ms/step - loss: 0.0794 - accuracy: 0.9995 - val_loss: 0.1384 - val_accuracy: 0.9596\n",
      "Epoch 104/250\n",
      "68/68 [==============================] - 10s 143ms/step - loss: 0.0754 - accuracy: 0.9991 - val_loss: 0.1446 - val_accuracy: 0.9614\n",
      "Epoch 105/250\n",
      "68/68 [==============================] - 10s 145ms/step - loss: 0.0824 - accuracy: 0.9991 - val_loss: 0.1407 - val_accuracy: 0.9669\n",
      "Epoch 106/250\n",
      "68/68 [==============================] - 10s 144ms/step - loss: 0.0714 - accuracy: 0.9995 - val_loss: 0.1407 - val_accuracy: 0.9632\n",
      "Epoch 107/250\n",
      "68/68 [==============================] - 13s 190ms/step - loss: 0.0738 - accuracy: 0.9995 - val_loss: 0.1328 - val_accuracy: 0.9632\n",
      "Epoch 108/250\n",
      "68/68 [==============================] - 10s 145ms/step - loss: 0.0694 - accuracy: 0.9995 - val_loss: 0.1379 - val_accuracy: 0.9614\n",
      "Epoch 109/250\n",
      "68/68 [==============================] - 10s 147ms/step - loss: 0.0699 - accuracy: 0.9991 - val_loss: 0.1392 - val_accuracy: 0.9632\n",
      "Epoch 110/250\n",
      "68/68 [==============================] - 10s 145ms/step - loss: 0.0693 - accuracy: 0.9991 - val_loss: 0.1402 - val_accuracy: 0.9651\n",
      "Epoch 111/250\n",
      "68/68 [==============================] - 13s 190ms/step - loss: 0.0722 - accuracy: 0.9982 - val_loss: 0.1311 - val_accuracy: 0.9614\n",
      "Epoch 112/250\n",
      "68/68 [==============================] - 10s 142ms/step - loss: 0.0672 - accuracy: 0.9986 - val_loss: 0.1369 - val_accuracy: 0.9651\n",
      "Epoch 113/250\n",
      "68/68 [==============================] - 10s 144ms/step - loss: 0.0647 - accuracy: 1.0000 - val_loss: 0.1347 - val_accuracy: 0.9614\n",
      "Epoch 114/250\n"
     ]
    },
    {
     "name": "stdout",
     "output_type": "stream",
     "text": [
      "68/68 [==============================] - 10s 148ms/step - loss: 0.0597 - accuracy: 0.9995 - val_loss: 0.1519 - val_accuracy: 0.9614\n",
      "Epoch 115/250\n",
      "68/68 [==============================] - 10s 144ms/step - loss: 0.0671 - accuracy: 1.0000 - val_loss: 0.1348 - val_accuracy: 0.9669\n",
      "Epoch 116/250\n",
      "68/68 [==============================] - 10s 144ms/step - loss: 0.0650 - accuracy: 1.0000 - val_loss: 0.1450 - val_accuracy: 0.9596\n",
      "Epoch 117/250\n",
      "68/68 [==============================] - 10s 143ms/step - loss: 0.0667 - accuracy: 1.0000 - val_loss: 0.1371 - val_accuracy: 0.9632\n",
      "Epoch 118/250\n",
      "68/68 [==============================] - 10s 145ms/step - loss: 0.0576 - accuracy: 1.0000 - val_loss: 0.1439 - val_accuracy: 0.9632\n",
      "Epoch 119/250\n",
      "68/68 [==============================] - 10s 145ms/step - loss: 0.0558 - accuracy: 0.9995 - val_loss: 0.1317 - val_accuracy: 0.9688\n",
      "Epoch 120/250\n",
      "68/68 [==============================] - 10s 145ms/step - loss: 0.0565 - accuracy: 1.0000 - val_loss: 0.1476 - val_accuracy: 0.9614\n",
      "Epoch 121/250\n",
      "68/68 [==============================] - 20s 291ms/step - loss: 0.0579 - accuracy: 0.9991 - val_loss: 0.1214 - val_accuracy: 0.9632\n",
      "Epoch 122/250\n",
      "68/68 [==============================] - 10s 144ms/step - loss: 0.0546 - accuracy: 0.9991 - val_loss: 0.1284 - val_accuracy: 0.9540\n",
      "Epoch 123/250\n",
      "68/68 [==============================] - 10s 146ms/step - loss: 0.0515 - accuracy: 0.9995 - val_loss: 0.1311 - val_accuracy: 0.9614\n",
      "Epoch 124/250\n",
      "68/68 [==============================] - 10s 144ms/step - loss: 0.0526 - accuracy: 0.9995 - val_loss: 0.1253 - val_accuracy: 0.9632\n",
      "Epoch 125/250\n",
      "68/68 [==============================] - 10s 145ms/step - loss: 0.0541 - accuracy: 1.0000 - val_loss: 0.1270 - val_accuracy: 0.9596\n",
      "Epoch 126/250\n",
      "68/68 [==============================] - 10s 146ms/step - loss: 0.0508 - accuracy: 0.9995 - val_loss: 0.1273 - val_accuracy: 0.9688\n",
      "Epoch 127/250\n",
      "68/68 [==============================] - 10s 144ms/step - loss: 0.0518 - accuracy: 0.9995 - val_loss: 0.1265 - val_accuracy: 0.9614\n",
      "Epoch 128/250\n",
      "68/68 [==============================] - 10s 145ms/step - loss: 0.0492 - accuracy: 0.9995 - val_loss: 0.1249 - val_accuracy: 0.9651\n",
      "Epoch 129/250\n",
      "68/68 [==============================] - 10s 146ms/step - loss: 0.0471 - accuracy: 1.0000 - val_loss: 0.1259 - val_accuracy: 0.9596\n",
      "Epoch 130/250\n",
      "68/68 [==============================] - 10s 144ms/step - loss: 0.0478 - accuracy: 1.0000 - val_loss: 0.1250 - val_accuracy: 0.9669\n",
      "Epoch 131/250\n",
      "68/68 [==============================] - 13s 194ms/step - loss: 0.0490 - accuracy: 0.9995 - val_loss: 0.1176 - val_accuracy: 0.9706\n",
      "Epoch 132/250\n",
      "68/68 [==============================] - 10s 145ms/step - loss: 0.0456 - accuracy: 1.0000 - val_loss: 0.1288 - val_accuracy: 0.9577\n",
      "Epoch 133/250\n",
      "68/68 [==============================] - 10s 147ms/step - loss: 0.0473 - accuracy: 0.9995 - val_loss: 0.1234 - val_accuracy: 0.9632\n",
      "Epoch 134/250\n",
      "68/68 [==============================] - 10s 150ms/step - loss: 0.0423 - accuracy: 0.9995 - val_loss: 0.1260 - val_accuracy: 0.9669\n",
      "Epoch 135/250\n",
      "68/68 [==============================] - 10s 148ms/step - loss: 0.0436 - accuracy: 1.0000 - val_loss: 0.1355 - val_accuracy: 0.9669\n",
      "Epoch 136/250\n",
      "68/68 [==============================] - 10s 144ms/step - loss: 0.0426 - accuracy: 0.9995 - val_loss: 0.1200 - val_accuracy: 0.9688\n",
      "Epoch 137/250\n",
      "68/68 [==============================] - 10s 146ms/step - loss: 0.0472 - accuracy: 0.9995 - val_loss: 0.1295 - val_accuracy: 0.9669\n",
      "Epoch 138/250\n",
      "68/68 [==============================] - 10s 146ms/step - loss: 0.0405 - accuracy: 1.0000 - val_loss: 0.1282 - val_accuracy: 0.9669\n",
      "Epoch 139/250\n",
      "68/68 [==============================] - 10s 145ms/step - loss: 0.0417 - accuracy: 1.0000 - val_loss: 0.1185 - val_accuracy: 0.9651\n",
      "Epoch 140/250\n",
      "68/68 [==============================] - 10s 145ms/step - loss: 0.0405 - accuracy: 1.0000 - val_loss: 0.1187 - val_accuracy: 0.9632\n",
      "Epoch 141/250\n",
      "68/68 [==============================] - 10s 147ms/step - loss: 0.0392 - accuracy: 1.0000 - val_loss: 0.1306 - val_accuracy: 0.9614\n",
      "Epoch 142/250\n",
      "68/68 [==============================] - 10s 147ms/step - loss: 0.0369 - accuracy: 1.0000 - val_loss: 0.1200 - val_accuracy: 0.9651\n",
      "Epoch 143/250\n",
      "68/68 [==============================] - 10s 145ms/step - loss: 0.0404 - accuracy: 1.0000 - val_loss: 0.1204 - val_accuracy: 0.9706\n",
      "Epoch 144/250\n",
      "68/68 [==============================] - 10s 145ms/step - loss: 0.0350 - accuracy: 0.9995 - val_loss: 0.1184 - val_accuracy: 0.9688\n",
      "Epoch 145/250\n",
      "68/68 [==============================] - 13s 198ms/step - loss: 0.0369 - accuracy: 0.9995 - val_loss: 0.1122 - val_accuracy: 0.9632\n",
      "Epoch 146/250\n",
      "68/68 [==============================] - 10s 144ms/step - loss: 0.0361 - accuracy: 1.0000 - val_loss: 0.1278 - val_accuracy: 0.9632\n",
      "Epoch 147/250\n",
      "68/68 [==============================] - 10s 144ms/step - loss: 0.0371 - accuracy: 1.0000 - val_loss: 0.1208 - val_accuracy: 0.9669\n",
      "Epoch 148/250\n",
      "68/68 [==============================] - 10s 145ms/step - loss: 0.0359 - accuracy: 1.0000 - val_loss: 0.1270 - val_accuracy: 0.9596\n",
      "Epoch 149/250\n",
      "68/68 [==============================] - 10s 146ms/step - loss: 0.0336 - accuracy: 1.0000 - val_loss: 0.1195 - val_accuracy: 0.9632\n",
      "Epoch 150/250\n",
      "68/68 [==============================] - 10s 146ms/step - loss: 0.0383 - accuracy: 1.0000 - val_loss: 0.1142 - val_accuracy: 0.9706\n",
      "Epoch 151/250\n",
      "68/68 [==============================] - 10s 144ms/step - loss: 0.0347 - accuracy: 1.0000 - val_loss: 0.1183 - val_accuracy: 0.9614\n",
      "Epoch 152/250\n",
      "68/68 [==============================] - 10s 144ms/step - loss: 0.0352 - accuracy: 0.9995 - val_loss: 0.1212 - val_accuracy: 0.9632\n",
      "Epoch 153/250\n",
      "68/68 [==============================] - 10s 146ms/step - loss: 0.0333 - accuracy: 0.9995 - val_loss: 0.1214 - val_accuracy: 0.9706\n",
      "Epoch 154/250\n",
      "68/68 [==============================] - 10s 145ms/step - loss: 0.0310 - accuracy: 1.0000 - val_loss: 0.1137 - val_accuracy: 0.9688\n",
      "Epoch 155/250\n",
      "68/68 [==============================] - 10s 146ms/step - loss: 0.0293 - accuracy: 1.0000 - val_loss: 0.1137 - val_accuracy: 0.9688\n",
      "Epoch 156/250\n",
      "68/68 [==============================] - 10s 145ms/step - loss: 0.0308 - accuracy: 1.0000 - val_loss: 0.1137 - val_accuracy: 0.9706\n",
      "Epoch 157/250\n",
      "68/68 [==============================] - 14s 213ms/step - loss: 0.0291 - accuracy: 1.0000 - val_loss: 0.1084 - val_accuracy: 0.9743\n",
      "Epoch 158/250\n",
      "68/68 [==============================] - 10s 144ms/step - loss: 0.0297 - accuracy: 1.0000 - val_loss: 0.1223 - val_accuracy: 0.9706\n",
      "Epoch 159/250\n",
      "68/68 [==============================] - 10s 147ms/step - loss: 0.0293 - accuracy: 0.9991 - val_loss: 0.1110 - val_accuracy: 0.9724\n",
      "Epoch 160/250\n",
      "68/68 [==============================] - 14s 201ms/step - loss: 0.0315 - accuracy: 0.9995 - val_loss: 0.1065 - val_accuracy: 0.9724\n",
      "Epoch 161/250\n",
      "68/68 [==============================] - 10s 144ms/step - loss: 0.0260 - accuracy: 1.0000 - val_loss: 0.1125 - val_accuracy: 0.9724\n",
      "Epoch 162/250\n",
      "68/68 [==============================] - 10s 145ms/step - loss: 0.0303 - accuracy: 1.0000 - val_loss: 0.1102 - val_accuracy: 0.9779\n",
      "Epoch 163/250\n",
      "68/68 [==============================] - 10s 145ms/step - loss: 0.0302 - accuracy: 1.0000 - val_loss: 0.1343 - val_accuracy: 0.9614\n",
      "Epoch 164/250\n",
      "68/68 [==============================] - 10s 147ms/step - loss: 0.0283 - accuracy: 0.9995 - val_loss: 0.1163 - val_accuracy: 0.9688\n",
      "Epoch 165/250\n",
      "68/68 [==============================] - 10s 147ms/step - loss: 0.0254 - accuracy: 1.0000 - val_loss: 0.1101 - val_accuracy: 0.9688\n",
      "Epoch 166/250\n",
      "68/68 [==============================] - 10s 147ms/step - loss: 0.0262 - accuracy: 1.0000 - val_loss: 0.1131 - val_accuracy: 0.9743\n",
      "Epoch 167/250\n",
      "68/68 [==============================] - 10s 145ms/step - loss: 0.0257 - accuracy: 1.0000 - val_loss: 0.1114 - val_accuracy: 0.9724\n",
      "Epoch 168/250\n",
      "68/68 [==============================] - 10s 150ms/step - loss: 0.0260 - accuracy: 1.0000 - val_loss: 0.1107 - val_accuracy: 0.9706\n",
      "Epoch 169/250\n",
      "68/68 [==============================] - 10s 151ms/step - loss: 0.0255 - accuracy: 1.0000 - val_loss: 0.1105 - val_accuracy: 0.9688\n",
      "Epoch 170/250\n"
     ]
    },
    {
     "name": "stdout",
     "output_type": "stream",
     "text": [
      "68/68 [==============================] - 10s 153ms/step - loss: 0.0268 - accuracy: 1.0000 - val_loss: 0.1102 - val_accuracy: 0.9706\n",
      "Epoch 171/250\n",
      "68/68 [==============================] - 10s 143ms/step - loss: 0.0263 - accuracy: 0.9995 - val_loss: 0.1109 - val_accuracy: 0.9724\n",
      "Epoch 172/250\n",
      "68/68 [==============================] - 10s 144ms/step - loss: 0.0275 - accuracy: 1.0000 - val_loss: 0.1295 - val_accuracy: 0.9651\n",
      "Epoch 173/250\n",
      "68/68 [==============================] - 10s 145ms/step - loss: 0.0263 - accuracy: 1.0000 - val_loss: 0.1246 - val_accuracy: 0.9651\n",
      "Epoch 174/250\n",
      "68/68 [==============================] - 10s 144ms/step - loss: 0.0248 - accuracy: 0.9995 - val_loss: 0.1174 - val_accuracy: 0.9669\n",
      "Epoch 175/250\n",
      "68/68 [==============================] - 10s 144ms/step - loss: 0.0247 - accuracy: 1.0000 - val_loss: 0.1083 - val_accuracy: 0.9688\n",
      "Epoch 176/250\n",
      "68/68 [==============================] - 10s 143ms/step - loss: 0.0238 - accuracy: 1.0000 - val_loss: 0.1092 - val_accuracy: 0.9743\n",
      "Epoch 177/250\n",
      "68/68 [==============================] - 115s 2s/step - loss: 0.0274 - accuracy: 1.0000 - val_loss: 0.1048 - val_accuracy: 0.9724\n",
      "Epoch 178/250\n",
      "68/68 [==============================] - 10s 140ms/step - loss: 0.0241 - accuracy: 0.9995 - val_loss: 0.1054 - val_accuracy: 0.9706\n",
      "Epoch 179/250\n",
      "68/68 [==============================] - 10s 144ms/step - loss: 0.0267 - accuracy: 1.0000 - val_loss: 0.1077 - val_accuracy: 0.9706\n",
      "Epoch 180/250\n",
      "68/68 [==============================] - 10s 143ms/step - loss: 0.0250 - accuracy: 1.0000 - val_loss: 0.1239 - val_accuracy: 0.9688\n",
      "Epoch 181/250\n",
      "68/68 [==============================] - 10s 143ms/step - loss: 0.0242 - accuracy: 0.9995 - val_loss: 0.1156 - val_accuracy: 0.9706\n",
      "Epoch 182/250\n",
      "68/68 [==============================] - 10s 145ms/step - loss: 0.0203 - accuracy: 1.0000 - val_loss: 0.1164 - val_accuracy: 0.9706\n",
      "Epoch 183/250\n",
      "68/68 [==============================] - 10s 144ms/step - loss: 0.0205 - accuracy: 0.9995 - val_loss: 0.1079 - val_accuracy: 0.9688\n",
      "Epoch 184/250\n",
      "68/68 [==============================] - 13s 199ms/step - loss: 0.0199 - accuracy: 1.0000 - val_loss: 0.1021 - val_accuracy: 0.9724\n",
      "Epoch 185/250\n",
      "68/68 [==============================] - 70s 1s/step - loss: 0.0183 - accuracy: 1.0000 - val_loss: 0.1009 - val_accuracy: 0.9706\n",
      "Epoch 186/250\n",
      "68/68 [==============================] - 10s 147ms/step - loss: 0.0216 - accuracy: 1.0000 - val_loss: 0.1066 - val_accuracy: 0.9724\n",
      "Epoch 187/250\n",
      "68/68 [==============================] - 10s 145ms/step - loss: 0.0214 - accuracy: 1.0000 - val_loss: 0.1337 - val_accuracy: 0.9614\n",
      "Epoch 188/250\n",
      "68/68 [==============================] - 10s 150ms/step - loss: 0.0205 - accuracy: 0.9986 - val_loss: 0.1171 - val_accuracy: 0.9614\n",
      "Epoch 189/250\n",
      "68/68 [==============================] - 10s 145ms/step - loss: 0.0242 - accuracy: 0.9995 - val_loss: 0.1154 - val_accuracy: 0.9596\n",
      "Epoch 190/250\n",
      "68/68 [==============================] - 10s 144ms/step - loss: 0.0183 - accuracy: 1.0000 - val_loss: 0.1122 - val_accuracy: 0.9724\n",
      "Epoch 191/250\n",
      "68/68 [==============================] - 10s 154ms/step - loss: 0.0184 - accuracy: 1.0000 - val_loss: 0.1146 - val_accuracy: 0.9724\n",
      "Epoch 192/250\n",
      "68/68 [==============================] - 10s 152ms/step - loss: 0.0190 - accuracy: 1.0000 - val_loss: 0.1023 - val_accuracy: 0.9651\n",
      "Epoch 193/250\n",
      "68/68 [==============================] - 11s 155ms/step - loss: 0.0196 - accuracy: 0.9995 - val_loss: 0.1060 - val_accuracy: 0.9651\n",
      "Epoch 194/250\n",
      "68/68 [==============================] - 11s 158ms/step - loss: 0.0201 - accuracy: 1.0000 - val_loss: 0.1153 - val_accuracy: 0.9669\n",
      "Epoch 195/250\n",
      "68/68 [==============================] - 13s 189ms/step - loss: 0.0182 - accuracy: 1.0000 - val_loss: 0.1088 - val_accuracy: 0.9743\n",
      "Epoch 196/250\n",
      "68/68 [==============================] - 42s 624ms/step - loss: 0.0186 - accuracy: 0.9991 - val_loss: 0.0990 - val_accuracy: 0.9669\n",
      "Epoch 197/250\n",
      "68/68 [==============================] - 10s 145ms/step - loss: 0.0172 - accuracy: 0.9995 - val_loss: 0.1041 - val_accuracy: 0.9669\n",
      "Epoch 198/250\n",
      "68/68 [==============================] - 10s 145ms/step - loss: 0.0165 - accuracy: 1.0000 - val_loss: 0.1127 - val_accuracy: 0.9651\n",
      "Epoch 199/250\n",
      "68/68 [==============================] - 10s 142ms/step - loss: 0.0157 - accuracy: 1.0000 - val_loss: 0.1138 - val_accuracy: 0.9688\n",
      "Epoch 200/250\n",
      "68/68 [==============================] - 10s 146ms/step - loss: 0.0169 - accuracy: 1.0000 - val_loss: 0.1103 - val_accuracy: 0.9743\n",
      "Epoch 201/250\n",
      "68/68 [==============================] - 10s 144ms/step - loss: 0.0154 - accuracy: 1.0000 - val_loss: 0.1009 - val_accuracy: 0.9724\n",
      "Epoch 202/250\n",
      "68/68 [==============================] - 10s 144ms/step - loss: 0.0157 - accuracy: 1.0000 - val_loss: 0.1032 - val_accuracy: 0.9669\n",
      "Epoch 203/250\n",
      "68/68 [==============================] - 48s 713ms/step - loss: 0.0167 - accuracy: 1.0000 - val_loss: 0.0886 - val_accuracy: 0.9743\n",
      "Epoch 204/250\n",
      "68/68 [==============================] - 10s 145ms/step - loss: 0.0139 - accuracy: 1.0000 - val_loss: 0.1010 - val_accuracy: 0.9706\n",
      "Epoch 205/250\n",
      "68/68 [==============================] - 10s 146ms/step - loss: 0.0149 - accuracy: 1.0000 - val_loss: 0.0939 - val_accuracy: 0.9688\n",
      "Epoch 206/250\n",
      "68/68 [==============================] - 10s 149ms/step - loss: 0.0164 - accuracy: 1.0000 - val_loss: 0.0980 - val_accuracy: 0.9743\n",
      "Epoch 207/250\n",
      "68/68 [==============================] - 10s 147ms/step - loss: 0.0131 - accuracy: 1.0000 - val_loss: 0.1070 - val_accuracy: 0.9669\n",
      "Epoch 208/250\n",
      "68/68 [==============================] - 10s 146ms/step - loss: 0.0132 - accuracy: 1.0000 - val_loss: 0.1108 - val_accuracy: 0.9706\n",
      "Epoch 209/250\n",
      "68/68 [==============================] - 10s 153ms/step - loss: 0.0134 - accuracy: 1.0000 - val_loss: 0.0999 - val_accuracy: 0.9688\n",
      "Epoch 210/250\n",
      "68/68 [==============================] - 10s 149ms/step - loss: 0.0142 - accuracy: 1.0000 - val_loss: 0.0944 - val_accuracy: 0.9724\n",
      "Epoch 211/250\n",
      "68/68 [==============================] - 10s 148ms/step - loss: 0.0179 - accuracy: 1.0000 - val_loss: 0.1137 - val_accuracy: 0.9724\n",
      "Epoch 212/250\n",
      "68/68 [==============================] - 10s 147ms/step - loss: 0.0167 - accuracy: 1.0000 - val_loss: 0.1126 - val_accuracy: 0.9688\n",
      "Epoch 213/250\n",
      "68/68 [==============================] - 10s 152ms/step - loss: 0.0166 - accuracy: 1.0000 - val_loss: 0.0921 - val_accuracy: 0.9724\n",
      "Epoch 214/250\n",
      "68/68 [==============================] - 10s 149ms/step - loss: 0.0165 - accuracy: 1.0000 - val_loss: 0.0957 - val_accuracy: 0.9761\n",
      "Epoch 215/250\n",
      "68/68 [==============================] - 10s 146ms/step - loss: 0.0149 - accuracy: 1.0000 - val_loss: 0.0905 - val_accuracy: 0.9706\n",
      "Epoch 216/250\n",
      "68/68 [==============================] - 10s 146ms/step - loss: 0.0180 - accuracy: 1.0000 - val_loss: 0.1013 - val_accuracy: 0.9651\n",
      "Epoch 217/250\n",
      "68/68 [==============================] - 10s 151ms/step - loss: 0.0144 - accuracy: 1.0000 - val_loss: 0.1015 - val_accuracy: 0.9706\n",
      "Epoch 218/250\n",
      "68/68 [==============================] - 10s 150ms/step - loss: 0.0183 - accuracy: 0.9995 - val_loss: 0.1028 - val_accuracy: 0.9706\n",
      "Epoch 219/250\n",
      "68/68 [==============================] - 10s 147ms/step - loss: 0.0136 - accuracy: 1.0000 - val_loss: 0.1079 - val_accuracy: 0.9743\n",
      "Epoch 220/250\n",
      "68/68 [==============================] - 10s 150ms/step - loss: 0.0150 - accuracy: 0.9995 - val_loss: 0.1074 - val_accuracy: 0.9669\n",
      "Epoch 221/250\n",
      "68/68 [==============================] - 10s 153ms/step - loss: 0.0146 - accuracy: 1.0000 - val_loss: 0.0970 - val_accuracy: 0.9724\n",
      "Epoch 222/250\n",
      "68/68 [==============================] - 10s 151ms/step - loss: 0.0134 - accuracy: 1.0000 - val_loss: 0.0975 - val_accuracy: 0.9743\n",
      "Epoch 223/250\n",
      "68/68 [==============================] - 10s 148ms/step - loss: 0.0140 - accuracy: 0.9995 - val_loss: 0.1170 - val_accuracy: 0.9651\n",
      "Epoch 224/250\n",
      "68/68 [==============================] - 10s 146ms/step - loss: 0.0159 - accuracy: 1.0000 - val_loss: 0.1044 - val_accuracy: 0.9724\n",
      "Epoch 225/250\n",
      "68/68 [==============================] - 10s 147ms/step - loss: 0.0146 - accuracy: 1.0000 - val_loss: 0.1078 - val_accuracy: 0.9669\n",
      "Epoch 226/250\n"
     ]
    },
    {
     "name": "stdout",
     "output_type": "stream",
     "text": [
      "68/68 [==============================] - 10s 146ms/step - loss: 0.0154 - accuracy: 1.0000 - val_loss: 0.1041 - val_accuracy: 0.9688\n",
      "Epoch 227/250\n",
      "68/68 [==============================] - 10s 151ms/step - loss: 0.0146 - accuracy: 0.9995 - val_loss: 0.0980 - val_accuracy: 0.9743\n",
      "Epoch 228/250\n",
      "68/68 [==============================] - 10s 154ms/step - loss: 0.0145 - accuracy: 1.0000 - val_loss: 0.0972 - val_accuracy: 0.9761\n",
      "Epoch 229/250\n",
      "68/68 [==============================] - 10s 149ms/step - loss: 0.0126 - accuracy: 1.0000 - val_loss: 0.1043 - val_accuracy: 0.9688\n",
      "Epoch 230/250\n",
      "68/68 [==============================] - 10s 150ms/step - loss: 0.0137 - accuracy: 0.9995 - val_loss: 0.0917 - val_accuracy: 0.9724\n",
      "Epoch 231/250\n",
      "68/68 [==============================] - 10s 150ms/step - loss: 0.0115 - accuracy: 1.0000 - val_loss: 0.0997 - val_accuracy: 0.9724\n",
      "Epoch 232/250\n",
      "68/68 [==============================] - 10s 148ms/step - loss: 0.0148 - accuracy: 0.9995 - val_loss: 0.0941 - val_accuracy: 0.9706\n",
      "Epoch 233/250\n",
      "68/68 [==============================] - 10s 149ms/step - loss: 0.0129 - accuracy: 1.0000 - val_loss: 0.1013 - val_accuracy: 0.9706\n",
      "Epoch 234/250\n",
      "68/68 [==============================] - 10s 149ms/step - loss: 0.0145 - accuracy: 1.0000 - val_loss: 0.1036 - val_accuracy: 0.9706\n",
      "Epoch 235/250\n",
      "68/68 [==============================] - 10s 153ms/step - loss: 0.0135 - accuracy: 1.0000 - val_loss: 0.1040 - val_accuracy: 0.9743\n",
      "Epoch 236/250\n",
      "68/68 [==============================] - 11s 157ms/step - loss: 0.0130 - accuracy: 1.0000 - val_loss: 0.1125 - val_accuracy: 0.9743\n",
      "Epoch 237/250\n",
      "68/68 [==============================] - 10s 154ms/step - loss: 0.0117 - accuracy: 1.0000 - val_loss: 0.1067 - val_accuracy: 0.9724\n",
      "Epoch 238/250\n",
      "68/68 [==============================] - 11s 156ms/step - loss: 0.0117 - accuracy: 0.9995 - val_loss: 0.1000 - val_accuracy: 0.9724\n",
      "Epoch 239/250\n",
      "68/68 [==============================] - 10s 147ms/step - loss: 0.0141 - accuracy: 0.9995 - val_loss: 0.1030 - val_accuracy: 0.9669\n",
      "Epoch 240/250\n",
      "68/68 [==============================] - 10s 144ms/step - loss: 0.0138 - accuracy: 1.0000 - val_loss: 0.1195 - val_accuracy: 0.9651\n",
      "Epoch 241/250\n",
      "68/68 [==============================] - 10s 151ms/step - loss: 0.0144 - accuracy: 1.0000 - val_loss: 0.1181 - val_accuracy: 0.9669\n",
      "Epoch 242/250\n",
      "68/68 [==============================] - 10s 150ms/step - loss: 0.0132 - accuracy: 1.0000 - val_loss: 0.0953 - val_accuracy: 0.9688\n",
      "Epoch 243/250\n",
      "68/68 [==============================] - 10s 150ms/step - loss: 0.0126 - accuracy: 1.0000 - val_loss: 0.1248 - val_accuracy: 0.9632\n",
      "Epoch 244/250\n",
      "68/68 [==============================] - 10s 150ms/step - loss: 0.0110 - accuracy: 1.0000 - val_loss: 0.1016 - val_accuracy: 0.9724\n",
      "Epoch 245/250\n",
      "68/68 [==============================] - 14s 212ms/step - loss: 0.0121 - accuracy: 1.0000 - val_loss: 0.0845 - val_accuracy: 0.9798\n",
      "Epoch 246/250\n",
      "68/68 [==============================] - 11s 155ms/step - loss: 0.0126 - accuracy: 1.0000 - val_loss: 0.0893 - val_accuracy: 0.9724\n",
      "Epoch 247/250\n",
      "68/68 [==============================] - 11s 156ms/step - loss: 0.0116 - accuracy: 1.0000 - val_loss: 0.0897 - val_accuracy: 0.9743\n",
      "Epoch 248/250\n",
      "68/68 [==============================] - 11s 155ms/step - loss: 0.0121 - accuracy: 1.0000 - val_loss: 0.1023 - val_accuracy: 0.9724\n",
      "Epoch 249/250\n",
      "68/68 [==============================] - 11s 156ms/step - loss: 0.0132 - accuracy: 1.0000 - val_loss: 0.1195 - val_accuracy: 0.9669\n",
      "Epoch 250/250\n",
      "68/68 [==============================] - 10s 154ms/step - loss: 0.0118 - accuracy: 1.0000 - val_loss: 0.1141 - val_accuracy: 0.9688\n"
     ]
    }
   ],
   "source": [
    "history_inception = inception_model.fit(inception_xtrain, y_train, batch_size=32, epochs=250, validation_data=(inception_xtest, y_test), callbacks=[checkpoint_inception])"
   ]
  },
  {
   "cell_type": "code",
   "execution_count": 22,
   "metadata": {
    "execution": {
     "iopub.execute_input": "2023-08-30T07:18:15.357027Z",
     "iopub.status.busy": "2023-08-30T07:18:15.355517Z",
     "iopub.status.idle": "2023-08-30T07:18:15.370589Z",
     "shell.execute_reply": "2023-08-30T07:18:15.369551Z",
     "shell.execute_reply.started": "2023-08-30T07:18:15.356989Z"
    }
   },
   "outputs": [],
   "source": [
    "df = pd.DataFrame(history_inception.history)\n",
    "df.to_csv('Results/Inception_history.csv')"
   ]
  },
  {
   "cell_type": "code",
   "execution_count": 29,
   "metadata": {
    "execution": {
     "iopub.execute_input": "2023-08-30T07:27:43.874240Z",
     "iopub.status.busy": "2023-08-30T07:27:43.873883Z",
     "iopub.status.idle": "2023-08-30T07:27:45.084557Z",
     "shell.execute_reply": "2023-08-30T07:27:45.083544Z",
     "shell.execute_reply.started": "2023-08-30T07:27:43.874212Z"
    }
   },
   "outputs": [],
   "source": [
    "inception_model = keras.models.load_model(\"Results/Inception_Models/inception_Model-245.h5\")"
   ]
  },
  {
   "cell_type": "code",
   "execution_count": 30,
   "metadata": {
    "execution": {
     "iopub.execute_input": "2023-08-30T07:27:45.086861Z",
     "iopub.status.busy": "2023-08-30T07:27:45.086514Z",
     "iopub.status.idle": "2023-08-30T07:27:46.181520Z",
     "shell.execute_reply": "2023-08-30T07:27:46.180345Z",
     "shell.execute_reply.started": "2023-08-30T07:27:45.086828Z"
    }
   },
   "outputs": [
    {
     "name": "stdout",
     "output_type": "stream",
     "text": [
      "[[  6   4   0   0   0   0]\n",
      " [  0 476   0   0   0   0]\n",
      " [  0   3  17   0   1   0]\n",
      " [  0   0   0   1   0   0]\n",
      " [  0   2   0   0  20   0]\n",
      " [  0   1   0   0   0  13]]\n"
     ]
    },
    {
     "data": {
      "text/plain": [
       "(0.9797794117647058,\n",
       " 0.9800701144655394,\n",
       " 0.9797794117647058,\n",
       " 0.9784706737072367)"
      ]
     },
     "execution_count": 30,
     "metadata": {},
     "output_type": "execute_result"
    }
   ],
   "source": [
    "y_pred = inception_model.predict(inception_xtest)\n",
    "\n",
    "pred = []\n",
    "for i in y_pred:\n",
    "    pred.append(np.argmax(i))\n",
    "pred = np.array(pred)\n",
    "\n",
    "real = []\n",
    "for i in y_test:\n",
    "    real.append(np.argmax(i))\n",
    "real = np.array(real)\n",
    "    \n",
    "print(confusion_matrix(real, pred))\n",
    "accuracy_score(real, pred), precision_score(real, pred, average='weighted'), recall_score(real, pred, average='weighted'), f1_score(real, pred, average='weighted')"
   ]
  },
  {
   "cell_type": "code",
   "execution_count": 31,
   "metadata": {
    "execution": {
     "iopub.execute_input": "2023-08-30T07:28:26.237016Z",
     "iopub.status.busy": "2023-08-30T07:28:26.236634Z",
     "iopub.status.idle": "2023-08-30T07:28:31.098795Z",
     "shell.execute_reply": "2023-08-30T07:28:31.097642Z",
     "shell.execute_reply.started": "2023-08-30T07:28:26.236986Z"
    }
   },
   "outputs": [
    {
     "name": "stdout",
     "output_type": "stream",
     "text": [
      "[[  38    0    0    0    0    0]\n",
      " [   0 1903    0    0    0    0]\n",
      " [   0    0   84    0    0    0]\n",
      " [   0    0    0    5    0    0]\n",
      " [   0    0    0    0   89    0]\n",
      " [   0    0    0    0    0   55]]\n"
     ]
    },
    {
     "data": {
      "text/plain": [
       "(1.0, 1.0, 1.0, 1.0)"
      ]
     },
     "execution_count": 31,
     "metadata": {},
     "output_type": "execute_result"
    }
   ],
   "source": [
    "y_pred = inception_model.predict(inception_xtrain)\n",
    "\n",
    "pred = []\n",
    "for i in y_pred:\n",
    "    pred.append(np.argmax(i))\n",
    "pred = np.array(pred)\n",
    "\n",
    "real = []\n",
    "for i in y_train:\n",
    "    real.append(np.argmax(i))\n",
    "real = np.array(real)\n",
    "    \n",
    "print(confusion_matrix(real, pred))\n",
    "accuracy_score(real, pred), precision_score(real, pred, average='weighted'), recall_score(real, pred, average='weighted'), f1_score(real, pred, average='weighted')"
   ]
  },
  {
   "cell_type": "code",
   "execution_count": 28,
   "metadata": {
    "execution": {
     "iopub.execute_input": "2023-08-30T07:28:31.103348Z",
     "iopub.status.busy": "2023-08-30T07:28:31.102894Z",
     "iopub.status.idle": "2023-08-30T07:28:31.643140Z",
     "shell.execute_reply": "2023-08-30T07:28:31.642203Z",
     "shell.execute_reply.started": "2023-08-30T07:28:31.103315Z"
    }
   },
   "outputs": [
    {
     "data": {
      "image/png": "[encoded data removed]",
      "text/plain": [
       "<Figure size 576x360 with 1 Axes>"
      ]
     },
     "metadata": {
      "needs_background": "light"
     },
     "output_type": "display_data"
    }
   ],
   "source": [
    "pd.DataFrame(history_inception.history).plot(figsize = (8, 5))\n",
    "plt.grid(True)\n",
    "plt.gca().set_ylim(-0.1, 1.1)\n",
    "plt.savefig(\"Results/Inception_Attention_Graph.png\")\n",
    "plt.show()"
   ]
  },
  {
   "cell_type": "code",
   "execution_count": null,
   "metadata": {},
   "outputs": [],
   "source": []
  }
 ],
 "metadata": {
  "kernelspec": {
   "display_name": "Python 3 (ipykernel)",
   "language": "python",
   "name": "python3"
  },
  "language_info": {
   "codemirror_mode": {
    "name": "ipython",
    "version": 3
   },
   "file_extension": ".py",
   "mimetype": "text/x-python",
   "name": "python",
   "nbconvert_exporter": "python",
   "pygments_lexer": "ipython3",
   "version": "3.9.7"
  }
 },
 "nbformat": 4,
 "nbformat_minor": 4
}
